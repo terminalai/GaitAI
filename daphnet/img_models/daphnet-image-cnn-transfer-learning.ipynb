{
 "cells": [
  {
   "cell_type": "code",
   "execution_count": 1,
   "metadata": {
    "_cell_guid": "b1076dfc-b9ad-4769-8c92-a6c4dae69d19",
    "_uuid": "8f2839f25d086af736a60e9eeb907d3b93b6e0e5",
    "execution": {
     "iopub.execute_input": "2023-01-01T14:54:08.326785Z",
     "iopub.status.busy": "2023-01-01T14:54:08.325644Z",
     "iopub.status.idle": "2023-01-01T14:54:13.541459Z",
     "shell.execute_reply": "2023-01-01T14:54:13.539203Z",
     "shell.execute_reply.started": "2023-01-01T14:54:08.326609Z"
    }
   },
   "outputs": [
    {
     "name": "stdout",
     "output_type": "stream",
     "text": [
      "Tensorflow version 2.6.4\n"
     ]
    }
   ],
   "source": [
    "import warnings\n",
    "warnings.filterwarnings(\"ignore\")\n",
    "\n",
    "import pandas as pd\n",
    "import numpy as np\n",
    "import matplotlib.pyplot as plt\n",
    "\n",
    "import os\n",
    "\n",
    "def mkdir(route):\n",
    "    try: os.mkdir(route)\n",
    "    except Exception as e: print(e)\n",
    "\n",
    "import tensorflow as tf\n",
    "from tensorflow import keras\n",
    "from tensorflow.keras import layers\n",
    "\n",
    "tf.compat.v1.enable_eager_execution()\n",
    "\n",
    "print(\"Tensorflow version \" + tf.__version__)"
   ]
  },
  {
   "cell_type": "code",
   "execution_count": 2,
   "metadata": {
    "execution": {
     "iopub.execute_input": "2023-01-01T14:54:13.544524Z",
     "iopub.status.busy": "2023-01-01T14:54:13.543394Z",
     "iopub.status.idle": "2023-01-01T14:54:16.218319Z",
     "shell.execute_reply": "2023-01-01T14:54:16.217399Z",
     "shell.execute_reply.started": "2023-01-01T14:54:13.544483Z"
    }
   },
   "outputs": [
    {
     "name": "stderr",
     "output_type": "stream",
     "text": [
      "2023-01-01 14:54:13.609328: I tensorflow/stream_executor/cuda/cuda_gpu_executor.cc:937] successful NUMA node read from SysFS had negative value (-1), but there must be at least one NUMA node, so returning NUMA node zero\n",
      "2023-01-01 14:54:13.688753: I tensorflow/stream_executor/cuda/cuda_gpu_executor.cc:937] successful NUMA node read from SysFS had negative value (-1), but there must be at least one NUMA node, so returning NUMA node zero\n",
      "2023-01-01 14:54:13.689549: I tensorflow/stream_executor/cuda/cuda_gpu_executor.cc:937] successful NUMA node read from SysFS had negative value (-1), but there must be at least one NUMA node, so returning NUMA node zero\n",
      "2023-01-01 14:54:13.692090: I tensorflow/core/platform/cpu_feature_guard.cc:142] This TensorFlow binary is optimized with oneAPI Deep Neural Network Library (oneDNN) to use the following CPU instructions in performance-critical operations:  AVX2 AVX512F FMA\n",
      "To enable them in other operations, rebuild TensorFlow with the appropriate compiler flags.\n",
      "2023-01-01 14:54:13.692408: I tensorflow/stream_executor/cuda/cuda_gpu_executor.cc:937] successful NUMA node read from SysFS had negative value (-1), but there must be at least one NUMA node, so returning NUMA node zero\n",
      "2023-01-01 14:54:13.693280: I tensorflow/stream_executor/cuda/cuda_gpu_executor.cc:937] successful NUMA node read from SysFS had negative value (-1), but there must be at least one NUMA node, so returning NUMA node zero\n",
      "2023-01-01 14:54:13.694015: I tensorflow/stream_executor/cuda/cuda_gpu_executor.cc:937] successful NUMA node read from SysFS had negative value (-1), but there must be at least one NUMA node, so returning NUMA node zero\n",
      "2023-01-01 14:54:15.654919: I tensorflow/stream_executor/cuda/cuda_gpu_executor.cc:937] successful NUMA node read from SysFS had negative value (-1), but there must be at least one NUMA node, so returning NUMA node zero\n",
      "2023-01-01 14:54:15.656110: I tensorflow/stream_executor/cuda/cuda_gpu_executor.cc:937] successful NUMA node read from SysFS had negative value (-1), but there must be at least one NUMA node, so returning NUMA node zero\n",
      "2023-01-01 14:54:15.657117: I tensorflow/stream_executor/cuda/cuda_gpu_executor.cc:937] successful NUMA node read from SysFS had negative value (-1), but there must be at least one NUMA node, so returning NUMA node zero\n",
      "2023-01-01 14:54:15.658058: I tensorflow/core/common_runtime/gpu/gpu_device.cc:1510] Created device /job:localhost/replica:0/task:0/device:GPU:0 with 15401 MB memory:  -> device: 0, name: Tesla P100-PCIE-16GB, pci bus id: 0000:00:04.0, compute capability: 6.0\n"
     ]
    }
   ],
   "source": [
    "feature_desc = {\n",
    "    'x': tf.io.FixedLenFeature([], tf.string),\n",
    "    'y': tf.io.FixedLenFeature([], tf.string)\n",
    "}\n",
    "\n",
    "def parse_example(example_proto):\n",
    "    res = tf.io.parse_single_example(example_proto, feature_desc)\n",
    "    x = tf.io.parse_tensor(res['x'], out_type=tf.int64)\n",
    "    y = tf.io.parse_tensor(res['y'], out_type=tf.int64)\n",
    "    x.set_shape((16, 16, 3))\n",
    "    y.set_shape(())\n",
    "    return x, y\n",
    "\n",
    "train_val_ds = tf.data.TFRecordDataset(\"/kaggle/input/daphnet-images/train.tfrecord\").map(parse_example).batch(64)\n",
    "test_ds = tf.data.TFRecordDataset(\"/kaggle/input/daphnet-images/test.tfrecord\").map(parse_example).batch(64)\n",
    "\n",
    "TRAIN_VAL_BATCHES = 15389\n",
    "TRAIN_BATCHES = int(TRAIN_VAL_BATCHES * 0.9)\n",
    "\n",
    "train_ds = train_val_ds.take(TRAIN_BATCHES)\n",
    "val_ds = train_val_ds.skip(TRAIN_BATCHES).take(TRAIN_VAL_BATCHES - TRAIN_BATCHES)"
   ]
  },
  {
   "cell_type": "code",
   "execution_count": 16,
   "metadata": {
    "execution": {
     "iopub.execute_input": "2023-01-01T16:33:58.546700Z",
     "iopub.status.busy": "2023-01-01T16:33:58.546333Z",
     "iopub.status.idle": "2023-01-01T16:33:58.629418Z",
     "shell.execute_reply": "2023-01-01T16:33:58.628314Z",
     "shell.execute_reply.started": "2023-01-01T16:33:58.546668Z"
    }
   },
   "outputs": [
    {
     "name": "stdout",
     "output_type": "stream",
     "text": [
      "Model: \"sequential_1\"\n",
      "_________________________________________________________________\n",
      "Layer (type)                 Output Shape              Param #   \n",
      "=================================================================\n",
      "conv2d_4 (Conv2D)            (None, 16, 16, 32)        896       \n",
      "_________________________________________________________________\n",
      "conv2d_5 (Conv2D)            (None, 16, 16, 56)        16184     \n",
      "_________________________________________________________________\n",
      "max_pooling2d_3 (MaxPooling2 (None, 8, 8, 56)          0         \n",
      "_________________________________________________________________\n",
      "dropout_2 (Dropout)          (None, 8, 8, 56)          0         \n",
      "_________________________________________________________________\n",
      "conv2d_6 (Conv2D)            (None, 8, 8, 128)         64640     \n",
      "_________________________________________________________________\n",
      "max_pooling2d_4 (MaxPooling2 (None, 4, 4, 128)         0         \n",
      "_________________________________________________________________\n",
      "conv2d_7 (Conv2D)            (None, 4, 4, 128)         147584    \n",
      "_________________________________________________________________\n",
      "max_pooling2d_5 (MaxPooling2 (None, 2, 2, 128)         0         \n",
      "_________________________________________________________________\n",
      "dropout_3 (Dropout)          (None, 2, 2, 128)         0         \n",
      "_________________________________________________________________\n",
      "flatten_1 (Flatten)          (None, 512)               0         \n",
      "_________________________________________________________________\n",
      "dense_2 (Dense)              (None, 1024)              525312    \n",
      "_________________________________________________________________\n",
      "dense_3 (Dense)              (None, 1)                 1025      \n",
      "=================================================================\n",
      "Total params: 755,641\n",
      "Trainable params: 755,641\n",
      "Non-trainable params: 0\n",
      "_________________________________________________________________\n"
     ]
    }
   ],
   "source": [
    "cnn = keras.Sequential([\n",
    "    layers.Conv2D(32, kernel_size=3, activation='swish', padding=\"same\", input_shape=(16, 16, 3)),\n",
    "    layers.Conv2D(56, kernel_size=3, activation=\"swish\", padding=\"same\"),\n",
    "    layers.MaxPooling2D(pool_size=2),\n",
    "    layers.Dropout(0.25),\n",
    "    layers.Conv2D(128, kernel_size=3, activation=\"swish\", padding=\"same\"),\n",
    "    layers.MaxPooling2D(pool_size=2),\n",
    "    layers.Conv2D(128, kernel_size=3, activation=\"swish\", padding=\"same\"),\n",
    "    layers.MaxPooling2D(pool_size=2),\n",
    "    layers.Dropout(0.25),\n",
    "    layers.Flatten(),\n",
    "    layers.Dense(1024, activation='swish'),\n",
    "    layers.Dense(1, activation=\"sigmoid\")\n",
    "])\n",
    "\n",
    "cnn.compile(optimizer=keras.optimizers.Adam(learning_rate=1e-4),\n",
    "                      loss=keras.losses.BinaryCrossentropy(),\n",
    "                      metrics=['accuracy', \"Precision\", \"Recall\", \"AUC\"])\n",
    "cnn.summary()"
   ]
  },
  {
   "cell_type": "code",
   "execution_count": 17,
   "metadata": {
    "execution": {
     "iopub.execute_input": "2023-01-01T16:34:05.865463Z",
     "iopub.status.busy": "2023-01-01T16:34:05.864750Z",
     "iopub.status.idle": "2023-01-01T17:36:23.147864Z",
     "shell.execute_reply": "2023-01-01T17:36:23.146907Z",
     "shell.execute_reply.started": "2023-01-01T16:34:05.865427Z"
    }
   },
   "outputs": [
    {
     "name": "stdout",
     "output_type": "stream",
     "text": [
      "Epoch 1/20\n",
      "13850/13850 [==============================] - 166s 12ms/step - loss: 0.2276 - accuracy: 0.9124 - precision: 0.6569 - recall: 0.2837 - auc: 0.8826 - val_loss: 0.1462 - val_accuracy: 0.9404 - val_precision: 0.6901 - val_recall: 0.7337 - val_auc: 0.9655\n",
      "Epoch 2/20\n",
      "13850/13850 [==============================] - 159s 11ms/step - loss: 0.1182 - accuracy: 0.9514 - precision: 0.7978 - recall: 0.6972 - auc: 0.9728 - val_loss: 0.0809 - val_accuracy: 0.9690 - val_precision: 0.8003 - val_recall: 0.9196 - val_auc: 0.9922\n",
      "Epoch 3/20\n",
      "13850/13850 [==============================] - 159s 11ms/step - loss: 0.0765 - accuracy: 0.9696 - precision: 0.8705 - recall: 0.8225 - auc: 0.9884 - val_loss: 0.0488 - val_accuracy: 0.9818 - val_precision: 0.9036 - val_recall: 0.9160 - val_auc: 0.9960\n",
      "Epoch 4/20\n",
      "13850/13850 [==============================] - 160s 12ms/step - loss: 0.0567 - accuracy: 0.9779 - precision: 0.9026 - recall: 0.8765 - auc: 0.9932 - val_loss: 0.0322 - val_accuracy: 0.9886 - val_precision: 0.9265 - val_recall: 0.9619 - val_auc: 0.9985\n",
      "Epoch 5/20\n",
      "13850/13850 [==============================] - 158s 11ms/step - loss: 32108584960.0000 - accuracy: 0.9814 - precision: 0.9178 - recall: 0.8973 - auc: 0.9949 - val_loss: 0.0339 - val_accuracy: 0.9881 - val_precision: 0.9086 - val_recall: 0.9790 - val_auc: 0.9987\n",
      "Epoch 6/20\n",
      "13850/13850 [==============================] - 158s 11ms/step - loss: 0.0389 - accuracy: 0.9852 - precision: 0.9342 - recall: 0.9190 - auc: 0.9965 - val_loss: 0.0269 - val_accuracy: 0.9902 - val_precision: 0.9223 - val_recall: 0.9851 - val_auc: 0.9992\n",
      "Epoch 7/20\n",
      "13850/13850 [==============================] - 160s 12ms/step - loss: 0.0345 - accuracy: 0.9868 - precision: 0.9399 - recall: 0.9291 - auc: 0.9972 - val_loss: 0.0189 - val_accuracy: 0.9933 - val_precision: 0.9571 - val_recall: 0.9765 - val_auc: 0.9992\n",
      "Epoch 8/20\n",
      "13850/13850 [==============================] - 160s 12ms/step - loss: 0.0322 - accuracy: 0.9878 - precision: 0.9445 - recall: 0.9343 - auc: 0.9974 - val_loss: 0.0287 - val_accuracy: 0.9894 - val_precision: 0.9097 - val_recall: 0.9923 - val_auc: 0.9994\n",
      "Epoch 9/20\n",
      "13850/13850 [==============================] - 161s 12ms/step - loss: 0.0293 - accuracy: 0.9890 - precision: 0.9499 - recall: 0.9411 - auc: 0.9977 - val_loss: 0.0261 - val_accuracy: 0.9906 - val_precision: 0.9186 - val_recall: 0.9937 - val_auc: 0.9995\n",
      "Epoch 10/20\n",
      "13850/13850 [==============================] - 158s 11ms/step - loss: 0.0292 - accuracy: 0.9889 - precision: 0.9495 - recall: 0.9405 - auc: 0.9978 - val_loss: 0.0267 - val_accuracy: 0.9902 - val_precision: 0.9159 - val_recall: 0.9934 - val_auc: 0.9995\n",
      "Epoch 11/20\n",
      "13850/13850 [==============================] - 158s 11ms/step - loss: 0.0280 - accuracy: 0.9895 - precision: 0.9521 - recall: 0.9441 - auc: 0.9979 - val_loss: 0.0200 - val_accuracy: 0.9928 - val_precision: 0.9409 - val_recall: 0.9900 - val_auc: 0.9996\n",
      "Epoch 12/20\n",
      "13850/13850 [==============================] - 157s 11ms/step - loss: 0.0263 - accuracy: 0.9901 - precision: 0.9549 - recall: 0.9473 - auc: 0.9980 - val_loss: 0.0223 - val_accuracy: 0.9916 - val_precision: 0.9274 - val_recall: 0.9942 - val_auc: 0.9997\n",
      "Epoch 13/20\n",
      "13850/13850 [==============================] - 157s 11ms/step - loss: 0.0243 - accuracy: 0.9909 - precision: 0.9585 - recall: 0.9517 - auc: 0.9983 - val_loss: 0.0130 - val_accuracy: 0.9954 - val_precision: 0.9659 - val_recall: 0.9887 - val_auc: 0.9997\n",
      "Epoch 14/20\n",
      "13850/13850 [==============================] - 158s 11ms/step - loss: 0.0231 - accuracy: 0.9915 - precision: 0.9614 - recall: 0.9545 - auc: 0.9984 - val_loss: 0.0157 - val_accuracy: 0.9944 - val_precision: 0.9526 - val_recall: 0.9930 - val_auc: 0.9998\n",
      "Epoch 15/20\n",
      "13850/13850 [==============================] - 161s 12ms/step - loss: 0.0223 - accuracy: 0.9917 - precision: 0.9621 - recall: 0.9560 - auc: 0.9984 - val_loss: 0.0119 - val_accuracy: 0.9958 - val_precision: 0.9678 - val_recall: 0.9912 - val_auc: 0.9998\n",
      "Epoch 16/20\n",
      "13850/13850 [==============================] - 158s 11ms/step - loss: 0.0208 - accuracy: 0.9922 - precision: 0.9641 - recall: 0.9592 - auc: 0.9986 - val_loss: 0.0159 - val_accuracy: 0.9944 - val_precision: 0.9523 - val_recall: 0.9937 - val_auc: 0.9996\n",
      "Epoch 17/20\n",
      "13850/13850 [==============================] - 158s 11ms/step - loss: 0.0201 - accuracy: 0.9926 - precision: 0.9659 - recall: 0.9611 - auc: 0.9986 - val_loss: 0.0117 - val_accuracy: 0.9961 - val_precision: 0.9680 - val_recall: 0.9940 - val_auc: 0.9998\n",
      "Epoch 18/20\n",
      "13850/13850 [==============================] - 157s 11ms/step - loss: 0.0195 - accuracy: 0.9928 - precision: 0.9667 - recall: 0.9618 - auc: 0.9987 - val_loss: 0.0122 - val_accuracy: 0.9959 - val_precision: 0.9663 - val_recall: 0.9936 - val_auc: 0.9997\n",
      "Epoch 19/20\n",
      "13850/13850 [==============================] - 156s 11ms/step - loss: 0.0187 - accuracy: 0.9932 - precision: 0.9685 - recall: 0.9644 - auc: 0.9988 - val_loss: 0.0167 - val_accuracy: 0.9941 - val_precision: 0.9477 - val_recall: 0.9959 - val_auc: 0.9998\n",
      "Epoch 20/20\n",
      "13850/13850 [==============================] - 157s 11ms/step - loss: 0.0181 - accuracy: 0.9935 - precision: 0.9694 - recall: 0.9661 - auc: 0.9987 - val_loss: 0.0147 - val_accuracy: 0.9950 - val_precision: 0.9556 - val_recall: 0.9957 - val_auc: 0.9996\n"
     ]
    }
   ],
   "source": [
    "history_cnn = cnn.fit(train_ds, validation_data = val_ds, epochs=20)"
   ]
  },
  {
   "cell_type": "code",
   "execution_count": 18,
   "metadata": {
    "execution": {
     "iopub.execute_input": "2023-01-01T17:36:23.150619Z",
     "iopub.status.busy": "2023-01-01T17:36:23.150160Z",
     "iopub.status.idle": "2023-01-01T17:36:23.174367Z",
     "shell.execute_reply": "2023-01-01T17:36:23.173269Z",
     "shell.execute_reply.started": "2023-01-01T17:36:23.150580Z"
    }
   },
   "outputs": [
    {
     "data": {
      "text/html": [
       "<div>\n",
       "<style scoped>\n",
       "    .dataframe tbody tr th:only-of-type {\n",
       "        vertical-align: middle;\n",
       "    }\n",
       "\n",
       "    .dataframe tbody tr th {\n",
       "        vertical-align: top;\n",
       "    }\n",
       "\n",
       "    .dataframe thead th {\n",
       "        text-align: right;\n",
       "    }\n",
       "</style>\n",
       "<table border=\"1\" class=\"dataframe\">\n",
       "  <thead>\n",
       "    <tr style=\"text-align: right;\">\n",
       "      <th></th>\n",
       "      <th>loss</th>\n",
       "      <th>accuracy</th>\n",
       "      <th>precision</th>\n",
       "      <th>recall</th>\n",
       "      <th>auc</th>\n",
       "      <th>val_loss</th>\n",
       "      <th>val_accuracy</th>\n",
       "      <th>val_precision</th>\n",
       "      <th>val_recall</th>\n",
       "      <th>val_auc</th>\n",
       "    </tr>\n",
       "  </thead>\n",
       "  <tbody>\n",
       "    <tr>\n",
       "      <th>0</th>\n",
       "      <td>2.276192e-01</td>\n",
       "      <td>0.912357</td>\n",
       "      <td>0.656883</td>\n",
       "      <td>0.283665</td>\n",
       "      <td>0.882576</td>\n",
       "      <td>0.146200</td>\n",
       "      <td>0.940442</td>\n",
       "      <td>0.690110</td>\n",
       "      <td>0.733719</td>\n",
       "      <td>0.965543</td>\n",
       "    </tr>\n",
       "    <tr>\n",
       "      <th>1</th>\n",
       "      <td>1.182073e-01</td>\n",
       "      <td>0.951390</td>\n",
       "      <td>0.797812</td>\n",
       "      <td>0.697206</td>\n",
       "      <td>0.972757</td>\n",
       "      <td>0.080914</td>\n",
       "      <td>0.969023</td>\n",
       "      <td>0.800283</td>\n",
       "      <td>0.919638</td>\n",
       "      <td>0.992209</td>\n",
       "    </tr>\n",
       "    <tr>\n",
       "      <th>2</th>\n",
       "      <td>7.650518e-02</td>\n",
       "      <td>0.969605</td>\n",
       "      <td>0.870520</td>\n",
       "      <td>0.822530</td>\n",
       "      <td>0.988412</td>\n",
       "      <td>0.048810</td>\n",
       "      <td>0.981830</td>\n",
       "      <td>0.903588</td>\n",
       "      <td>0.915981</td>\n",
       "      <td>0.995999</td>\n",
       "    </tr>\n",
       "    <tr>\n",
       "      <th>3</th>\n",
       "      <td>5.666283e-02</td>\n",
       "      <td>0.977885</td>\n",
       "      <td>0.902562</td>\n",
       "      <td>0.876479</td>\n",
       "      <td>0.993186</td>\n",
       "      <td>0.032200</td>\n",
       "      <td>0.988564</td>\n",
       "      <td>0.926509</td>\n",
       "      <td>0.961902</td>\n",
       "      <td>0.998473</td>\n",
       "    </tr>\n",
       "    <tr>\n",
       "      <th>4</th>\n",
       "      <td>3.210858e+10</td>\n",
       "      <td>0.981444</td>\n",
       "      <td>0.917838</td>\n",
       "      <td>0.897288</td>\n",
       "      <td>0.994943</td>\n",
       "      <td>0.033947</td>\n",
       "      <td>0.988056</td>\n",
       "      <td>0.908628</td>\n",
       "      <td>0.978970</td>\n",
       "      <td>0.998724</td>\n",
       "    </tr>\n",
       "    <tr>\n",
       "      <th>5</th>\n",
       "      <td>3.885328e-02</td>\n",
       "      <td>0.985229</td>\n",
       "      <td>0.934239</td>\n",
       "      <td>0.918988</td>\n",
       "      <td>0.996469</td>\n",
       "      <td>0.026857</td>\n",
       "      <td>0.990209</td>\n",
       "      <td>0.922287</td>\n",
       "      <td>0.985066</td>\n",
       "      <td>0.999151</td>\n",
       "    </tr>\n",
       "    <tr>\n",
       "      <th>6</th>\n",
       "      <td>3.454713e-02</td>\n",
       "      <td>0.986791</td>\n",
       "      <td>0.939928</td>\n",
       "      <td>0.929092</td>\n",
       "      <td>0.997181</td>\n",
       "      <td>0.018906</td>\n",
       "      <td>0.993276</td>\n",
       "      <td>0.957085</td>\n",
       "      <td>0.976532</td>\n",
       "      <td>0.999151</td>\n",
       "    </tr>\n",
       "    <tr>\n",
       "      <th>7</th>\n",
       "      <td>3.218086e-02</td>\n",
       "      <td>0.987772</td>\n",
       "      <td>0.944524</td>\n",
       "      <td>0.934255</td>\n",
       "      <td>0.997423</td>\n",
       "      <td>0.028730</td>\n",
       "      <td>0.989376</td>\n",
       "      <td>0.909658</td>\n",
       "      <td>0.992279</td>\n",
       "      <td>0.999370</td>\n",
       "    </tr>\n",
       "    <tr>\n",
       "      <th>8</th>\n",
       "      <td>2.931482e-02</td>\n",
       "      <td>0.988995</td>\n",
       "      <td>0.949883</td>\n",
       "      <td>0.941099</td>\n",
       "      <td>0.997663</td>\n",
       "      <td>0.026082</td>\n",
       "      <td>0.990565</td>\n",
       "      <td>0.918576</td>\n",
       "      <td>0.993701</td>\n",
       "      <td>0.999502</td>\n",
       "    </tr>\n",
       "    <tr>\n",
       "      <th>9</th>\n",
       "      <td>2.920042e-02</td>\n",
       "      <td>0.988890</td>\n",
       "      <td>0.949477</td>\n",
       "      <td>0.940454</td>\n",
       "      <td>0.997811</td>\n",
       "      <td>0.026698</td>\n",
       "      <td>0.990219</td>\n",
       "      <td>0.915886</td>\n",
       "      <td>0.993396</td>\n",
       "      <td>0.999461</td>\n",
       "    </tr>\n",
       "    <tr>\n",
       "      <th>10</th>\n",
       "      <td>2.799512e-02</td>\n",
       "      <td>0.989514</td>\n",
       "      <td>0.952101</td>\n",
       "      <td>0.944059</td>\n",
       "      <td>0.997921</td>\n",
       "      <td>0.019951</td>\n",
       "      <td>0.992789</td>\n",
       "      <td>0.940910</td>\n",
       "      <td>0.990044</td>\n",
       "      <td>0.999647</td>\n",
       "    </tr>\n",
       "    <tr>\n",
       "      <th>11</th>\n",
       "      <td>2.629633e-02</td>\n",
       "      <td>0.990129</td>\n",
       "      <td>0.954929</td>\n",
       "      <td>0.947342</td>\n",
       "      <td>0.998019</td>\n",
       "      <td>0.022260</td>\n",
       "      <td>0.991641</td>\n",
       "      <td>0.927407</td>\n",
       "      <td>0.994209</td>\n",
       "      <td>0.999663</td>\n",
       "    </tr>\n",
       "    <tr>\n",
       "      <th>12</th>\n",
       "      <td>2.426992e-02</td>\n",
       "      <td>0.990922</td>\n",
       "      <td>0.958486</td>\n",
       "      <td>0.951671</td>\n",
       "      <td>0.998340</td>\n",
       "      <td>0.012955</td>\n",
       "      <td>0.995379</td>\n",
       "      <td>0.965859</td>\n",
       "      <td>0.988723</td>\n",
       "      <td>0.999707</td>\n",
       "    </tr>\n",
       "    <tr>\n",
       "      <th>13</th>\n",
       "      <td>2.307325e-02</td>\n",
       "      <td>0.991500</td>\n",
       "      <td>0.961397</td>\n",
       "      <td>0.954486</td>\n",
       "      <td>0.998402</td>\n",
       "      <td>0.015681</td>\n",
       "      <td>0.994363</td>\n",
       "      <td>0.952632</td>\n",
       "      <td>0.992990</td>\n",
       "      <td>0.999765</td>\n",
       "    </tr>\n",
       "    <tr>\n",
       "      <th>14</th>\n",
       "      <td>2.227272e-02</td>\n",
       "      <td>0.991718</td>\n",
       "      <td>0.962111</td>\n",
       "      <td>0.955955</td>\n",
       "      <td>0.998428</td>\n",
       "      <td>0.011876</td>\n",
       "      <td>0.995816</td>\n",
       "      <td>0.967761</td>\n",
       "      <td>0.991161</td>\n",
       "      <td>0.999750</td>\n",
       "    </tr>\n",
       "    <tr>\n",
       "      <th>15</th>\n",
       "      <td>2.078902e-02</td>\n",
       "      <td>0.992244</td>\n",
       "      <td>0.964149</td>\n",
       "      <td>0.959160</td>\n",
       "      <td>0.998585</td>\n",
       "      <td>0.015901</td>\n",
       "      <td>0.994394</td>\n",
       "      <td>0.952293</td>\n",
       "      <td>0.993701</td>\n",
       "      <td>0.999649</td>\n",
       "    </tr>\n",
       "    <tr>\n",
       "      <th>16</th>\n",
       "      <td>2.010859e-02</td>\n",
       "      <td>0.992623</td>\n",
       "      <td>0.965924</td>\n",
       "      <td>0.961141</td>\n",
       "      <td>0.998647</td>\n",
       "      <td>0.011662</td>\n",
       "      <td>0.996120</td>\n",
       "      <td>0.968042</td>\n",
       "      <td>0.994006</td>\n",
       "      <td>0.999769</td>\n",
       "    </tr>\n",
       "    <tr>\n",
       "      <th>17</th>\n",
       "      <td>1.953042e-02</td>\n",
       "      <td>0.992769</td>\n",
       "      <td>0.966724</td>\n",
       "      <td>0.961775</td>\n",
       "      <td>0.998702</td>\n",
       "      <td>0.012208</td>\n",
       "      <td>0.995897</td>\n",
       "      <td>0.966308</td>\n",
       "      <td>0.993600</td>\n",
       "      <td>0.999734</td>\n",
       "    </tr>\n",
       "    <tr>\n",
       "      <th>18</th>\n",
       "      <td>1.872741e-02</td>\n",
       "      <td>0.993212</td>\n",
       "      <td>0.968550</td>\n",
       "      <td>0.964357</td>\n",
       "      <td>0.998779</td>\n",
       "      <td>0.016689</td>\n",
       "      <td>0.994099</td>\n",
       "      <td>0.947699</td>\n",
       "      <td>0.995936</td>\n",
       "      <td>0.999761</td>\n",
       "    </tr>\n",
       "    <tr>\n",
       "      <th>19</th>\n",
       "      <td>1.810169e-02</td>\n",
       "      <td>0.993476</td>\n",
       "      <td>0.969416</td>\n",
       "      <td>0.966126</td>\n",
       "      <td>0.998750</td>\n",
       "      <td>0.014663</td>\n",
       "      <td>0.994952</td>\n",
       "      <td>0.955636</td>\n",
       "      <td>0.995733</td>\n",
       "      <td>0.999560</td>\n",
       "    </tr>\n",
       "  </tbody>\n",
       "</table>\n",
       "</div>"
      ],
      "text/plain": [
       "            loss  accuracy  precision    recall       auc  val_loss  \\\n",
       "0   2.276192e-01  0.912357   0.656883  0.283665  0.882576  0.146200   \n",
       "1   1.182073e-01  0.951390   0.797812  0.697206  0.972757  0.080914   \n",
       "2   7.650518e-02  0.969605   0.870520  0.822530  0.988412  0.048810   \n",
       "3   5.666283e-02  0.977885   0.902562  0.876479  0.993186  0.032200   \n",
       "4   3.210858e+10  0.981444   0.917838  0.897288  0.994943  0.033947   \n",
       "5   3.885328e-02  0.985229   0.934239  0.918988  0.996469  0.026857   \n",
       "6   3.454713e-02  0.986791   0.939928  0.929092  0.997181  0.018906   \n",
       "7   3.218086e-02  0.987772   0.944524  0.934255  0.997423  0.028730   \n",
       "8   2.931482e-02  0.988995   0.949883  0.941099  0.997663  0.026082   \n",
       "9   2.920042e-02  0.988890   0.949477  0.940454  0.997811  0.026698   \n",
       "10  2.799512e-02  0.989514   0.952101  0.944059  0.997921  0.019951   \n",
       "11  2.629633e-02  0.990129   0.954929  0.947342  0.998019  0.022260   \n",
       "12  2.426992e-02  0.990922   0.958486  0.951671  0.998340  0.012955   \n",
       "13  2.307325e-02  0.991500   0.961397  0.954486  0.998402  0.015681   \n",
       "14  2.227272e-02  0.991718   0.962111  0.955955  0.998428  0.011876   \n",
       "15  2.078902e-02  0.992244   0.964149  0.959160  0.998585  0.015901   \n",
       "16  2.010859e-02  0.992623   0.965924  0.961141  0.998647  0.011662   \n",
       "17  1.953042e-02  0.992769   0.966724  0.961775  0.998702  0.012208   \n",
       "18  1.872741e-02  0.993212   0.968550  0.964357  0.998779  0.016689   \n",
       "19  1.810169e-02  0.993476   0.969416  0.966126  0.998750  0.014663   \n",
       "\n",
       "    val_accuracy  val_precision  val_recall   val_auc  \n",
       "0       0.940442       0.690110    0.733719  0.965543  \n",
       "1       0.969023       0.800283    0.919638  0.992209  \n",
       "2       0.981830       0.903588    0.915981  0.995999  \n",
       "3       0.988564       0.926509    0.961902  0.998473  \n",
       "4       0.988056       0.908628    0.978970  0.998724  \n",
       "5       0.990209       0.922287    0.985066  0.999151  \n",
       "6       0.993276       0.957085    0.976532  0.999151  \n",
       "7       0.989376       0.909658    0.992279  0.999370  \n",
       "8       0.990565       0.918576    0.993701  0.999502  \n",
       "9       0.990219       0.915886    0.993396  0.999461  \n",
       "10      0.992789       0.940910    0.990044  0.999647  \n",
       "11      0.991641       0.927407    0.994209  0.999663  \n",
       "12      0.995379       0.965859    0.988723  0.999707  \n",
       "13      0.994363       0.952632    0.992990  0.999765  \n",
       "14      0.995816       0.967761    0.991161  0.999750  \n",
       "15      0.994394       0.952293    0.993701  0.999649  \n",
       "16      0.996120       0.968042    0.994006  0.999769  \n",
       "17      0.995897       0.966308    0.993600  0.999734  \n",
       "18      0.994099       0.947699    0.995936  0.999761  \n",
       "19      0.994952       0.955636    0.995733  0.999560  "
      ]
     },
     "execution_count": 18,
     "metadata": {},
     "output_type": "execute_result"
    }
   ],
   "source": [
    "logs_cnn = pd.DataFrame(history_cnn.history)\n",
    "logs_cnn"
   ]
  },
  {
   "cell_type": "code",
   "execution_count": 19,
   "metadata": {
    "execution": {
     "iopub.execute_input": "2023-01-01T17:36:23.176698Z",
     "iopub.status.busy": "2023-01-01T17:36:23.176275Z",
     "iopub.status.idle": "2023-01-01T17:36:23.420702Z",
     "shell.execute_reply": "2023-01-01T17:36:23.419704Z",
     "shell.execute_reply.started": "2023-01-01T17:36:23.176658Z"
    }
   },
   "outputs": [
    {
     "data": {
      "text/plain": [
       "<matplotlib.legend.Legend at 0x7fab3c97b910>"
      ]
     },
     "execution_count": 19,
     "metadata": {},
     "output_type": "execute_result"
    },
    {
     "data": {
      "image/png": "[encoded data removed]",
      "text/plain": [
       "<Figure size 576x576 with 1 Axes>"
      ]
     },
     "metadata": {
      "needs_background": "light"
     },
     "output_type": "display_data"
    }
   ],
   "source": [
    "plt.figure(figsize=(8, 8))\n",
    "plt.plot(logs_cnn.recall, label = \"Training\")\n",
    "plt.plot(logs_cnn.val_recall, label = \"Validation\")\n",
    "plt.legend()"
   ]
  },
  {
   "cell_type": "code",
   "execution_count": 20,
   "metadata": {
    "execution": {
     "iopub.execute_input": "2023-01-01T17:36:23.423663Z",
     "iopub.status.busy": "2023-01-01T17:36:23.423049Z",
     "iopub.status.idle": "2023-01-01T17:36:43.929093Z",
     "shell.execute_reply": "2023-01-01T17:36:43.928062Z",
     "shell.execute_reply.started": "2023-01-01T17:36:23.423624Z"
    }
   },
   "outputs": [
    {
     "name": "stdout",
     "output_type": "stream",
     "text": [
      "1710/1710 [==============================] - 10s 6ms/step - loss: 0.0142 - accuracy: 0.9950 - precision: 0.9563 - recall: 0.9965 - auc: 0.9998\n"
     ]
    },
    {
     "data": {
      "text/plain": [
       "[0.014191347174346447,\n",
       " 0.995037853717804,\n",
       " 0.9563409686088562,\n",
       " 0.9964798092842102,\n",
       " 0.9997533559799194]"
      ]
     },
     "execution_count": 20,
     "metadata": {},
     "output_type": "execute_result"
    }
   ],
   "source": [
    "cnn.evaluate(test_ds)"
   ]
  },
  {
   "cell_type": "code",
   "execution_count": 21,
   "metadata": {
    "execution": {
     "iopub.execute_input": "2023-01-01T17:36:43.930811Z",
     "iopub.status.busy": "2023-01-01T17:36:43.930214Z",
     "iopub.status.idle": "2023-01-01T17:38:17.852821Z",
     "shell.execute_reply": "2023-01-01T17:38:17.851674Z",
     "shell.execute_reply.started": "2023-01-01T17:36:43.930740Z"
    }
   },
   "outputs": [
    {
     "name": "stdout",
     "output_type": "stream",
     "text": [
      "15389/15389 [==============================] - 94s 6ms/step - loss: 0.0093 - accuracy: 0.9968 - precision: 0.9710 - recall: 0.9986 - auc: 0.9999\n"
     ]
    },
    {
     "data": {
      "text/plain": [
       "[0.009310838766396046,\n",
       " 0.9968422055244446,\n",
       " 0.9709978103637695,\n",
       " 0.99863600730896,\n",
       " 0.999893307685852]"
      ]
     },
     "execution_count": 21,
     "metadata": {},
     "output_type": "execute_result"
    }
   ],
   "source": [
    "cnn.evaluate(train_val_ds)"
   ]
  },
  {
   "cell_type": "code",
   "execution_count": 22,
   "metadata": {
    "execution": {
     "iopub.execute_input": "2023-01-01T17:38:17.854946Z",
     "iopub.status.busy": "2023-01-01T17:38:17.854558Z",
     "iopub.status.idle": "2023-01-01T17:38:17.881990Z",
     "shell.execute_reply": "2023-01-01T17:38:17.881078Z",
     "shell.execute_reply.started": "2023-01-01T17:38:17.854907Z"
    }
   },
   "outputs": [],
   "source": [
    "cnn.save_weights(\"cnn2.h5\")"
   ]
  },
  {
   "cell_type": "code",
   "execution_count": 23,
   "metadata": {
    "execution": {
     "iopub.execute_input": "2023-01-01T17:38:17.885241Z",
     "iopub.status.busy": "2023-01-01T17:38:17.884959Z",
     "iopub.status.idle": "2023-01-01T17:38:17.892868Z",
     "shell.execute_reply": "2023-01-01T17:38:17.891807Z",
     "shell.execute_reply.started": "2023-01-01T17:38:17.885209Z"
    }
   },
   "outputs": [],
   "source": [
    "logs_cnn.to_csv(\"curves2.csv\", index=False)"
   ]
  },
  {
   "cell_type": "code",
   "execution_count": null,
   "metadata": {},
   "outputs": [],
   "source": []
  }
 ],
 "metadata": {
  "kernelspec": {
   "display_name": "Python 3 (ipykernel)",
   "language": "python",
   "name": "python3"
  },
  "language_info": {
   "codemirror_mode": {
    "name": "ipython",
    "version": 3
   },
   "file_extension": ".py",
   "mimetype": "text/x-python",
   "name": "python",
   "nbconvert_exporter": "python",
   "pygments_lexer": "ipython3",
   "version": "3.9.7"
  },
  "toc": {
   "base_numbering": 1,
   "nav_menu": {},
   "number_sections": true,
   "sideBar": true,
   "skip_h1_title": false,
   "title_cell": "Table of Contents",
   "title_sidebar": "Contents",
   "toc_cell": false,
   "toc_position": {},
   "toc_section_display": true,
   "toc_window_display": false
  },
  "varInspector": {
   "cols": {
    "lenName": 16,
    "lenType": 16,
    "lenVar": 40
   },
   "kernels_config": {
    "python": {
     "delete_cmd_postfix": "",
     "delete_cmd_prefix": "del ",
     "library": "var_list.py",
     "varRefreshCmd": "print(var_dic_list())"
    },
    "r": {
     "delete_cmd_postfix": ") ",
     "delete_cmd_prefix": "rm(",
     "library": "var_list.r",
     "varRefreshCmd": "cat(var_dic_list()) "
    }
   },
   "types_to_exclude": [
    "module",
    "function",
    "builtin_function_or_method",
    "instance",
    "_Feature"
   ],
   "window_display": false
  }
 },
 "nbformat": 4,
 "nbformat_minor": 4
}
