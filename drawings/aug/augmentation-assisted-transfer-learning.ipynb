{
 "cells": [
  {
   "cell_type": "code",
   "execution_count": 1,
   "id": "9853b356",
   "metadata": {
    "execution": {
     "iopub.execute_input": "2022-11-07T15:56:17.096183Z",
     "iopub.status.busy": "2022-11-07T15:56:17.095470Z",
     "iopub.status.idle": "2022-11-07T15:56:22.901357Z",
     "shell.execute_reply": "2022-11-07T15:56:22.900203Z"
    },
    "papermill": {
     "duration": 5.8147,
     "end_time": "2022-11-07T15:56:22.904303",
     "exception": false,
     "start_time": "2022-11-07T15:56:17.089603",
     "status": "completed"
    },
    "tags": []
   },
   "outputs": [],
   "source": [
    "import os\n",
    "import cv2\n",
    "import random\n",
    "import numpy as np\n",
    "import pandas as pd\n",
    "import matplotlib.pyplot as plt\n",
    "\n",
    "import tensorflow as tf\n",
    "from tensorflow.keras.models import *\n",
    "from tensorflow.keras.layers import *"
   ]
  },
  {
   "cell_type": "code",
   "execution_count": 2,
   "id": "36ffaf8f",
   "metadata": {
    "execution": {
     "iopub.execute_input": "2022-11-07T15:56:22.916953Z",
     "iopub.status.busy": "2022-11-07T15:56:22.916221Z",
     "iopub.status.idle": "2022-11-07T15:56:23.967086Z",
     "shell.execute_reply": "2022-11-07T15:56:23.965770Z"
    },
    "papermill": {
     "duration": 1.059597,
     "end_time": "2022-11-07T15:56:23.969779",
     "exception": false,
     "start_time": "2022-11-07T15:56:22.910182",
     "status": "completed"
    },
    "tags": []
   },
   "outputs": [],
   "source": [
    "!rm -rf train test"
   ]
  },
  {
   "cell_type": "code",
   "execution_count": 3,
   "id": "db41b6ed",
   "metadata": {
    "execution": {
     "iopub.execute_input": "2022-11-07T15:56:23.978621Z",
     "iopub.status.busy": "2022-11-07T15:56:23.978275Z",
     "iopub.status.idle": "2022-11-07T15:56:34.556239Z",
     "shell.execute_reply": "2022-11-07T15:56:34.554948Z"
    },
    "papermill": {
     "duration": 10.5853,
     "end_time": "2022-11-07T15:56:34.558871",
     "exception": false,
     "start_time": "2022-11-07T15:56:23.973571",
     "status": "completed"
    },
    "tags": []
   },
   "outputs": [],
   "source": [
    "!mkdir train test\n",
    "!mkdir train/healthy train/parkinson test/healthy test/parkinson\n",
    "!cp /kaggle/input/parkinsons-drawings/spiral/training/healthy/* train/healthy\n",
    "!cp /kaggle/input/parkinsons-drawings/spiral/training/parkinson/* train/parkinson\n",
    "!cp /kaggle/input/parkinsons-drawings/spiral/testing/healthy/* test/healthy\n",
    "!cp /kaggle/input/parkinsons-drawings/spiral/testing/parkinson/* test/parkinson\n",
    "!cp /kaggle/input/parkinsons-drawings/wave/training/healthy/* train/healthy\n",
    "!cp /kaggle/input/parkinsons-drawings/wave/training/parkinson/* train/parkinson\n",
    "!cp /kaggle/input/parkinsons-drawings/wave/testing/healthy/* test/healthy\n",
    "!cp /kaggle/input/parkinsons-drawings/wave/testing/parkinson/* test/parkinson"
   ]
  },
  {
   "cell_type": "markdown",
   "id": "b437e65f",
   "metadata": {
    "papermill": {
     "duration": 0.003293,
     "end_time": "2022-11-07T15:56:34.565981",
     "exception": false,
     "start_time": "2022-11-07T15:56:34.562688",
     "status": "completed"
    },
    "tags": []
   },
   "source": [
    "## Noise Addition\n",
    "\n",
    "We use this increase the size of the dataset."
   ]
  },
  {
   "cell_type": "code",
   "execution_count": 4,
   "id": "eeda6503",
   "metadata": {
    "execution": {
     "iopub.execute_input": "2022-11-07T15:56:34.574927Z",
     "iopub.status.busy": "2022-11-07T15:56:34.574107Z",
     "iopub.status.idle": "2022-11-07T15:56:34.587191Z",
     "shell.execute_reply": "2022-11-07T15:56:34.586349Z"
    },
    "papermill": {
     "duration": 0.019838,
     "end_time": "2022-11-07T15:56:34.589174",
     "exception": false,
     "start_time": "2022-11-07T15:56:34.569336",
     "status": "completed"
    },
    "tags": []
   },
   "outputs": [],
   "source": [
    "def apply_noise(noise_type, image):\n",
    "    if noise_type == \"gauss\":\n",
    "        row, col, ch = image.shape\n",
    "        mean = 0\n",
    "        sigma = random.randint(10, 100)\n",
    "        gauss = np.random.normal(mean, sigma, (row, col, ch))\n",
    "        gauss = gauss.reshape(row, col, ch)\n",
    "        noisy = image + gauss\n",
    "        return noisy\n",
    "    elif noise_type == \"s&p\":\n",
    "        row, col, ch = image.shape\n",
    "\n",
    "        s_vs_p = 0.5\n",
    "        amount = 0.004\n",
    "        out = np.copy(image)\n",
    "\n",
    "        # Salt mode\n",
    "        num_salt = np.ceil(amount * image.size * s_vs_p)\n",
    "        coords = [np.random.randint(0, i - 1, int(num_salt)) for i in (row, col, ch)]\n",
    "        out[coords] = 1\n",
    "\n",
    "        # Pepper mode\n",
    "        num_pepper = np.ceil(amount * image.size * (1. - s_vs_p))\n",
    "        coords = [np.random.randint(0, i - 1, int(num_pepper)) for i in (row, col, ch)]\n",
    "        out[coords] = 0\n",
    "        return out\n",
    "    elif noise_type == \"poisson\":\n",
    "        vals = len(np.unique(image))\n",
    "        vals = 2 ** np.ceil(np.log2(vals))\n",
    "        noisy = np.random.poisson(image * vals) / float(vals)\n",
    "        return noisy\n",
    "    elif noise_type == \"speckle\":\n",
    "        row, col, ch = image.shape\n",
    "        gauss = np.random.randn(row, col, ch)\n",
    "        gauss = gauss.reshape(row, col, ch)\n",
    "        noisy = image + image * gauss * 0.2\n",
    "        return noisy"
   ]
  },
  {
   "cell_type": "code",
   "execution_count": 5,
   "id": "2e57e9d5",
   "metadata": {
    "execution": {
     "iopub.execute_input": "2022-11-07T15:56:34.597674Z",
     "iopub.status.busy": "2022-11-07T15:56:34.597049Z",
     "iopub.status.idle": "2022-11-07T15:56:34.606354Z",
     "shell.execute_reply": "2022-11-07T15:56:34.605440Z"
    },
    "papermill": {
     "duration": 0.015811,
     "end_time": "2022-11-07T15:56:34.608632",
     "exception": false,
     "start_time": "2022-11-07T15:56:34.592821",
     "status": "completed"
    },
    "tags": []
   },
   "outputs": [],
   "source": [
    "def motionBlur(img, vertical = True):\n",
    "    kernel_size = random.randint(20, 35)\n",
    "    kernel_v = np.zeros((kernel_size, kernel_size))\n",
    "    kernel_h = np.copy(kernel_v)\n",
    "    kernel_v[:, int((kernel_size - 1) / 2)] = np.ones(kernel_size)\n",
    "    kernel_h[int((kernel_size - 1) / 2), :] = np.ones(kernel_size)\n",
    "    kernel_v /= kernel_size\n",
    "    kernel_h /= kernel_size\n",
    "    return cv2.filter2D(img, -1, kernel_v) if vertical else cv2.filter2D(img, -1, kernel_h)\n",
    "\n",
    "def pixelate(img):\n",
    "    height, width = img.shape[:2]\n",
    "    w, h = (random.randint(100, 150), random.randint(100, 150))\n",
    "    temp = cv2.resize(img, (w, h), interpolation=cv2.INTER_LINEAR)\n",
    "    return cv2.resize(temp, (width, height), interpolation=cv2.INTER_NEAREST)\n",
    "\n",
    "def normalBlur(img):\n",
    "    return cv2.blur(img, (random.randint(7, 35), random.randint(7, 35)))\n",
    "\n",
    "def darken(img):\n",
    "    return img + random.randint(-50, -1)\n",
    "\n",
    "def lighten(img):\n",
    "    return img + random.randint(1, 50)\n",
    "\n",
    "def gauss(img):\n",
    "    return apply_noise(\"gauss\", img)\n",
    "\n",
    "def speckle(img):\n",
    "    return apply_noise(\"speckle\", img)"
   ]
  },
  {
   "cell_type": "code",
   "execution_count": 6,
   "id": "b52b9973",
   "metadata": {
    "execution": {
     "iopub.execute_input": "2022-11-07T15:56:34.616690Z",
     "iopub.status.busy": "2022-11-07T15:56:34.616421Z",
     "iopub.status.idle": "2022-11-07T15:56:45.044552Z",
     "shell.execute_reply": "2022-11-07T15:56:45.043555Z"
    },
    "papermill": {
     "duration": 10.435186,
     "end_time": "2022-11-07T15:56:45.047229",
     "exception": false,
     "start_time": "2022-11-07T15:56:34.612043",
     "status": "completed"
    },
    "tags": []
   },
   "outputs": [],
   "source": [
    "for directory in [\"train\", \"test\"]:\n",
    "    for folder in os.listdir(directory):\n",
    "        for file in os.listdir(f\"{directory}/{folder}\"):\n",
    "            if \"_\" in file: continue\n",
    "            img = cv2.imread(f\"{directory}/{folder}/{file}\")\n",
    "            starter = file.replace('.jpg', '')\n",
    "\n",
    "            cv2.imwrite(f\"{directory}/{folder}/{starter}_motionV.jpg\", motionBlur(img))\n",
    "            cv2.imwrite(f\"{directory}/{folder}/{starter}_motionH.jpg\", motionBlur(img, False))\n",
    "            cv2.imwrite(f\"{directory}/{folder}/{starter}_pixelate.jpg\", pixelate(img))\n",
    "            cv2.imwrite(f\"{directory}/{folder}/{starter}_normal.jpg\", normalBlur(img))\n",
    "            cv2.imwrite(f\"{directory}/{folder}/{starter}_dark.jpg\", darken(img))\n",
    "            cv2.imwrite(f\"{directory}/{folder}/{starter}_light.jpg\", lighten(img))\n",
    "            cv2.imwrite(f\"{directory}/{folder}/{starter}_gauss.jpg\", gauss(img))\n",
    "            cv2.imwrite(f\"{directory}/{folder}/{starter}_speckle.jpg\", speckle(img))"
   ]
  },
  {
   "cell_type": "code",
   "execution_count": 7,
   "id": "259bae96",
   "metadata": {
    "_cell_guid": "b1076dfc-b9ad-4769-8c92-a6c4dae69d19",
    "_uuid": "8f2839f25d086af736a60e9eeb907d3b93b6e0e5",
    "execution": {
     "iopub.execute_input": "2022-11-07T15:56:45.056261Z",
     "iopub.status.busy": "2022-11-07T15:56:45.055667Z",
     "iopub.status.idle": "2022-11-07T15:56:47.904958Z",
     "shell.execute_reply": "2022-11-07T15:56:47.903686Z"
    },
    "papermill": {
     "duration": 2.856137,
     "end_time": "2022-11-07T15:56:47.907209",
     "exception": false,
     "start_time": "2022-11-07T15:56:45.051072",
     "status": "completed"
    },
    "tags": []
   },
   "outputs": [
    {
     "name": "stdout",
     "output_type": "stream",
     "text": [
      "Found 1296 files belonging to 2 classes.\n",
      "Using 1167 files for training.\n"
     ]
    },
    {
     "name": "stderr",
     "output_type": "stream",
     "text": [
      "2022-11-07 15:56:45.224509: I tensorflow/stream_executor/cuda/cuda_gpu_executor.cc:937] successful NUMA node read from SysFS had negative value (-1), but there must be at least one NUMA node, so returning NUMA node zero\n",
      "2022-11-07 15:56:45.324737: I tensorflow/stream_executor/cuda/cuda_gpu_executor.cc:937] successful NUMA node read from SysFS had negative value (-1), but there must be at least one NUMA node, so returning NUMA node zero\n",
      "2022-11-07 15:56:45.325491: I tensorflow/stream_executor/cuda/cuda_gpu_executor.cc:937] successful NUMA node read from SysFS had negative value (-1), but there must be at least one NUMA node, so returning NUMA node zero\n",
      "2022-11-07 15:56:45.335081: I tensorflow/core/platform/cpu_feature_guard.cc:142] This TensorFlow binary is optimized with oneAPI Deep Neural Network Library (oneDNN) to use the following CPU instructions in performance-critical operations:  AVX2 AVX512F FMA\n",
      "To enable them in other operations, rebuild TensorFlow with the appropriate compiler flags.\n",
      "2022-11-07 15:56:45.335380: I tensorflow/stream_executor/cuda/cuda_gpu_executor.cc:937] successful NUMA node read from SysFS had negative value (-1), but there must be at least one NUMA node, so returning NUMA node zero\n",
      "2022-11-07 15:56:45.336111: I tensorflow/stream_executor/cuda/cuda_gpu_executor.cc:937] successful NUMA node read from SysFS had negative value (-1), but there must be at least one NUMA node, so returning NUMA node zero\n",
      "2022-11-07 15:56:45.336797: I tensorflow/stream_executor/cuda/cuda_gpu_executor.cc:937] successful NUMA node read from SysFS had negative value (-1), but there must be at least one NUMA node, so returning NUMA node zero\n",
      "2022-11-07 15:56:47.348367: I tensorflow/stream_executor/cuda/cuda_gpu_executor.cc:937] successful NUMA node read from SysFS had negative value (-1), but there must be at least one NUMA node, so returning NUMA node zero\n",
      "2022-11-07 15:56:47.349272: I tensorflow/stream_executor/cuda/cuda_gpu_executor.cc:937] successful NUMA node read from SysFS had negative value (-1), but there must be at least one NUMA node, so returning NUMA node zero\n",
      "2022-11-07 15:56:47.349945: I tensorflow/stream_executor/cuda/cuda_gpu_executor.cc:937] successful NUMA node read from SysFS had negative value (-1), but there must be at least one NUMA node, so returning NUMA node zero\n",
      "2022-11-07 15:56:47.350531: I tensorflow/core/common_runtime/gpu/gpu_device.cc:1510] Created device /job:localhost/replica:0/task:0/device:GPU:0 with 15401 MB memory:  -> device: 0, name: Tesla P100-PCIE-16GB, pci bus id: 0000:00:04.0, compute capability: 6.0\n"
     ]
    },
    {
     "name": "stdout",
     "output_type": "stream",
     "text": [
      "Found 1296 files belonging to 2 classes.\n",
      "Using 129 files for validation.\n"
     ]
    }
   ],
   "source": [
    "train_ds = tf.keras.utils.image_dataset_from_directory(\n",
    "    \"train\",\n",
    "    labels='inferred',\n",
    "    label_mode='int',\n",
    "    class_names=None,\n",
    "    color_mode='rgb',\n",
    "    batch_size=32,\n",
    "    image_size=(256, 256),\n",
    "    shuffle=True,\n",
    "    seed=123,\n",
    "    validation_split=0.1,\n",
    "    subset=\"training\",\n",
    "    interpolation='bilinear',\n",
    "    follow_links=False,\n",
    "    crop_to_aspect_ratio=False\n",
    ")\n",
    "\n",
    "val_ds = tf.keras.utils.image_dataset_from_directory(\n",
    "    \"train\",\n",
    "    labels='inferred',\n",
    "    label_mode='int',\n",
    "    class_names=None,\n",
    "    color_mode='rgb',\n",
    "    batch_size=32,\n",
    "    image_size=(256, 256),\n",
    "    shuffle=True,\n",
    "    seed=123,\n",
    "    validation_split=0.1,\n",
    "    subset=\"validation\",\n",
    "    interpolation='bilinear',\n",
    "    follow_links=False,\n",
    "    crop_to_aspect_ratio=False\n",
    ")"
   ]
  },
  {
   "cell_type": "code",
   "execution_count": 8,
   "id": "ab227626",
   "metadata": {
    "execution": {
     "iopub.execute_input": "2022-11-07T15:56:47.916112Z",
     "iopub.status.busy": "2022-11-07T15:56:47.915828Z",
     "iopub.status.idle": "2022-11-07T15:56:47.925837Z",
     "shell.execute_reply": "2022-11-07T15:56:47.924968Z"
    },
    "papermill": {
     "duration": 0.016748,
     "end_time": "2022-11-07T15:56:47.927842",
     "exception": false,
     "start_time": "2022-11-07T15:56:47.911094",
     "status": "completed"
    },
    "tags": []
   },
   "outputs": [],
   "source": [
    "tf.get_logger().setLevel('INFO')\n",
    "\n",
    "import csv\n",
    "import tensorflow.keras.backend as K\n",
    "from tensorflow import keras\n",
    "import os\n",
    "\n",
    "class StoreModelHistory(keras.callbacks.Callback):\n",
    "    def __init__(self, model_directory):\n",
    "        super().__init__()\n",
    "        self.model_directory = model_directory\n",
    "\n",
    "    def on_epoch_end(self,batch,logs=None):\n",
    "        if ('lr' not in logs.keys()):\n",
    "            logs.setdefault('lr',0)\n",
    "            logs['lr'] = K.get_value(self.model.optimizer.lr)\n",
    "\n",
    "        if not ('model_history.csv' in os.listdir(self.model_directory)):\n",
    "            with open(self.model_directory+'model_history.csv','a') as f:\n",
    "                y = csv.DictWriter(f,logs.keys())\n",
    "                y.writeheader()\n",
    "\n",
    "        with open(self.model_directory+'model_history.csv','a') as f:\n",
    "            y = csv.DictWriter(f,logs.keys())\n",
    "            y.writerow(logs)"
   ]
  },
  {
   "cell_type": "code",
   "execution_count": 9,
   "id": "7866fc8e",
   "metadata": {
    "execution": {
     "iopub.execute_input": "2022-11-07T15:56:47.936301Z",
     "iopub.status.busy": "2022-11-07T15:56:47.936046Z",
     "iopub.status.idle": "2022-11-07T15:56:47.945335Z",
     "shell.execute_reply": "2022-11-07T15:56:47.944427Z"
    },
    "papermill": {
     "duration": 0.015767,
     "end_time": "2022-11-07T15:56:47.947346",
     "exception": false,
     "start_time": "2022-11-07T15:56:47.931579",
     "status": "completed"
    },
    "tags": []
   },
   "outputs": [],
   "source": [
    "def train(model_name, base_model):\n",
    "    base_model.trainable = False\n",
    "    inputs = Input(shape=(256, 256, 3))\n",
    "    x = base_model(inputs)\n",
    "    x = GlobalAveragePooling2D()(x)\n",
    "    outputs = Dense(1, activation=\"sigmoid\")(x)\n",
    "    model = Model(inputs=inputs, outputs=outputs)\n",
    "    model.compile(optimizer=\"adam\", loss=\"binary_crossentropy\", metrics=[\"accuracy\"])\n",
    "    try: os.mkdir(f\"logs/{model_name}/\")\n",
    "    except: pass\n",
    "    history = model.fit(train_ds, validation_data=val_ds, epochs=10, callbacks=[StoreModelHistory(f\"logs/{model_name}/\")])\n",
    "    \n",
    "    import matplotlib.pyplot as plt\n",
    "    plt.plot(history.history['accuracy'])\n",
    "    plt.plot(history.history['val_accuracy'])\n",
    "    plt.title('model accuracy')\n",
    "    plt.ylabel('accuracy')\n",
    "    plt.xlabel('epoch')\n",
    "    plt.legend(['train', 'test'], loc='upper left')\n",
    "    plt.show()\n",
    "    # summarize history for loss\n",
    "    plt.plot(history.history['loss'])\n",
    "    plt.plot(history.history['val_loss'])\n",
    "    plt.title('model loss')\n",
    "    plt.ylabel('loss')\n",
    "    plt.xlabel('epoch')\n",
    "    plt.legend(['train', 'test'], loc='upper left')\n",
    "    plt.show()\n",
    "    \n",
    "    model.save(f\"{model_name}-retrained.h5\")\n",
    "    \n",
    "    return history, model"
   ]
  },
  {
   "cell_type": "code",
   "execution_count": 10,
   "id": "2a5f4079",
   "metadata": {
    "execution": {
     "iopub.execute_input": "2022-11-07T15:56:47.955710Z",
     "iopub.status.busy": "2022-11-07T15:56:47.955433Z",
     "iopub.status.idle": "2022-11-07T15:57:05.974680Z",
     "shell.execute_reply": "2022-11-07T15:57:05.973563Z"
    },
    "papermill": {
     "duration": 18.026143,
     "end_time": "2022-11-07T15:57:05.977087",
     "exception": false,
     "start_time": "2022-11-07T15:56:47.950944",
     "status": "completed"
    },
    "tags": []
   },
   "outputs": [
    {
     "name": "stdout",
     "output_type": "stream",
     "text": [
      "Downloading data from https://storage.googleapis.com/tensorflow/keras-applications/mobilenet_v3/weights_mobilenet_v3_large_224_1.0_float_no_top.h5\n",
      "17612800/17605208 [==============================] - 1s 0us/step\n",
      "17620992/17605208 [==============================] - 1s 0us/step\n",
      "Downloading data from https://storage.googleapis.com/keras-applications/efficientnetb7_notop.h5\n",
      "258080768/258076736 [==============================] - 8s 0us/step\n",
      "258088960/258076736 [==============================] - 8s 0us/step\n"
     ]
    }
   ],
   "source": [
    "# Transfer Learning :)\n",
    "\n",
    "models = (\n",
    "    (\"mobilenet-v3-large\", tf.keras.applications.MobileNetV3Large(\n",
    "        input_shape=(256, 256, 3),\n",
    "        include_top=False,\n",
    "        weights='imagenet'\n",
    "    )),\n",
    "    (\"mobilenet-v3-small\", tf.keras.applications.MobileNetV3Large(\n",
    "        input_shape=(256, 256, 3),\n",
    "        include_top=False,\n",
    "        weights='imagenet'\n",
    "    )),\n",
    "    (\"efficient-b7\", tf.keras.applications.efficientnet.EfficientNetB7(\n",
    "        input_shape=(256, 256, 3),\n",
    "        include_top=False,\n",
    "        weights='imagenet'\n",
    "    ))\n",
    ")"
   ]
  },
  {
   "cell_type": "code",
   "execution_count": 11,
   "id": "770862e6",
   "metadata": {
    "execution": {
     "iopub.execute_input": "2022-11-07T15:57:06.003650Z",
     "iopub.status.busy": "2022-11-07T15:57:06.003310Z",
     "iopub.status.idle": "2022-11-07T15:57:06.984933Z",
     "shell.execute_reply": "2022-11-07T15:57:06.983577Z"
    },
    "papermill": {
     "duration": 0.99814,
     "end_time": "2022-11-07T15:57:06.987575",
     "exception": false,
     "start_time": "2022-11-07T15:57:05.989435",
     "status": "completed"
    },
    "tags": []
   },
   "outputs": [],
   "source": [
    "!mkdir logs"
   ]
  },
  {
   "cell_type": "code",
   "execution_count": 12,
   "id": "e670c682",
   "metadata": {
    "execution": {
     "iopub.execute_input": "2022-11-07T15:57:07.013718Z",
     "iopub.status.busy": "2022-11-07T15:57:07.013332Z",
     "iopub.status.idle": "2022-11-07T16:01:37.160753Z",
     "shell.execute_reply": "2022-11-07T16:01:37.159761Z"
    },
    "papermill": {
     "duration": 270.162852,
     "end_time": "2022-11-07T16:01:37.163411",
     "exception": false,
     "start_time": "2022-11-07T15:57:07.000559",
     "status": "completed"
    },
    "tags": []
   },
   "outputs": [
    {
     "name": "stdout",
     "output_type": "stream",
     "text": [
      "Epoch 1/10\n"
     ]
    },
    {
     "name": "stderr",
     "output_type": "stream",
     "text": [
      "2022-11-07 15:57:10.390019: I tensorflow/compiler/mlir/mlir_graph_optimization_pass.cc:185] None of the MLIR Optimization Passes are enabled (registered 2)\n",
      "Cleanup called...\n",
      "Cleanup called...\n",
      "Cleanup called...\n",
      "Cleanup called...\n",
      "Cleanup called...\n",
      "Cleanup called...\n",
      "Cleanup called...\n",
      "Cleanup called...\n",
      "Cleanup called...\n",
      "Cleanup called...\n",
      "Cleanup called...\n",
      "Cleanup called...\n",
      "Cleanup called...\n",
      "Cleanup called...\n",
      "Cleanup called...\n",
      "Cleanup called...\n",
      "Cleanup called...\n",
      "Cleanup called...\n",
      "Cleanup called...\n",
      "Cleanup called...\n",
      "Cleanup called...\n",
      "Cleanup called...\n",
      "Cleanup called...\n",
      "Cleanup called...\n",
      "Cleanup called...\n",
      "Cleanup called...\n",
      "Cleanup called...\n",
      "Cleanup called...\n",
      "Cleanup called...\n",
      "Cleanup called...\n",
      "Cleanup called...\n",
      "Cleanup called...\n",
      "Cleanup called...\n",
      "Cleanup called...\n",
      "Cleanup called...\n",
      "2022-11-07 15:57:12.062146: I tensorflow/stream_executor/cuda/cuda_dnn.cc:369] Loaded cuDNN version 8005\n"
     ]
    },
    {
     "name": "stdout",
     "output_type": "stream",
     "text": [
      " 3/37 [=>............................] - ETA: 3s - loss: 0.7174 - accuracy: 0.5625"
     ]
    },
    {
     "name": "stderr",
     "output_type": "stream",
     "text": [
      "Cleanup called...\n",
      "Cleanup called...\n",
      "Cleanup called...\n",
      "Cleanup called...\n",
      "Cleanup called...\n",
      "Cleanup called...\n",
      "Cleanup called...\n",
      "Cleanup called...\n",
      "Cleanup called...\n",
      "Cleanup called...\n"
     ]
    },
    {
     "name": "stdout",
     "output_type": "stream",
     "text": [
      " 7/37 [====>.........................] - ETA: 2s - loss: 0.7465 - accuracy: 0.5000"
     ]
    },
    {
     "name": "stderr",
     "output_type": "stream",
     "text": [
      "Cleanup called...\n",
      "Cleanup called...\n",
      "Cleanup called...\n",
      "Cleanup called...\n",
      "Cleanup called...\n",
      "Cleanup called...\n",
      "Cleanup called...\n",
      "Cleanup called...\n",
      "Cleanup called...\n",
      "Cleanup called...\n",
      "Cleanup called...\n",
      "Cleanup called...\n",
      "Cleanup called...\n",
      "Cleanup called...\n",
      "Cleanup called...\n",
      "Cleanup called...\n",
      "Cleanup called...\n"
     ]
    },
    {
     "name": "stdout",
     "output_type": "stream",
     "text": [
      "11/37 [=======>......................] - ETA: 1s - loss: 0.7192 - accuracy: 0.5227"
     ]
    },
    {
     "name": "stderr",
     "output_type": "stream",
     "text": [
      "Cleanup called...\n",
      "Cleanup called...\n",
      "Cleanup called...\n",
      "Cleanup called...\n",
      "Cleanup called...\n",
      "Cleanup called...\n",
      "Cleanup called...\n",
      "Cleanup called...\n",
      "Cleanup called...\n",
      "Cleanup called...\n",
      "Cleanup called...\n",
      "Cleanup called...\n"
     ]
    },
    {
     "name": "stdout",
     "output_type": "stream",
     "text": [
      "14/37 [==========>...................] - ETA: 1s - loss: 0.7075 - accuracy: 0.5402"
     ]
    },
    {
     "name": "stderr",
     "output_type": "stream",
     "text": [
      "Cleanup called...\n",
      "Cleanup called...\n",
      "Cleanup called...\n",
      "Cleanup called...\n",
      "Cleanup called...\n",
      "Cleanup called...\n",
      "Cleanup called...\n",
      "Cleanup called...\n",
      "Cleanup called...\n",
      "Cleanup called...\n"
     ]
    },
    {
     "name": "stdout",
     "output_type": "stream",
     "text": [
      "17/37 [============>.................] - ETA: 1s - loss: 0.6975 - accuracy: 0.5515"
     ]
    },
    {
     "name": "stderr",
     "output_type": "stream",
     "text": [
      "Cleanup called...\n",
      "Cleanup called...\n",
      "Cleanup called...\n",
      "Cleanup called...\n",
      "Cleanup called...\n",
      "Cleanup called...\n",
      "Cleanup called...\n",
      "Cleanup called...\n",
      "Cleanup called...\n",
      "Cleanup called...\n",
      "Cleanup called...\n",
      "Cleanup called...\n",
      "Cleanup called...\n",
      "Cleanup called...\n",
      "Cleanup called...\n"
     ]
    },
    {
     "name": "stdout",
     "output_type": "stream",
     "text": [
      "23/37 [=================>............] - ETA: 0s - loss: 0.6841 - accuracy: 0.5639"
     ]
    },
    {
     "name": "stderr",
     "output_type": "stream",
     "text": [
      "Cleanup called...\n",
      "Cleanup called...\n",
      "Cleanup called...\n",
      "Cleanup called...\n",
      "Cleanup called...\n",
      "Cleanup called...\n",
      "Cleanup called...\n",
      "Cleanup called...\n",
      "Cleanup called...\n",
      "Cleanup called...\n",
      "Cleanup called...\n",
      "Cleanup called...\n",
      "Cleanup called...\n",
      "Cleanup called...\n",
      "Cleanup called...\n",
      "Cleanup called...\n"
     ]
    },
    {
     "name": "stdout",
     "output_type": "stream",
     "text": [
      "27/37 [====================>.........] - ETA: 0s - loss: 0.6806 - accuracy: 0.5671"
     ]
    },
    {
     "name": "stderr",
     "output_type": "stream",
     "text": [
      "Cleanup called...\n",
      "Cleanup called...\n",
      "Cleanup called...\n",
      "Cleanup called...\n",
      "Cleanup called...\n",
      "Cleanup called...\n",
      "Cleanup called...\n",
      "Cleanup called...\n",
      "Cleanup called...\n",
      "Cleanup called...\n",
      "Cleanup called...\n",
      "Cleanup called...\n",
      "Cleanup called...\n",
      "Cleanup called...\n",
      "Cleanup called...\n",
      "Cleanup called...\n"
     ]
    },
    {
     "name": "stdout",
     "output_type": "stream",
     "text": [
      "37/37 [==============================] - ETA: 0s - loss: 0.6533 - accuracy: 0.6067"
     ]
    },
    {
     "name": "stderr",
     "output_type": "stream",
     "text": [
      "Cleanup called...\n",
      "Cleanup called...\n",
      "Cleanup called...\n",
      "Cleanup called...\n",
      "Cleanup called...\n",
      "Cleanup called...\n",
      "Cleanup called...\n",
      "Cleanup called...\n",
      "Cleanup called...\n",
      "Cleanup called...\n",
      "Cleanup called...\n",
      "Cleanup called...\n",
      "Cleanup called...\n"
     ]
    },
    {
     "name": "stdout",
     "output_type": "stream",
     "text": [
      "37/37 [==============================] - 14s 103ms/step - loss: 0.6533 - accuracy: 0.6067 - val_loss: 0.5298 - val_accuracy: 0.7907\n",
      "Epoch 2/10\n"
     ]
    },
    {
     "name": "stderr",
     "output_type": "stream",
     "text": [
      "Cleanup called...\n",
      "Cleanup called...\n",
      "Cleanup called...\n",
      "Cleanup called...\n",
      "Cleanup called...\n",
      "Cleanup called...\n",
      "Cleanup called...\n",
      "Cleanup called...\n",
      "Cleanup called...\n",
      "Cleanup called...\n",
      "Cleanup called...\n",
      "Cleanup called...\n",
      "Cleanup called...\n",
      "Cleanup called...\n",
      "Cleanup called...\n",
      "Cleanup called...\n",
      "Cleanup called...\n",
      "Cleanup called...\n",
      "Cleanup called...\n",
      "Cleanup called...\n",
      "Cleanup called...\n",
      "Cleanup called...\n",
      "Cleanup called...\n",
      "Cleanup called...\n",
      "Cleanup called...\n",
      "Cleanup called...\n",
      "Cleanup called...\n",
      "Cleanup called...\n",
      "Cleanup called...\n",
      "Cleanup called...\n",
      "Cleanup called...\n",
      "Cleanup called...\n",
      "Cleanup called...\n",
      "Cleanup called...\n",
      "Cleanup called...\n"
     ]
    },
    {
     "name": "stdout",
     "output_type": "stream",
     "text": [
      " 4/37 [==>...........................] - ETA: 2s - loss: 0.5540 - accuracy: 0.7500"
     ]
    },
    {
     "name": "stderr",
     "output_type": "stream",
     "text": [
      "Cleanup called...\n",
      "Cleanup called...\n",
      "Cleanup called...\n",
      "Cleanup called...\n",
      "Cleanup called...\n",
      "Cleanup called...\n",
      "Cleanup called...\n",
      "Cleanup called...\n",
      "Cleanup called...\n",
      "Cleanup called...\n",
      "Cleanup called...\n"
     ]
    },
    {
     "name": "stdout",
     "output_type": "stream",
     "text": [
      " 7/37 [====>.........................] - ETA: 1s - loss: 0.5622 - accuracy: 0.7277"
     ]
    },
    {
     "name": "stderr",
     "output_type": "stream",
     "text": [
      "Cleanup called...\n",
      "Cleanup called...\n",
      "Cleanup called...\n",
      "Cleanup called...\n",
      "Cleanup called...\n",
      "Cleanup called...\n",
      "Cleanup called...\n",
      "Cleanup called...\n",
      "Cleanup called...\n",
      "Cleanup called...\n",
      "Cleanup called...\n",
      "Cleanup called...\n",
      "Cleanup called...\n",
      "Cleanup called...\n",
      "Cleanup called...\n",
      "Cleanup called...\n",
      "Cleanup called...\n",
      "Cleanup called...\n"
     ]
    },
    {
     "name": "stdout",
     "output_type": "stream",
     "text": [
      "11/37 [=======>......................] - ETA: 1s - loss: 0.5412 - accuracy: 0.7386"
     ]
    },
    {
     "name": "stderr",
     "output_type": "stream",
     "text": [
      "Cleanup called...\n",
      "Cleanup called...\n",
      "Cleanup called...\n",
      "Cleanup called...\n",
      "Cleanup called...\n",
      "Cleanup called...\n",
      "Cleanup called...\n",
      "Cleanup called...\n",
      "Cleanup called...\n",
      "Cleanup called...\n",
      "Cleanup called...\n",
      "Cleanup called...\n"
     ]
    },
    {
     "name": "stdout",
     "output_type": "stream",
     "text": [
      "14/37 [==========>...................] - ETA: 1s - loss: 0.5388 - accuracy: 0.7411"
     ]
    },
    {
     "name": "stderr",
     "output_type": "stream",
     "text": [
      "Cleanup called...\n",
      "Cleanup called...\n",
      "Cleanup called...\n",
      "Cleanup called...\n",
      "Cleanup called...\n",
      "Cleanup called...\n",
      "Cleanup called...\n",
      "Cleanup called...\n",
      "Cleanup called...\n",
      "Cleanup called...\n"
     ]
    },
    {
     "name": "stdout",
     "output_type": "stream",
     "text": [
      "19/37 [==============>...............] - ETA: 1s - loss: 0.5371 - accuracy: 0.7368"
     ]
    },
    {
     "name": "stderr",
     "output_type": "stream",
     "text": [
      "Cleanup called...\n",
      "Cleanup called...\n",
      "Cleanup called...\n",
      "Cleanup called...\n",
      "Cleanup called...\n",
      "Cleanup called...\n",
      "Cleanup called...\n",
      "Cleanup called...\n",
      "Cleanup called...\n",
      "Cleanup called...\n",
      "Cleanup called...\n",
      "Cleanup called...\n",
      "Cleanup called...\n",
      "Cleanup called...\n"
     ]
    },
    {
     "name": "stdout",
     "output_type": "stream",
     "text": [
      "24/37 [==================>...........] - ETA: 0s - loss: 0.5370 - accuracy: 0.7357"
     ]
    },
    {
     "name": "stderr",
     "output_type": "stream",
     "text": [
      "Cleanup called...\n",
      "Cleanup called...\n",
      "Cleanup called...\n",
      "Cleanup called...\n",
      "Cleanup called...\n",
      "Cleanup called...\n",
      "Cleanup called...\n",
      "Cleanup called...\n",
      "Cleanup called...\n",
      "Cleanup called...\n",
      "Cleanup called...\n",
      "Cleanup called...\n",
      "Cleanup called...\n",
      "Cleanup called...\n",
      "Cleanup called...\n",
      "Cleanup called...\n",
      "Cleanup called...\n",
      "Cleanup called...\n"
     ]
    },
    {
     "name": "stdout",
     "output_type": "stream",
     "text": [
      "28/37 [=====================>........] - ETA: 0s - loss: 0.5311 - accuracy: 0.7444"
     ]
    },
    {
     "name": "stderr",
     "output_type": "stream",
     "text": [
      "Cleanup called...\n",
      "Cleanup called...\n",
      "Cleanup called...\n",
      "Cleanup called...\n",
      "Cleanup called...\n",
      "Cleanup called...\n",
      "Cleanup called...\n",
      "Cleanup called...\n",
      "Cleanup called...\n",
      "Cleanup called...\n",
      "Cleanup called...\n",
      "Cleanup called...\n",
      "Cleanup called...\n"
     ]
    },
    {
     "name": "stdout",
     "output_type": "stream",
     "text": [
      "36/37 [============================>.] - ETA: 0s - loss: 0.5231 - accuracy: 0.7543"
     ]
    },
    {
     "name": "stderr",
     "output_type": "stream",
     "text": [
      "Cleanup called...\n",
      "Cleanup called...\n",
      "Cleanup called...\n",
      "Cleanup called...\n",
      "Cleanup called...\n",
      "Cleanup called...\n",
      "Cleanup called...\n",
      "Cleanup called...\n",
      "Cleanup called...\n",
      "Cleanup called...\n",
      "Cleanup called...\n",
      "Cleanup called...\n",
      "Cleanup called...\n"
     ]
    },
    {
     "name": "stdout",
     "output_type": "stream",
     "text": [
      "37/37 [==============================] - 3s 60ms/step - loss: 0.5227 - accuracy: 0.7541 - val_loss: 0.4645 - val_accuracy: 0.7752\n",
      "Epoch 3/10\n"
     ]
    },
    {
     "name": "stderr",
     "output_type": "stream",
     "text": [
      "Cleanup called...\n",
      "Cleanup called...\n",
      "Cleanup called...\n",
      "Cleanup called...\n",
      "Cleanup called...\n",
      "Cleanup called...\n",
      "Cleanup called...\n",
      "Cleanup called...\n",
      "Cleanup called...\n",
      "Cleanup called...\n",
      "Cleanup called...\n",
      "Cleanup called...\n",
      "Cleanup called...\n",
      "Cleanup called...\n",
      "Cleanup called...\n",
      "Cleanup called...\n",
      "Cleanup called...\n",
      "Cleanup called...\n",
      "Cleanup called...\n",
      "Cleanup called...\n",
      "Cleanup called...\n",
      "Cleanup called...\n",
      "Cleanup called...\n",
      "Cleanup called...\n",
      "Cleanup called...\n",
      "Cleanup called...\n",
      "Cleanup called...\n",
      "Cleanup called...\n",
      "Cleanup called...\n",
      "Cleanup called...\n",
      "Cleanup called...\n"
     ]
    },
    {
     "name": "stdout",
     "output_type": "stream",
     "text": [
      " 2/37 [>.............................] - ETA: 2s - loss: 0.4239 - accuracy: 0.8438 "
     ]
    },
    {
     "name": "stderr",
     "output_type": "stream",
     "text": [
      "Cleanup called...\n",
      "Cleanup called...\n",
      "Cleanup called...\n",
      "Cleanup called...\n",
      "Cleanup called...\n",
      "Cleanup called...\n",
      "Cleanup called...\n",
      "Cleanup called...\n",
      "Cleanup called...\n",
      "Cleanup called...\n"
     ]
    },
    {
     "name": "stdout",
     "output_type": "stream",
     "text": [
      " 5/37 [===>..........................] - ETA: 2s - loss: 0.4620 - accuracy: 0.8000"
     ]
    },
    {
     "name": "stderr",
     "output_type": "stream",
     "text": [
      "Cleanup called...\n",
      "Cleanup called...\n",
      "Cleanup called...\n",
      "Cleanup called...\n",
      "Cleanup called...\n",
      "Cleanup called...\n",
      "Cleanup called...\n",
      "Cleanup called...\n",
      "Cleanup called...\n",
      "Cleanup called...\n",
      "Cleanup called...\n",
      "Cleanup called...\n"
     ]
    },
    {
     "name": "stdout",
     "output_type": "stream",
     "text": [
      " 8/37 [=====>........................] - ETA: 1s - loss: 0.4768 - accuracy: 0.7891"
     ]
    },
    {
     "name": "stderr",
     "output_type": "stream",
     "text": [
      "Cleanup called...\n",
      "Cleanup called...\n",
      "Cleanup called...\n",
      "Cleanup called...\n",
      "Cleanup called...\n",
      "Cleanup called...\n",
      "Cleanup called...\n",
      "Cleanup called...\n",
      "Cleanup called...\n",
      "Cleanup called...\n",
      "Cleanup called...\n",
      "Cleanup called...\n",
      "Cleanup called...\n",
      "Cleanup called...\n",
      "Cleanup called...\n",
      "Cleanup called...\n",
      "Cleanup called...\n"
     ]
    },
    {
     "name": "stdout",
     "output_type": "stream",
     "text": [
      "12/37 [========>.....................] - ETA: 1s - loss: 0.4676 - accuracy: 0.8047"
     ]
    },
    {
     "name": "stderr",
     "output_type": "stream",
     "text": [
      "Cleanup called...\n",
      "Cleanup called...\n",
      "Cleanup called...\n",
      "Cleanup called...\n",
      "Cleanup called...\n",
      "Cleanup called...\n",
      "Cleanup called...\n",
      "Cleanup called...\n",
      "Cleanup called...\n"
     ]
    },
    {
     "name": "stdout",
     "output_type": "stream",
     "text": [
      "16/37 [===========>..................] - ETA: 1s - loss: 0.4715 - accuracy: 0.7832"
     ]
    },
    {
     "name": "stderr",
     "output_type": "stream",
     "text": [
      "Cleanup called...\n",
      "Cleanup called...\n",
      "Cleanup called...\n",
      "Cleanup called...\n",
      "Cleanup called...\n",
      "Cleanup called...\n",
      "Cleanup called...\n",
      "Cleanup called...\n",
      "Cleanup called...\n",
      "Cleanup called...\n",
      "Cleanup called...\n"
     ]
    },
    {
     "name": "stdout",
     "output_type": "stream",
     "text": [
      "19/37 [==============>...............] - ETA: 1s - loss: 0.4749 - accuracy: 0.7796"
     ]
    },
    {
     "name": "stderr",
     "output_type": "stream",
     "text": [
      "Cleanup called...\n",
      "Cleanup called...\n",
      "Cleanup called...\n",
      "Cleanup called...\n",
      "Cleanup called...\n",
      "Cleanup called...\n",
      "Cleanup called...\n",
      "Cleanup called...\n",
      "Cleanup called...\n",
      "Cleanup called...\n",
      "Cleanup called...\n",
      "Cleanup called...\n",
      "Cleanup called...\n"
     ]
    },
    {
     "name": "stdout",
     "output_type": "stream",
     "text": [
      "24/37 [==================>...........] - ETA: 0s - loss: 0.4825 - accuracy: 0.7695"
     ]
    },
    {
     "name": "stderr",
     "output_type": "stream",
     "text": [
      "Cleanup called...\n",
      "Cleanup called...\n",
      "Cleanup called...\n",
      "Cleanup called...\n",
      "Cleanup called...\n",
      "Cleanup called...\n",
      "Cleanup called...\n",
      "Cleanup called...\n",
      "Cleanup called...\n",
      "Cleanup called...\n",
      "Cleanup called...\n",
      "Cleanup called...\n",
      "Cleanup called...\n",
      "Cleanup called...\n",
      "Cleanup called...\n"
     ]
    },
    {
     "name": "stdout",
     "output_type": "stream",
     "text": [
      "26/37 [====================>.........] - ETA: 0s - loss: 0.4746 - accuracy: 0.7776"
     ]
    },
    {
     "name": "stderr",
     "output_type": "stream",
     "text": [
      "Cleanup called...\n",
      "Cleanup called...\n",
      "Cleanup called...\n",
      "Cleanup called...\n",
      "Cleanup called...\n",
      "Cleanup called...\n",
      "Cleanup called...\n",
      "Cleanup called...\n",
      "Cleanup called...\n",
      "Cleanup called...\n",
      "Cleanup called...\n",
      "Cleanup called...\n",
      "Cleanup called...\n"
     ]
    },
    {
     "name": "stdout",
     "output_type": "stream",
     "text": [
      "36/37 [============================>.] - ETA: 0s - loss: 0.4716 - accuracy: 0.7873"
     ]
    },
    {
     "name": "stderr",
     "output_type": "stream",
     "text": [
      "Cleanup called...\n",
      "Cleanup called...\n",
      "Cleanup called...\n",
      "Cleanup called...\n",
      "Cleanup called...\n",
      "Cleanup called...\n",
      "Cleanup called...\n",
      "Cleanup called...\n",
      "Cleanup called...\n",
      "Cleanup called...\n",
      "Cleanup called...\n",
      "Cleanup called...\n",
      "Cleanup called...\n"
     ]
    },
    {
     "name": "stdout",
     "output_type": "stream",
     "text": [
      "37/37 [==============================] - 3s 63ms/step - loss: 0.4727 - accuracy: 0.7866 - val_loss: 0.4443 - val_accuracy: 0.8062\n",
      "Epoch 4/10\n"
     ]
    },
    {
     "name": "stderr",
     "output_type": "stream",
     "text": [
      "Cleanup called...\n",
      "Cleanup called...\n",
      "Cleanup called...\n",
      "Cleanup called...\n",
      "Cleanup called...\n",
      "Cleanup called...\n",
      "Cleanup called...\n",
      "Cleanup called...\n",
      "Cleanup called...\n",
      "Cleanup called...\n",
      "Cleanup called...\n",
      "Cleanup called...\n",
      "Cleanup called...\n",
      "Cleanup called...\n",
      "Cleanup called...\n",
      "Cleanup called...\n",
      "Cleanup called...\n",
      "Cleanup called...\n",
      "Cleanup called...\n",
      "Cleanup called...\n",
      "Cleanup called...\n",
      "Cleanup called...\n",
      "Cleanup called...\n",
      "Cleanup called...\n",
      "Cleanup called...\n",
      "Cleanup called...\n",
      "Cleanup called...\n",
      "Cleanup called...\n",
      "Cleanup called...\n",
      "Cleanup called...\n",
      "Cleanup called...\n",
      "Cleanup called...\n",
      "Cleanup called...\n",
      "Cleanup called...\n",
      "Cleanup called...\n"
     ]
    },
    {
     "name": "stdout",
     "output_type": "stream",
     "text": [
      " 4/37 [==>...........................] - ETA: 2s - loss: 0.4468 - accuracy: 0.7891"
     ]
    },
    {
     "name": "stderr",
     "output_type": "stream",
     "text": [
      "Cleanup called...\n",
      "Cleanup called...\n",
      "Cleanup called...\n",
      "Cleanup called...\n",
      "Cleanup called...\n",
      "Cleanup called...\n",
      "Cleanup called...\n",
      "Cleanup called...\n",
      "Cleanup called...\n",
      "Cleanup called...\n",
      "Cleanup called...\n"
     ]
    },
    {
     "name": "stdout",
     "output_type": "stream",
     "text": [
      " 7/37 [====>.........................] - ETA: 1s - loss: 0.4413 - accuracy: 0.7902"
     ]
    },
    {
     "name": "stderr",
     "output_type": "stream",
     "text": [
      "Cleanup called...\n",
      "Cleanup called...\n",
      "Cleanup called...\n",
      "Cleanup called...\n",
      "Cleanup called...\n",
      "Cleanup called...\n",
      "Cleanup called...\n",
      "Cleanup called...\n",
      "Cleanup called...\n",
      "Cleanup called...\n",
      "Cleanup called...\n",
      "Cleanup called...\n",
      "Cleanup called...\n",
      "Cleanup called...\n",
      "Cleanup called...\n",
      "Cleanup called...\n"
     ]
    },
    {
     "name": "stdout",
     "output_type": "stream",
     "text": [
      "10/37 [=======>......................] - ETA: 1s - loss: 0.4327 - accuracy: 0.8000"
     ]
    },
    {
     "name": "stderr",
     "output_type": "stream",
     "text": [
      "Cleanup called...\n",
      "Cleanup called...\n",
      "Cleanup called...\n",
      "Cleanup called...\n",
      "Cleanup called...\n",
      "Cleanup called...\n",
      "Cleanup called...\n",
      "Cleanup called...\n",
      "Cleanup called...\n",
      "Cleanup called...\n",
      "Cleanup called...\n"
     ]
    },
    {
     "name": "stdout",
     "output_type": "stream",
     "text": [
      "14/37 [==========>...................] - ETA: 1s - loss: 0.4380 - accuracy: 0.7946"
     ]
    },
    {
     "name": "stderr",
     "output_type": "stream",
     "text": [
      "Cleanup called...\n",
      "Cleanup called...\n",
      "Cleanup called...\n",
      "Cleanup called...\n",
      "Cleanup called...\n",
      "Cleanup called...\n",
      "Cleanup called...\n",
      "Cleanup called...\n",
      "Cleanup called...\n",
      "Cleanup called...\n",
      "Cleanup called...\n"
     ]
    },
    {
     "name": "stdout",
     "output_type": "stream",
     "text": [
      "18/37 [=============>................] - ETA: 1s - loss: 0.4448 - accuracy: 0.7760"
     ]
    },
    {
     "name": "stderr",
     "output_type": "stream",
     "text": [
      "Cleanup called...\n",
      "Cleanup called...\n",
      "Cleanup called...\n",
      "Cleanup called...\n",
      "Cleanup called...\n",
      "Cleanup called...\n",
      "Cleanup called...\n",
      "Cleanup called...\n",
      "Cleanup called...\n",
      "Cleanup called...\n",
      "Cleanup called...\n",
      "Cleanup called...\n",
      "Cleanup called...\n",
      "Cleanup called...\n"
     ]
    },
    {
     "name": "stdout",
     "output_type": "stream",
     "text": [
      "22/37 [================>.............] - ETA: 0s - loss: 0.4454 - accuracy: 0.7784"
     ]
    },
    {
     "name": "stderr",
     "output_type": "stream",
     "text": [
      "Cleanup called...\n",
      "Cleanup called...\n",
      "Cleanup called...\n",
      "Cleanup called...\n",
      "Cleanup called...\n",
      "Cleanup called...\n",
      "Cleanup called...\n",
      "Cleanup called...\n",
      "Cleanup called...\n",
      "Cleanup called...\n",
      "Cleanup called...\n",
      "Cleanup called...\n",
      "Cleanup called...\n"
     ]
    },
    {
     "name": "stdout",
     "output_type": "stream",
     "text": [
      "26/37 [====================>.........] - ETA: 0s - loss: 0.4450 - accuracy: 0.7861"
     ]
    },
    {
     "name": "stderr",
     "output_type": "stream",
     "text": [
      "Cleanup called...\n",
      "Cleanup called...\n",
      "Cleanup called...\n",
      "Cleanup called...\n",
      "Cleanup called...\n",
      "Cleanup called...\n",
      "Cleanup called...\n",
      "Cleanup called...\n",
      "Cleanup called...\n",
      "Cleanup called...\n",
      "Cleanup called...\n",
      "Cleanup called...\n",
      "Cleanup called...\n"
     ]
    },
    {
     "name": "stdout",
     "output_type": "stream",
     "text": [
      "30/37 [=======================>......] - ETA: 0s - loss: 0.4479 - accuracy: 0.7875"
     ]
    },
    {
     "name": "stderr",
     "output_type": "stream",
     "text": [
      "Cleanup called...\n",
      "Cleanup called...\n",
      "Cleanup called...\n",
      "Cleanup called...\n",
      "Cleanup called...\n",
      "Cleanup called...\n",
      "Cleanup called...\n"
     ]
    },
    {
     "name": "stdout",
     "output_type": "stream",
     "text": [
      "36/37 [============================>.] - ETA: 0s - loss: 0.4434 - accuracy: 0.7925"
     ]
    },
    {
     "name": "stderr",
     "output_type": "stream",
     "text": [
      "Cleanup called...\n",
      "Cleanup called...\n",
      "Cleanup called...\n",
      "Cleanup called...\n",
      "Cleanup called...\n",
      "Cleanup called...\n",
      "Cleanup called...\n",
      "Cleanup called...\n",
      "Cleanup called...\n",
      "Cleanup called...\n",
      "Cleanup called...\n",
      "Cleanup called...\n",
      "Cleanup called...\n"
     ]
    },
    {
     "name": "stdout",
     "output_type": "stream",
     "text": [
      "37/37 [==============================] - 3s 63ms/step - loss: 0.4422 - accuracy: 0.7952 - val_loss: 0.4171 - val_accuracy: 0.8140\n",
      "Epoch 5/10\n"
     ]
    },
    {
     "name": "stderr",
     "output_type": "stream",
     "text": [
      "Cleanup called...\n",
      "Cleanup called...\n",
      "Cleanup called...\n",
      "Cleanup called...\n",
      "Cleanup called...\n",
      "Cleanup called...\n",
      "Cleanup called...\n",
      "Cleanup called...\n",
      "Cleanup called...\n",
      "Cleanup called...\n",
      "Cleanup called...\n",
      "Cleanup called...\n",
      "Cleanup called...\n",
      "Cleanup called...\n",
      "Cleanup called...\n",
      "Cleanup called...\n",
      "Cleanup called...\n",
      "Cleanup called...\n",
      "Cleanup called...\n"
     ]
    },
    {
     "name": "stdout",
     "output_type": "stream",
     "text": [
      " 1/37 [..............................] - ETA: 14s - loss: 0.3818 - accuracy: 0.8125"
     ]
    },
    {
     "name": "stderr",
     "output_type": "stream",
     "text": [
      "Cleanup called...\n",
      "Cleanup called...\n",
      "Cleanup called...\n",
      "Cleanup called...\n",
      "Cleanup called...\n",
      "Cleanup called...\n",
      "Cleanup called...\n",
      "Cleanup called...\n",
      "Cleanup called...\n",
      "Cleanup called...\n",
      "Cleanup called...\n",
      "Cleanup called...\n",
      "Cleanup called...\n",
      "Cleanup called...\n",
      "Cleanup called...\n",
      "Cleanup called...\n"
     ]
    },
    {
     "name": "stdout",
     "output_type": "stream",
     "text": [
      " 4/37 [==>...........................] - ETA: 2s - loss: 0.3847 - accuracy: 0.8203"
     ]
    },
    {
     "name": "stderr",
     "output_type": "stream",
     "text": [
      "Cleanup called...\n",
      "Cleanup called...\n",
      "Cleanup called...\n",
      "Cleanup called...\n",
      "Cleanup called...\n",
      "Cleanup called...\n",
      "Cleanup called...\n",
      "Cleanup called...\n",
      "Cleanup called...\n",
      "Cleanup called...\n"
     ]
    },
    {
     "name": "stdout",
     "output_type": "stream",
     "text": [
      " 7/37 [====>.........................] - ETA: 1s - loss: 0.4019 - accuracy: 0.8214"
     ]
    },
    {
     "name": "stderr",
     "output_type": "stream",
     "text": [
      "Cleanup called...\n",
      "Cleanup called...\n",
      "Cleanup called...\n",
      "Cleanup called...\n",
      "Cleanup called...\n",
      "Cleanup called...\n",
      "Cleanup called...\n",
      "Cleanup called...\n",
      "Cleanup called...\n",
      "Cleanup called...\n",
      "Cleanup called...\n",
      "Cleanup called...\n",
      "Cleanup called...\n",
      "Cleanup called...\n",
      "Cleanup called...\n",
      "Cleanup called...\n",
      "Cleanup called...\n"
     ]
    },
    {
     "name": "stdout",
     "output_type": "stream",
     "text": [
      "10/37 [=======>......................] - ETA: 1s - loss: 0.4057 - accuracy: 0.8156"
     ]
    },
    {
     "name": "stderr",
     "output_type": "stream",
     "text": [
      "Cleanup called...\n",
      "Cleanup called...\n",
      "Cleanup called...\n",
      "Cleanup called...\n",
      "Cleanup called...\n",
      "Cleanup called...\n",
      "Cleanup called...\n",
      "Cleanup called...\n",
      "Cleanup called...\n",
      "Cleanup called...\n",
      "Cleanup called...\n",
      "Cleanup called...\n"
     ]
    },
    {
     "name": "stdout",
     "output_type": "stream",
     "text": [
      "14/37 [==========>...................] - ETA: 1s - loss: 0.4206 - accuracy: 0.8013"
     ]
    },
    {
     "name": "stderr",
     "output_type": "stream",
     "text": [
      "Cleanup called...\n",
      "Cleanup called...\n",
      "Cleanup called...\n",
      "Cleanup called...\n",
      "Cleanup called...\n",
      "Cleanup called...\n",
      "Cleanup called...\n",
      "Cleanup called...\n",
      "Cleanup called...\n",
      "Cleanup called...\n"
     ]
    },
    {
     "name": "stdout",
     "output_type": "stream",
     "text": [
      "17/37 [============>.................] - ETA: 1s - loss: 0.4115 - accuracy: 0.8088"
     ]
    },
    {
     "name": "stderr",
     "output_type": "stream",
     "text": [
      "Cleanup called...\n",
      "Cleanup called...\n",
      "Cleanup called...\n",
      "Cleanup called...\n",
      "Cleanup called...\n",
      "Cleanup called...\n",
      "Cleanup called...\n",
      "Cleanup called...\n",
      "Cleanup called...\n",
      "Cleanup called...\n",
      "Cleanup called...\n",
      "Cleanup called...\n",
      "Cleanup called...\n",
      "Cleanup called...\n",
      "Cleanup called...\n"
     ]
    },
    {
     "name": "stdout",
     "output_type": "stream",
     "text": [
      "23/37 [=================>............] - ETA: 0s - loss: 0.4272 - accuracy: 0.7962"
     ]
    },
    {
     "name": "stderr",
     "output_type": "stream",
     "text": [
      "Cleanup called...\n",
      "Cleanup called...\n",
      "Cleanup called...\n",
      "Cleanup called...\n",
      "Cleanup called...\n",
      "Cleanup called...\n",
      "Cleanup called...\n",
      "Cleanup called...\n",
      "Cleanup called...\n",
      "Cleanup called...\n",
      "Cleanup called...\n",
      "Cleanup called...\n",
      "Cleanup called...\n",
      "Cleanup called...\n",
      "Cleanup called...\n",
      "Cleanup called...\n"
     ]
    },
    {
     "name": "stdout",
     "output_type": "stream",
     "text": [
      "27/37 [====================>.........] - ETA: 0s - loss: 0.4150 - accuracy: 0.8079"
     ]
    },
    {
     "name": "stderr",
     "output_type": "stream",
     "text": [
      "Cleanup called...\n",
      "Cleanup called...\n",
      "Cleanup called...\n",
      "Cleanup called...\n",
      "Cleanup called...\n",
      "Cleanup called...\n",
      "Cleanup called...\n",
      "Cleanup called...\n",
      "Cleanup called...\n",
      "Cleanup called...\n",
      "Cleanup called...\n",
      "Cleanup called...\n",
      "Cleanup called...\n",
      "Cleanup called...\n",
      "Cleanup called...\n",
      "Cleanup called...\n"
     ]
    },
    {
     "name": "stdout",
     "output_type": "stream",
     "text": [
      "36/37 [============================>.] - ETA: 0s - loss: 0.4159 - accuracy: 0.8038"
     ]
    },
    {
     "name": "stderr",
     "output_type": "stream",
     "text": [
      "Cleanup called...\n",
      "Cleanup called...\n",
      "Cleanup called...\n",
      "Cleanup called...\n",
      "Cleanup called...\n",
      "Cleanup called...\n",
      "Cleanup called...\n",
      "Cleanup called...\n",
      "Cleanup called...\n",
      "Cleanup called...\n",
      "Cleanup called...\n",
      "Cleanup called...\n",
      "Cleanup called...\n"
     ]
    },
    {
     "name": "stdout",
     "output_type": "stream",
     "text": [
      "37/37 [==============================] - 3s 67ms/step - loss: 0.4151 - accuracy: 0.8055 - val_loss: 0.4157 - val_accuracy: 0.7984\n",
      "Epoch 6/10\n"
     ]
    },
    {
     "name": "stderr",
     "output_type": "stream",
     "text": [
      "Cleanup called...\n",
      "Cleanup called...\n",
      "Cleanup called...\n",
      "Cleanup called...\n",
      "Cleanup called...\n",
      "Cleanup called...\n",
      "Cleanup called...\n",
      "Cleanup called...\n",
      "Cleanup called...\n",
      "Cleanup called...\n",
      "Cleanup called...\n",
      "Cleanup called...\n",
      "Cleanup called...\n",
      "Cleanup called...\n",
      "Cleanup called...\n",
      "Cleanup called...\n",
      "Cleanup called...\n",
      "Cleanup called...\n",
      "Cleanup called...\n",
      "Cleanup called...\n",
      "Cleanup called...\n",
      "Cleanup called...\n",
      "Cleanup called...\n",
      "Cleanup called...\n",
      "Cleanup called...\n",
      "Cleanup called...\n",
      "Cleanup called...\n",
      "Cleanup called...\n",
      "Cleanup called...\n",
      "Cleanup called...\n",
      "Cleanup called...\n",
      "Cleanup called...\n",
      "Cleanup called...\n",
      "Cleanup called...\n",
      "Cleanup called...\n"
     ]
    },
    {
     "name": "stdout",
     "output_type": "stream",
     "text": [
      " 4/37 [==>...........................] - ETA: 2s - loss: 0.4138 - accuracy: 0.8281"
     ]
    },
    {
     "name": "stderr",
     "output_type": "stream",
     "text": [
      "Cleanup called...\n",
      "Cleanup called...\n",
      "Cleanup called...\n",
      "Cleanup called...\n",
      "Cleanup called...\n",
      "Cleanup called...\n",
      "Cleanup called...\n",
      "Cleanup called...\n",
      "Cleanup called...\n",
      "Cleanup called...\n",
      "Cleanup called...\n",
      "Cleanup called...\n"
     ]
    },
    {
     "name": "stdout",
     "output_type": "stream",
     "text": [
      " 7/37 [====>.........................] - ETA: 1s - loss: 0.3812 - accuracy: 0.8482"
     ]
    },
    {
     "name": "stderr",
     "output_type": "stream",
     "text": [
      "Cleanup called...\n",
      "Cleanup called...\n",
      "Cleanup called...\n",
      "Cleanup called...\n",
      "Cleanup called...\n",
      "Cleanup called...\n",
      "Cleanup called...\n",
      "Cleanup called...\n",
      "Cleanup called...\n",
      "Cleanup called...\n",
      "Cleanup called...\n",
      "Cleanup called...\n",
      "Cleanup called...\n",
      "Cleanup called...\n",
      "Cleanup called...\n",
      "Cleanup called...\n",
      "Cleanup called...\n"
     ]
    },
    {
     "name": "stdout",
     "output_type": "stream",
     "text": [
      "11/37 [=======>......................] - ETA: 1s - loss: 0.3883 - accuracy: 0.8239"
     ]
    },
    {
     "name": "stderr",
     "output_type": "stream",
     "text": [
      "Cleanup called...\n",
      "Cleanup called...\n",
      "Cleanup called...\n",
      "Cleanup called...\n",
      "Cleanup called...\n",
      "Cleanup called...\n",
      "Cleanup called...\n",
      "Cleanup called...\n",
      "Cleanup called...\n",
      "Cleanup called...\n",
      "Cleanup called...\n",
      "Cleanup called...\n"
     ]
    },
    {
     "name": "stdout",
     "output_type": "stream",
     "text": [
      "15/37 [===========>..................] - ETA: 1s - loss: 0.3968 - accuracy: 0.8167"
     ]
    },
    {
     "name": "stderr",
     "output_type": "stream",
     "text": [
      "Cleanup called...\n",
      "Cleanup called...\n",
      "Cleanup called...\n",
      "Cleanup called...\n",
      "Cleanup called...\n",
      "Cleanup called...\n",
      "Cleanup called...\n",
      "Cleanup called...\n",
      "Cleanup called...\n",
      "Cleanup called...\n"
     ]
    },
    {
     "name": "stdout",
     "output_type": "stream",
     "text": [
      "19/37 [==============>...............] - ETA: 1s - loss: 0.3935 - accuracy: 0.8158"
     ]
    },
    {
     "name": "stderr",
     "output_type": "stream",
     "text": [
      "Cleanup called...\n",
      "Cleanup called...\n",
      "Cleanup called...\n",
      "Cleanup called...\n",
      "Cleanup called...\n",
      "Cleanup called...\n",
      "Cleanup called...\n",
      "Cleanup called...\n",
      "Cleanup called...\n",
      "Cleanup called...\n",
      "Cleanup called...\n",
      "Cleanup called...\n",
      "Cleanup called...\n",
      "Cleanup called...\n"
     ]
    },
    {
     "name": "stdout",
     "output_type": "stream",
     "text": [
      "23/37 [=================>............] - ETA: 0s - loss: 0.3938 - accuracy: 0.8139"
     ]
    },
    {
     "name": "stderr",
     "output_type": "stream",
     "text": [
      "Cleanup called...\n",
      "Cleanup called...\n",
      "Cleanup called...\n",
      "Cleanup called...\n",
      "Cleanup called...\n",
      "Cleanup called...\n",
      "Cleanup called...\n",
      "Cleanup called...\n",
      "Cleanup called...\n",
      "Cleanup called...\n",
      "Cleanup called...\n",
      "Cleanup called...\n",
      "Cleanup called...\n",
      "Cleanup called...\n",
      "Cleanup called...\n",
      "Cleanup called...\n",
      "Cleanup called...\n"
     ]
    },
    {
     "name": "stdout",
     "output_type": "stream",
     "text": [
      "27/37 [====================>.........] - ETA: 0s - loss: 0.3979 - accuracy: 0.8194"
     ]
    },
    {
     "name": "stderr",
     "output_type": "stream",
     "text": [
      "Cleanup called...\n",
      "Cleanup called...\n",
      "Cleanup called...\n",
      "Cleanup called...\n",
      "Cleanup called...\n",
      "Cleanup called...\n",
      "Cleanup called...\n",
      "Cleanup called...\n",
      "Cleanup called...\n",
      "Cleanup called...\n",
      "Cleanup called...\n",
      "Cleanup called...\n",
      "Cleanup called...\n",
      "Cleanup called...\n"
     ]
    },
    {
     "name": "stdout",
     "output_type": "stream",
     "text": [
      "36/37 [============================>.] - ETA: 0s - loss: 0.3971 - accuracy: 0.8229"
     ]
    },
    {
     "name": "stderr",
     "output_type": "stream",
     "text": [
      "Cleanup called...\n",
      "Cleanup called...\n",
      "Cleanup called...\n",
      "Cleanup called...\n",
      "Cleanup called...\n",
      "Cleanup called...\n",
      "Cleanup called...\n",
      "Cleanup called...\n",
      "Cleanup called...\n",
      "Cleanup called...\n",
      "Cleanup called...\n",
      "Cleanup called...\n",
      "Cleanup called...\n"
     ]
    },
    {
     "name": "stdout",
     "output_type": "stream",
     "text": [
      "37/37 [==============================] - 3s 61ms/step - loss: 0.3969 - accuracy: 0.8235 - val_loss: 0.3975 - val_accuracy: 0.8062\n",
      "Epoch 7/10\n"
     ]
    },
    {
     "name": "stderr",
     "output_type": "stream",
     "text": [
      "Cleanup called...\n",
      "Cleanup called...\n",
      "Cleanup called...\n",
      "Cleanup called...\n",
      "Cleanup called...\n",
      "Cleanup called...\n",
      "Cleanup called...\n",
      "Cleanup called...\n",
      "Cleanup called...\n",
      "Cleanup called...\n",
      "Cleanup called...\n",
      "Cleanup called...\n",
      "Cleanup called...\n",
      "Cleanup called...\n",
      "Cleanup called...\n",
      "Cleanup called...\n",
      "Cleanup called...\n",
      "Cleanup called...\n"
     ]
    },
    {
     "name": "stdout",
     "output_type": "stream",
     "text": [
      " 1/37 [..............................] - ETA: 15s - loss: 0.4268 - accuracy: 0.8438"
     ]
    },
    {
     "name": "stderr",
     "output_type": "stream",
     "text": [
      "Cleanup called...\n",
      "Cleanup called...\n",
      "Cleanup called...\n",
      "Cleanup called...\n",
      "Cleanup called...\n",
      "Cleanup called...\n",
      "Cleanup called...\n",
      "Cleanup called...\n",
      "Cleanup called...\n",
      "Cleanup called...\n",
      "Cleanup called...\n",
      "Cleanup called...\n",
      "Cleanup called...\n",
      "Cleanup called...\n",
      "Cleanup called...\n",
      "Cleanup called...\n",
      "Cleanup called...\n"
     ]
    },
    {
     "name": "stdout",
     "output_type": "stream",
     "text": [
      " 4/37 [==>...........................] - ETA: 2s - loss: 0.3890 - accuracy: 0.8438"
     ]
    },
    {
     "name": "stderr",
     "output_type": "stream",
     "text": [
      "Cleanup called...\n",
      "Cleanup called...\n",
      "Cleanup called...\n",
      "Cleanup called...\n",
      "Cleanup called...\n",
      "Cleanup called...\n",
      "Cleanup called...\n",
      "Cleanup called...\n",
      "Cleanup called...\n",
      "Cleanup called...\n",
      "Cleanup called...\n",
      "Cleanup called...\n"
     ]
    },
    {
     "name": "stdout",
     "output_type": "stream",
     "text": [
      " 7/37 [====>.........................] - ETA: 1s - loss: 0.3693 - accuracy: 0.8393"
     ]
    },
    {
     "name": "stderr",
     "output_type": "stream",
     "text": [
      "Cleanup called...\n",
      "Cleanup called...\n",
      "Cleanup called...\n",
      "Cleanup called...\n",
      "Cleanup called...\n",
      "Cleanup called...\n",
      "Cleanup called...\n",
      "Cleanup called...\n",
      "Cleanup called...\n",
      "Cleanup called...\n",
      "Cleanup called...\n",
      "Cleanup called...\n",
      "Cleanup called...\n",
      "Cleanup called...\n",
      "Cleanup called...\n",
      "Cleanup called...\n",
      "Cleanup called...\n"
     ]
    },
    {
     "name": "stdout",
     "output_type": "stream",
     "text": [
      "11/37 [=======>......................] - ETA: 1s - loss: 0.3922 - accuracy: 0.8068"
     ]
    },
    {
     "name": "stderr",
     "output_type": "stream",
     "text": [
      "Cleanup called...\n",
      "Cleanup called...\n",
      "Cleanup called...\n",
      "Cleanup called...\n",
      "Cleanup called...\n",
      "Cleanup called...\n",
      "Cleanup called...\n",
      "Cleanup called...\n",
      "Cleanup called...\n",
      "Cleanup called...\n",
      "Cleanup called...\n",
      "Cleanup called...\n"
     ]
    },
    {
     "name": "stdout",
     "output_type": "stream",
     "text": [
      "15/37 [===========>..................] - ETA: 1s - loss: 0.3933 - accuracy: 0.8125"
     ]
    },
    {
     "name": "stderr",
     "output_type": "stream",
     "text": [
      "Cleanup called...\n",
      "Cleanup called...\n",
      "Cleanup called...\n",
      "Cleanup called...\n",
      "Cleanup called...\n",
      "Cleanup called...\n",
      "Cleanup called...\n",
      "Cleanup called...\n",
      "Cleanup called...\n",
      "Cleanup called...\n"
     ]
    },
    {
     "name": "stdout",
     "output_type": "stream",
     "text": [
      "19/37 [==============>...............] - ETA: 1s - loss: 0.3819 - accuracy: 0.8224"
     ]
    },
    {
     "name": "stderr",
     "output_type": "stream",
     "text": [
      "Cleanup called...\n",
      "Cleanup called...\n",
      "Cleanup called...\n",
      "Cleanup called...\n",
      "Cleanup called...\n",
      "Cleanup called...\n",
      "Cleanup called...\n",
      "Cleanup called...\n",
      "Cleanup called...\n",
      "Cleanup called...\n",
      "Cleanup called...\n",
      "Cleanup called...\n",
      "Cleanup called...\n",
      "Cleanup called...\n"
     ]
    },
    {
     "name": "stdout",
     "output_type": "stream",
     "text": [
      "23/37 [=================>............] - ETA: 0s - loss: 0.3951 - accuracy: 0.8166"
     ]
    },
    {
     "name": "stderr",
     "output_type": "stream",
     "text": [
      "Cleanup called...\n",
      "Cleanup called...\n",
      "Cleanup called...\n",
      "Cleanup called...\n",
      "Cleanup called...\n",
      "Cleanup called...\n",
      "Cleanup called...\n",
      "Cleanup called...\n",
      "Cleanup called...\n",
      "Cleanup called...\n",
      "Cleanup called...\n",
      "Cleanup called...\n",
      "Cleanup called...\n",
      "Cleanup called...\n",
      "Cleanup called...\n",
      "Cleanup called...\n",
      "Cleanup called...\n"
     ]
    },
    {
     "name": "stdout",
     "output_type": "stream",
     "text": [
      "26/37 [====================>.........] - ETA: 0s - loss: 0.3904 - accuracy: 0.8197"
     ]
    },
    {
     "name": "stderr",
     "output_type": "stream",
     "text": [
      "Cleanup called...\n",
      "Cleanup called...\n",
      "Cleanup called...\n",
      "Cleanup called...\n",
      "Cleanup called...\n",
      "Cleanup called...\n",
      "Cleanup called...\n",
      "Cleanup called...\n",
      "Cleanup called...\n",
      "Cleanup called...\n",
      "Cleanup called...\n",
      "Cleanup called...\n",
      "Cleanup called...\n",
      "Cleanup called...\n"
     ]
    },
    {
     "name": "stdout",
     "output_type": "stream",
     "text": [
      "36/37 [============================>.] - ETA: 0s - loss: 0.3843 - accuracy: 0.8247"
     ]
    },
    {
     "name": "stderr",
     "output_type": "stream",
     "text": [
      "Cleanup called...\n",
      "Cleanup called...\n",
      "Cleanup called...\n",
      "Cleanup called...\n",
      "Cleanup called...\n",
      "Cleanup called...\n",
      "Cleanup called...\n",
      "Cleanup called...\n",
      "Cleanup called...\n",
      "Cleanup called...\n",
      "Cleanup called...\n",
      "Cleanup called...\n",
      "Cleanup called...\n"
     ]
    },
    {
     "name": "stdout",
     "output_type": "stream",
     "text": [
      "37/37 [==============================] - 3s 60ms/step - loss: 0.3850 - accuracy: 0.8243 - val_loss: 0.3818 - val_accuracy: 0.8140\n",
      "Epoch 8/10\n"
     ]
    },
    {
     "name": "stderr",
     "output_type": "stream",
     "text": [
      "Cleanup called...\n",
      "Cleanup called...\n",
      "Cleanup called...\n",
      "Cleanup called...\n",
      "Cleanup called...\n",
      "Cleanup called...\n",
      "Cleanup called...\n",
      "Cleanup called...\n",
      "Cleanup called...\n",
      "Cleanup called...\n",
      "Cleanup called...\n",
      "Cleanup called...\n",
      "Cleanup called...\n",
      "Cleanup called...\n",
      "Cleanup called...\n",
      "Cleanup called...\n",
      "Cleanup called...\n",
      "Cleanup called...\n",
      "Cleanup called...\n",
      "Cleanup called...\n",
      "Cleanup called...\n",
      "Cleanup called...\n",
      "Cleanup called...\n",
      "Cleanup called...\n",
      "Cleanup called...\n",
      "Cleanup called...\n",
      "Cleanup called...\n",
      "Cleanup called...\n",
      "Cleanup called...\n",
      "Cleanup called...\n",
      "Cleanup called...\n",
      "Cleanup called...\n",
      "Cleanup called...\n",
      "Cleanup called...\n",
      "Cleanup called...\n"
     ]
    },
    {
     "name": "stdout",
     "output_type": "stream",
     "text": [
      " 4/37 [==>...........................] - ETA: 2s - loss: 0.3386 - accuracy: 0.8828"
     ]
    },
    {
     "name": "stderr",
     "output_type": "stream",
     "text": [
      "Cleanup called...\n",
      "Cleanup called...\n",
      "Cleanup called...\n",
      "Cleanup called...\n",
      "Cleanup called...\n",
      "Cleanup called...\n",
      "Cleanup called...\n",
      "Cleanup called...\n",
      "Cleanup called...\n",
      "Cleanup called...\n",
      "Cleanup called...\n",
      "Cleanup called...\n"
     ]
    },
    {
     "name": "stdout",
     "output_type": "stream",
     "text": [
      " 7/37 [====>.........................] - ETA: 1s - loss: 0.3491 - accuracy: 0.8616"
     ]
    },
    {
     "name": "stderr",
     "output_type": "stream",
     "text": [
      "Cleanup called...\n",
      "Cleanup called...\n",
      "Cleanup called...\n",
      "Cleanup called...\n",
      "Cleanup called...\n",
      "Cleanup called...\n",
      "Cleanup called...\n",
      "Cleanup called...\n",
      "Cleanup called...\n",
      "Cleanup called...\n",
      "Cleanup called...\n",
      "Cleanup called...\n",
      "Cleanup called...\n",
      "Cleanup called...\n",
      "Cleanup called...\n",
      "Cleanup called...\n",
      "Cleanup called...\n"
     ]
    },
    {
     "name": "stdout",
     "output_type": "stream",
     "text": [
      "11/37 [=======>......................] - ETA: 1s - loss: 0.3607 - accuracy: 0.8438"
     ]
    },
    {
     "name": "stderr",
     "output_type": "stream",
     "text": [
      "Cleanup called...\n",
      "Cleanup called...\n",
      "Cleanup called...\n",
      "Cleanup called...\n",
      "Cleanup called...\n",
      "Cleanup called...\n",
      "Cleanup called...\n",
      "Cleanup called...\n",
      "Cleanup called...\n",
      "Cleanup called...\n",
      "Cleanup called...\n",
      "Cleanup called...\n"
     ]
    },
    {
     "name": "stdout",
     "output_type": "stream",
     "text": [
      "15/37 [===========>..................] - ETA: 1s - loss: 0.3705 - accuracy: 0.8333"
     ]
    },
    {
     "name": "stderr",
     "output_type": "stream",
     "text": [
      "Cleanup called...\n",
      "Cleanup called...\n",
      "Cleanup called...\n",
      "Cleanup called...\n",
      "Cleanup called...\n",
      "Cleanup called...\n",
      "Cleanup called...\n",
      "Cleanup called...\n",
      "Cleanup called...\n",
      "Cleanup called...\n"
     ]
    },
    {
     "name": "stdout",
     "output_type": "stream",
     "text": [
      "19/37 [==============>...............] - ETA: 1s - loss: 0.3674 - accuracy: 0.8322"
     ]
    },
    {
     "name": "stderr",
     "output_type": "stream",
     "text": [
      "Cleanup called...\n",
      "Cleanup called...\n",
      "Cleanup called...\n",
      "Cleanup called...\n",
      "Cleanup called...\n",
      "Cleanup called...\n",
      "Cleanup called...\n",
      "Cleanup called...\n",
      "Cleanup called...\n",
      "Cleanup called...\n",
      "Cleanup called...\n",
      "Cleanup called...\n",
      "Cleanup called...\n",
      "Cleanup called...\n"
     ]
    },
    {
     "name": "stdout",
     "output_type": "stream",
     "text": [
      "23/37 [=================>............] - ETA: 0s - loss: 0.3781 - accuracy: 0.8234"
     ]
    },
    {
     "name": "stderr",
     "output_type": "stream",
     "text": [
      "Cleanup called...\n",
      "Cleanup called...\n",
      "Cleanup called...\n",
      "Cleanup called...\n",
      "Cleanup called...\n",
      "Cleanup called...\n",
      "Cleanup called...\n",
      "Cleanup called...\n",
      "Cleanup called...\n",
      "Cleanup called...\n",
      "Cleanup called...\n",
      "Cleanup called...\n",
      "Cleanup called...\n",
      "Cleanup called...\n",
      "Cleanup called...\n",
      "Cleanup called...\n",
      "Cleanup called...\n"
     ]
    },
    {
     "name": "stdout",
     "output_type": "stream",
     "text": [
      "27/37 [====================>.........] - ETA: 0s - loss: 0.3732 - accuracy: 0.8310"
     ]
    },
    {
     "name": "stderr",
     "output_type": "stream",
     "text": [
      "Cleanup called...\n",
      "Cleanup called...\n",
      "Cleanup called...\n",
      "Cleanup called...\n",
      "Cleanup called...\n",
      "Cleanup called...\n",
      "Cleanup called...\n",
      "Cleanup called...\n",
      "Cleanup called...\n",
      "Cleanup called...\n",
      "Cleanup called...\n",
      "Cleanup called...\n",
      "Cleanup called...\n",
      "Cleanup called...\n"
     ]
    },
    {
     "name": "stdout",
     "output_type": "stream",
     "text": [
      "36/37 [============================>.] - ETA: 0s - loss: 0.3712 - accuracy: 0.8385"
     ]
    },
    {
     "name": "stderr",
     "output_type": "stream",
     "text": [
      "Cleanup called...\n",
      "Cleanup called...\n",
      "Cleanup called...\n",
      "Cleanup called...\n",
      "Cleanup called...\n",
      "Cleanup called...\n",
      "Cleanup called...\n",
      "Cleanup called...\n",
      "Cleanup called...\n",
      "Cleanup called...\n",
      "Cleanup called...\n",
      "Cleanup called...\n",
      "Cleanup called...\n"
     ]
    },
    {
     "name": "stdout",
     "output_type": "stream",
     "text": [
      "37/37 [==============================] - 3s 59ms/step - loss: 0.3694 - accuracy: 0.8398 - val_loss: 0.3608 - val_accuracy: 0.8372\n",
      "Epoch 9/10\n"
     ]
    },
    {
     "name": "stderr",
     "output_type": "stream",
     "text": [
      "Cleanup called...\n",
      "Cleanup called...\n",
      "Cleanup called...\n",
      "Cleanup called...\n",
      "Cleanup called...\n",
      "Cleanup called...\n",
      "Cleanup called...\n",
      "Cleanup called...\n",
      "Cleanup called...\n",
      "Cleanup called...\n",
      "Cleanup called...\n",
      "Cleanup called...\n",
      "Cleanup called...\n",
      "Cleanup called...\n",
      "Cleanup called...\n",
      "Cleanup called...\n",
      "Cleanup called...\n",
      "Cleanup called...\n",
      "Cleanup called...\n",
      "Cleanup called...\n",
      "Cleanup called...\n",
      "Cleanup called...\n"
     ]
    },
    {
     "name": "stdout",
     "output_type": "stream",
     "text": [
      " 1/37 [..............................] - ETA: 13s - loss: 0.4123 - accuracy: 0.7500"
     ]
    },
    {
     "name": "stderr",
     "output_type": "stream",
     "text": [
      "Cleanup called...\n",
      "Cleanup called...\n",
      "Cleanup called...\n",
      "Cleanup called...\n",
      "Cleanup called...\n",
      "Cleanup called...\n",
      "Cleanup called...\n",
      "Cleanup called...\n",
      "Cleanup called...\n",
      "Cleanup called...\n",
      "Cleanup called...\n",
      "Cleanup called...\n",
      "Cleanup called...\n",
      "Cleanup called...\n",
      "Cleanup called...\n"
     ]
    },
    {
     "name": "stdout",
     "output_type": "stream",
     "text": [
      " 4/37 [==>...........................] - ETA: 2s - loss: 0.3683 - accuracy: 0.8125"
     ]
    },
    {
     "name": "stderr",
     "output_type": "stream",
     "text": [
      "Cleanup called...\n",
      "Cleanup called...\n",
      "Cleanup called...\n",
      "Cleanup called...\n",
      "Cleanup called...\n",
      "Cleanup called...\n",
      "Cleanup called...\n",
      "Cleanup called...\n",
      "Cleanup called...\n",
      "Cleanup called...\n",
      "Cleanup called...\n",
      "Cleanup called...\n"
     ]
    },
    {
     "name": "stdout",
     "output_type": "stream",
     "text": [
      " 8/37 [=====>........................] - ETA: 1s - loss: 0.3651 - accuracy: 0.8242"
     ]
    },
    {
     "name": "stderr",
     "output_type": "stream",
     "text": [
      "Cleanup called...\n",
      "Cleanup called...\n",
      "Cleanup called...\n",
      "Cleanup called...\n",
      "Cleanup called...\n",
      "Cleanup called...\n",
      "Cleanup called...\n",
      "Cleanup called...\n",
      "Cleanup called...\n",
      "Cleanup called...\n",
      "Cleanup called...\n",
      "Cleanup called...\n",
      "Cleanup called...\n",
      "Cleanup called...\n",
      "Cleanup called...\n",
      "Cleanup called...\n",
      "Cleanup called...\n"
     ]
    },
    {
     "name": "stdout",
     "output_type": "stream",
     "text": [
      "11/37 [=======>......................] - ETA: 1s - loss: 0.3680 - accuracy: 0.8352"
     ]
    },
    {
     "name": "stderr",
     "output_type": "stream",
     "text": [
      "Cleanup called...\n",
      "Cleanup called...\n",
      "Cleanup called...\n",
      "Cleanup called...\n",
      "Cleanup called...\n",
      "Cleanup called...\n",
      "Cleanup called...\n",
      "Cleanup called...\n",
      "Cleanup called...\n",
      "Cleanup called...\n",
      "Cleanup called...\n"
     ]
    },
    {
     "name": "stdout",
     "output_type": "stream",
     "text": [
      "15/37 [===========>..................] - ETA: 1s - loss: 0.3662 - accuracy: 0.8417"
     ]
    },
    {
     "name": "stderr",
     "output_type": "stream",
     "text": [
      "Cleanup called...\n",
      "Cleanup called...\n",
      "Cleanup called...\n",
      "Cleanup called...\n",
      "Cleanup called...\n",
      "Cleanup called...\n",
      "Cleanup called...\n",
      "Cleanup called...\n",
      "Cleanup called...\n"
     ]
    },
    {
     "name": "stdout",
     "output_type": "stream",
     "text": [
      "19/37 [==============>...............] - ETA: 1s - loss: 0.3672 - accuracy: 0.8339"
     ]
    },
    {
     "name": "stderr",
     "output_type": "stream",
     "text": [
      "Cleanup called...\n",
      "Cleanup called...\n",
      "Cleanup called...\n",
      "Cleanup called...\n",
      "Cleanup called...\n",
      "Cleanup called...\n",
      "Cleanup called...\n",
      "Cleanup called...\n",
      "Cleanup called...\n",
      "Cleanup called...\n",
      "Cleanup called...\n",
      "Cleanup called...\n",
      "Cleanup called...\n",
      "Cleanup called...\n"
     ]
    },
    {
     "name": "stdout",
     "output_type": "stream",
     "text": [
      "23/37 [=================>............] - ETA: 0s - loss: 0.3662 - accuracy: 0.8315"
     ]
    },
    {
     "name": "stderr",
     "output_type": "stream",
     "text": [
      "Cleanup called...\n",
      "Cleanup called...\n",
      "Cleanup called...\n",
      "Cleanup called...\n",
      "Cleanup called...\n",
      "Cleanup called...\n",
      "Cleanup called...\n",
      "Cleanup called...\n",
      "Cleanup called...\n",
      "Cleanup called...\n",
      "Cleanup called...\n",
      "Cleanup called...\n",
      "Cleanup called...\n",
      "Cleanup called...\n",
      "Cleanup called...\n",
      "Cleanup called...\n"
     ]
    },
    {
     "name": "stdout",
     "output_type": "stream",
     "text": [
      "26/37 [====================>.........] - ETA: 0s - loss: 0.3637 - accuracy: 0.8401"
     ]
    },
    {
     "name": "stderr",
     "output_type": "stream",
     "text": [
      "Cleanup called...\n",
      "Cleanup called...\n",
      "Cleanup called...\n",
      "Cleanup called...\n",
      "Cleanup called...\n",
      "Cleanup called...\n",
      "Cleanup called...\n",
      "Cleanup called...\n",
      "Cleanup called...\n",
      "Cleanup called...\n",
      "Cleanup called...\n",
      "Cleanup called...\n",
      "Cleanup called...\n",
      "Cleanup called...\n",
      "Cleanup called...\n"
     ]
    },
    {
     "name": "stdout",
     "output_type": "stream",
     "text": [
      "36/37 [============================>.] - ETA: 0s - loss: 0.3604 - accuracy: 0.8420"
     ]
    },
    {
     "name": "stderr",
     "output_type": "stream",
     "text": [
      "Cleanup called...\n",
      "Cleanup called...\n",
      "Cleanup called...\n",
      "Cleanup called...\n",
      "Cleanup called...\n",
      "Cleanup called...\n",
      "Cleanup called...\n",
      "Cleanup called...\n",
      "Cleanup called...\n",
      "Cleanup called...\n",
      "Cleanup called...\n",
      "Cleanup called...\n",
      "Cleanup called...\n"
     ]
    },
    {
     "name": "stdout",
     "output_type": "stream",
     "text": [
      "37/37 [==============================] - 3s 62ms/step - loss: 0.3587 - accuracy: 0.8432 - val_loss: 0.3538 - val_accuracy: 0.8295\n",
      "Epoch 10/10\n"
     ]
    },
    {
     "name": "stderr",
     "output_type": "stream",
     "text": [
      "Cleanup called...\n",
      "Cleanup called...\n",
      "Cleanup called...\n",
      "Cleanup called...\n",
      "Cleanup called...\n",
      "Cleanup called...\n",
      "Cleanup called...\n",
      "Cleanup called...\n",
      "Cleanup called...\n",
      "Cleanup called...\n",
      "Cleanup called...\n",
      "Cleanup called...\n",
      "Cleanup called...\n",
      "Cleanup called...\n",
      "Cleanup called...\n",
      "Cleanup called...\n",
      "Cleanup called...\n",
      "Cleanup called...\n",
      "Cleanup called...\n",
      "Cleanup called...\n",
      "Cleanup called...\n",
      "Cleanup called...\n",
      "Cleanup called...\n",
      "Cleanup called...\n",
      "Cleanup called...\n",
      "Cleanup called...\n",
      "Cleanup called...\n",
      "Cleanup called...\n",
      "Cleanup called...\n",
      "Cleanup called...\n",
      "Cleanup called...\n",
      "Cleanup called...\n",
      "Cleanup called...\n",
      "Cleanup called...\n",
      "Cleanup called...\n"
     ]
    },
    {
     "name": "stdout",
     "output_type": "stream",
     "text": [
      " 4/37 [==>...........................] - ETA: 2s - loss: 0.3079 - accuracy: 0.8828"
     ]
    },
    {
     "name": "stderr",
     "output_type": "stream",
     "text": [
      "Cleanup called...\n",
      "Cleanup called...\n",
      "Cleanup called...\n",
      "Cleanup called...\n",
      "Cleanup called...\n",
      "Cleanup called...\n",
      "Cleanup called...\n",
      "Cleanup called...\n",
      "Cleanup called...\n",
      "Cleanup called...\n",
      "Cleanup called...\n",
      "Cleanup called...\n"
     ]
    },
    {
     "name": "stdout",
     "output_type": "stream",
     "text": [
      " 8/37 [=====>........................] - ETA: 1s - loss: 0.3486 - accuracy: 0.8594"
     ]
    },
    {
     "name": "stderr",
     "output_type": "stream",
     "text": [
      "Cleanup called...\n",
      "Cleanup called...\n",
      "Cleanup called...\n",
      "Cleanup called...\n",
      "Cleanup called...\n",
      "Cleanup called...\n",
      "Cleanup called...\n",
      "Cleanup called...\n",
      "Cleanup called...\n",
      "Cleanup called...\n",
      "Cleanup called...\n",
      "Cleanup called...\n",
      "Cleanup called...\n",
      "Cleanup called...\n",
      "Cleanup called...\n",
      "Cleanup called...\n",
      "Cleanup called...\n"
     ]
    },
    {
     "name": "stdout",
     "output_type": "stream",
     "text": [
      "10/37 [=======>......................] - ETA: 1s - loss: 0.3539 - accuracy: 0.8656"
     ]
    },
    {
     "name": "stderr",
     "output_type": "stream",
     "text": [
      "Cleanup called...\n",
      "Cleanup called...\n",
      "Cleanup called...\n",
      "Cleanup called...\n",
      "Cleanup called...\n",
      "Cleanup called...\n",
      "Cleanup called...\n",
      "Cleanup called...\n",
      "Cleanup called...\n",
      "Cleanup called...\n",
      "Cleanup called...\n",
      "Cleanup called...\n",
      "Cleanup called...\n",
      "Cleanup called...\n"
     ]
    },
    {
     "name": "stdout",
     "output_type": "stream",
     "text": [
      "14/37 [==========>...................] - ETA: 1s - loss: 0.3386 - accuracy: 0.8616"
     ]
    },
    {
     "name": "stderr",
     "output_type": "stream",
     "text": [
      "Cleanup called...\n",
      "Cleanup called...\n",
      "Cleanup called...\n",
      "Cleanup called...\n",
      "Cleanup called...\n",
      "Cleanup called...\n",
      "Cleanup called...\n",
      "Cleanup called...\n"
     ]
    },
    {
     "name": "stdout",
     "output_type": "stream",
     "text": [
      "19/37 [==============>...............] - ETA: 1s - loss: 0.3482 - accuracy: 0.8553"
     ]
    },
    {
     "name": "stderr",
     "output_type": "stream",
     "text": [
      "Cleanup called...\n",
      "Cleanup called...\n",
      "Cleanup called...\n",
      "Cleanup called...\n",
      "Cleanup called...\n",
      "Cleanup called...\n",
      "Cleanup called...\n",
      "Cleanup called...\n",
      "Cleanup called...\n",
      "Cleanup called...\n",
      "Cleanup called...\n",
      "Cleanup called...\n",
      "Cleanup called...\n",
      "Cleanup called...\n"
     ]
    },
    {
     "name": "stdout",
     "output_type": "stream",
     "text": [
      "23/37 [=================>............] - ETA: 0s - loss: 0.3445 - accuracy: 0.8560"
     ]
    },
    {
     "name": "stderr",
     "output_type": "stream",
     "text": [
      "Cleanup called...\n",
      "Cleanup called...\n",
      "Cleanup called...\n",
      "Cleanup called...\n",
      "Cleanup called...\n",
      "Cleanup called...\n",
      "Cleanup called...\n",
      "Cleanup called...\n",
      "Cleanup called...\n",
      "Cleanup called...\n",
      "Cleanup called...\n",
      "Cleanup called...\n",
      "Cleanup called...\n",
      "Cleanup called...\n",
      "Cleanup called...\n",
      "Cleanup called...\n",
      "Cleanup called...\n"
     ]
    },
    {
     "name": "stdout",
     "output_type": "stream",
     "text": [
      "27/37 [====================>.........] - ETA: 0s - loss: 0.3484 - accuracy: 0.8519"
     ]
    },
    {
     "name": "stderr",
     "output_type": "stream",
     "text": [
      "Cleanup called...\n",
      "Cleanup called...\n",
      "Cleanup called...\n",
      "Cleanup called...\n",
      "Cleanup called...\n",
      "Cleanup called...\n",
      "Cleanup called...\n",
      "Cleanup called...\n",
      "Cleanup called...\n",
      "Cleanup called...\n",
      "Cleanup called...\n",
      "Cleanup called...\n",
      "Cleanup called...\n",
      "Cleanup called...\n"
     ]
    },
    {
     "name": "stdout",
     "output_type": "stream",
     "text": [
      "36/37 [============================>.] - ETA: 0s - loss: 0.3458 - accuracy: 0.8550"
     ]
    },
    {
     "name": "stderr",
     "output_type": "stream",
     "text": [
      "Cleanup called...\n",
      "Cleanup called...\n",
      "Cleanup called...\n",
      "Cleanup called...\n",
      "Cleanup called...\n",
      "Cleanup called...\n",
      "Cleanup called...\n",
      "Cleanup called...\n",
      "Cleanup called...\n",
      "Cleanup called...\n",
      "Cleanup called...\n",
      "Cleanup called...\n",
      "Cleanup called...\n"
     ]
    },
    {
     "name": "stdout",
     "output_type": "stream",
     "text": [
      "37/37 [==============================] - 3s 60ms/step - loss: 0.3484 - accuracy: 0.8535 - val_loss: 0.3400 - val_accuracy: 0.8450\n"
     ]
    },
    {
     "data": {
      "image/png": "[encoded data removed]",
      "text/plain": [
       "<Figure size 432x288 with 1 Axes>"
      ]
     },
     "metadata": {
      "needs_background": "light"
     },
     "output_type": "display_data"
    },
    {
     "data": {
      "image/png": "[encoded data removed]",
      "text/plain": [
       "<Figure size 432x288 with 1 Axes>"
      ]
     },
     "metadata": {
      "needs_background": "light"
     },
     "output_type": "display_data"
    },
    {
     "name": "stderr",
     "output_type": "stream",
     "text": [
      "/opt/conda/lib/python3.7/site-packages/keras/utils/generic_utils.py:497: CustomMaskWarning: Custom mask layers require a config and must override get_config. When loading, the custom mask layer must be passed to the custom_objects argument.\n",
      "  category=CustomMaskWarning)\n"
     ]
    },
    {
     "name": "stdout",
     "output_type": "stream",
     "text": [
      "Epoch 1/10\n"
     ]
    },
    {
     "name": "stderr",
     "output_type": "stream",
     "text": [
      "Cleanup called...\n",
      "Cleanup called...\n",
      "Cleanup called...\n",
      "Cleanup called...\n",
      "Cleanup called...\n",
      "Cleanup called...\n",
      "Cleanup called...\n",
      "Cleanup called...\n",
      "Cleanup called...\n",
      "Cleanup called...\n",
      "Cleanup called...\n",
      "Cleanup called...\n",
      "Cleanup called...\n",
      "Cleanup called...\n",
      "Cleanup called...\n",
      "Cleanup called...\n",
      "Cleanup called...\n",
      "Cleanup called...\n",
      "Cleanup called...\n",
      "Cleanup called...\n",
      "Cleanup called...\n",
      "Cleanup called...\n",
      "Cleanup called...\n",
      "Cleanup called...\n",
      "Cleanup called...\n",
      "Cleanup called...\n",
      "Cleanup called...\n",
      "Cleanup called...\n",
      "Cleanup called...\n",
      "Cleanup called...\n",
      "Cleanup called...\n",
      "Cleanup called...\n",
      "Cleanup called...\n",
      "Cleanup called...\n",
      "Cleanup called...\n"
     ]
    },
    {
     "name": "stdout",
     "output_type": "stream",
     "text": [
      " 4/37 [==>...........................] - ETA: 2s - loss: 0.7206 - accuracy: 0.5312"
     ]
    },
    {
     "name": "stderr",
     "output_type": "stream",
     "text": [
      "Cleanup called...\n",
      "Cleanup called...\n",
      "Cleanup called...\n",
      "Cleanup called...\n",
      "Cleanup called...\n",
      "Cleanup called...\n",
      "Cleanup called...\n",
      "Cleanup called...\n",
      "Cleanup called...\n",
      "Cleanup called...\n",
      "Cleanup called...\n"
     ]
    },
    {
     "name": "stdout",
     "output_type": "stream",
     "text": [
      " 6/37 [===>..........................] - ETA: 2s - loss: 0.7522 - accuracy: 0.5000"
     ]
    },
    {
     "name": "stderr",
     "output_type": "stream",
     "text": [
      "Cleanup called...\n",
      "Cleanup called...\n",
      "Cleanup called...\n",
      "Cleanup called...\n",
      "Cleanup called...\n",
      "Cleanup called...\n",
      "Cleanup called...\n",
      "Cleanup called...\n",
      "Cleanup called...\n",
      "Cleanup called...\n",
      "Cleanup called...\n",
      "Cleanup called...\n",
      "Cleanup called...\n",
      "Cleanup called...\n",
      "Cleanup called...\n"
     ]
    },
    {
     "name": "stdout",
     "output_type": "stream",
     "text": [
      " 9/37 [======>.......................] - ETA: 1s - loss: 0.7470 - accuracy: 0.4965"
     ]
    },
    {
     "name": "stderr",
     "output_type": "stream",
     "text": [
      "Cleanup called...\n",
      "Cleanup called...\n",
      "Cleanup called...\n",
      "Cleanup called...\n",
      "Cleanup called...\n",
      "Cleanup called...\n",
      "Cleanup called...\n",
      "Cleanup called...\n",
      "Cleanup called...\n",
      "Cleanup called...\n",
      "Cleanup called...\n"
     ]
    },
    {
     "name": "stdout",
     "output_type": "stream",
     "text": [
      "14/37 [==========>...................] - ETA: 1s - loss: 0.7394 - accuracy: 0.5156"
     ]
    },
    {
     "name": "stderr",
     "output_type": "stream",
     "text": [
      "Cleanup called...\n",
      "Cleanup called...\n",
      "Cleanup called...\n",
      "Cleanup called...\n",
      "Cleanup called...\n",
      "Cleanup called...\n",
      "Cleanup called...\n",
      "Cleanup called...\n",
      "Cleanup called...\n",
      "Cleanup called...\n",
      "Cleanup called...\n",
      "Cleanup called...\n"
     ]
    },
    {
     "name": "stdout",
     "output_type": "stream",
     "text": [
      "17/37 [============>.................] - ETA: 1s - loss: 0.7215 - accuracy: 0.5294"
     ]
    },
    {
     "name": "stderr",
     "output_type": "stream",
     "text": [
      "Cleanup called...\n",
      "Cleanup called...\n",
      "Cleanup called...\n",
      "Cleanup called...\n",
      "Cleanup called...\n",
      "Cleanup called...\n",
      "Cleanup called...\n",
      "Cleanup called...\n",
      "Cleanup called...\n",
      "Cleanup called...\n",
      "Cleanup called...\n",
      "Cleanup called...\n",
      "Cleanup called...\n",
      "Cleanup called...\n"
     ]
    },
    {
     "name": "stdout",
     "output_type": "stream",
     "text": [
      "22/37 [================>.............] - ETA: 0s - loss: 0.7031 - accuracy: 0.5625"
     ]
    },
    {
     "name": "stderr",
     "output_type": "stream",
     "text": [
      "Cleanup called...\n",
      "Cleanup called...\n",
      "Cleanup called...\n",
      "Cleanup called...\n",
      "Cleanup called...\n",
      "Cleanup called...\n",
      "Cleanup called...\n",
      "Cleanup called...\n",
      "Cleanup called...\n",
      "Cleanup called...\n",
      "Cleanup called...\n",
      "Cleanup called...\n",
      "Cleanup called...\n"
     ]
    },
    {
     "name": "stdout",
     "output_type": "stream",
     "text": [
      "26/37 [====================>.........] - ETA: 0s - loss: 0.6979 - accuracy: 0.5697"
     ]
    },
    {
     "name": "stderr",
     "output_type": "stream",
     "text": [
      "Cleanup called...\n",
      "Cleanup called...\n",
      "Cleanup called...\n",
      "Cleanup called...\n",
      "Cleanup called...\n",
      "Cleanup called...\n",
      "Cleanup called...\n",
      "Cleanup called...\n",
      "Cleanup called...\n",
      "Cleanup called...\n",
      "Cleanup called...\n",
      "Cleanup called...\n",
      "Cleanup called...\n"
     ]
    },
    {
     "name": "stdout",
     "output_type": "stream",
     "text": [
      "30/37 [=======================>......] - ETA: 0s - loss: 0.6875 - accuracy: 0.5802"
     ]
    },
    {
     "name": "stderr",
     "output_type": "stream",
     "text": [
      "Cleanup called...\n",
      "Cleanup called...\n",
      "Cleanup called...\n",
      "Cleanup called...\n",
      "Cleanup called...\n",
      "Cleanup called...\n",
      "Cleanup called...\n"
     ]
    },
    {
     "name": "stdout",
     "output_type": "stream",
     "text": [
      "36/37 [============================>.] - ETA: 0s - loss: 0.6727 - accuracy: 0.5955"
     ]
    },
    {
     "name": "stderr",
     "output_type": "stream",
     "text": [
      "Cleanup called...\n",
      "Cleanup called...\n",
      "Cleanup called...\n",
      "Cleanup called...\n",
      "Cleanup called...\n",
      "Cleanup called...\n",
      "Cleanup called...\n",
      "Cleanup called...\n",
      "Cleanup called...\n",
      "Cleanup called...\n",
      "Cleanup called...\n",
      "Cleanup called...\n",
      "Cleanup called...\n"
     ]
    },
    {
     "name": "stdout",
     "output_type": "stream",
     "text": [
      "37/37 [==============================] - 7s 97ms/step - loss: 0.6709 - accuracy: 0.5973 - val_loss: 0.5414 - val_accuracy: 0.7597\n",
      "Epoch 2/10\n"
     ]
    },
    {
     "name": "stderr",
     "output_type": "stream",
     "text": [
      "Cleanup called...\n",
      "Cleanup called...\n",
      "Cleanup called...\n",
      "Cleanup called...\n",
      "Cleanup called...\n",
      "Cleanup called...\n",
      "Cleanup called...\n",
      "Cleanup called...\n",
      "Cleanup called...\n",
      "Cleanup called...\n",
      "Cleanup called...\n",
      "Cleanup called...\n",
      "Cleanup called...\n",
      "Cleanup called...\n",
      "Cleanup called...\n",
      "Cleanup called...\n",
      "Cleanup called...\n",
      "Cleanup called...\n",
      "Cleanup called...\n",
      "Cleanup called...\n",
      "Cleanup called...\n",
      "Cleanup called...\n",
      "Cleanup called...\n",
      "Cleanup called...\n",
      "Cleanup called...\n",
      "Cleanup called...\n",
      "Cleanup called...\n",
      "Cleanup called...\n",
      "Cleanup called...\n",
      "Cleanup called...\n",
      "Cleanup called...\n",
      "Cleanup called...\n",
      "Cleanup called...\n",
      "Cleanup called...\n",
      "Cleanup called...\n"
     ]
    },
    {
     "name": "stdout",
     "output_type": "stream",
     "text": [
      " 3/37 [=>............................] - ETA: 2s - loss: 0.5640 - accuracy: 0.7500"
     ]
    },
    {
     "name": "stderr",
     "output_type": "stream",
     "text": [
      "Cleanup called...\n",
      "Cleanup called...\n",
      "Cleanup called...\n",
      "Cleanup called...\n",
      "Cleanup called...\n",
      "Cleanup called...\n",
      "Cleanup called...\n",
      "Cleanup called...\n",
      "Cleanup called...\n",
      "Cleanup called...\n"
     ]
    },
    {
     "name": "stdout",
     "output_type": "stream",
     "text": [
      " 7/37 [====>.........................] - ETA: 1s - loss: 0.5491 - accuracy: 0.7366"
     ]
    },
    {
     "name": "stderr",
     "output_type": "stream",
     "text": [
      "Cleanup called...\n",
      "Cleanup called...\n",
      "Cleanup called...\n",
      "Cleanup called...\n",
      "Cleanup called...\n",
      "Cleanup called...\n",
      "Cleanup called...\n",
      "Cleanup called...\n",
      "Cleanup called...\n",
      "Cleanup called...\n",
      "Cleanup called...\n",
      "Cleanup called...\n",
      "Cleanup called...\n",
      "Cleanup called...\n",
      "Cleanup called...\n",
      "Cleanup called...\n"
     ]
    },
    {
     "name": "stdout",
     "output_type": "stream",
     "text": [
      "10/37 [=======>......................] - ETA: 1s - loss: 0.5567 - accuracy: 0.7188"
     ]
    },
    {
     "name": "stderr",
     "output_type": "stream",
     "text": [
      "Cleanup called...\n",
      "Cleanup called...\n",
      "Cleanup called...\n",
      "Cleanup called...\n",
      "Cleanup called...\n",
      "Cleanup called...\n",
      "Cleanup called...\n",
      "Cleanup called...\n",
      "Cleanup called...\n",
      "Cleanup called...\n",
      "Cleanup called...\n",
      "Cleanup called...\n"
     ]
    },
    {
     "name": "stdout",
     "output_type": "stream",
     "text": [
      "14/37 [==========>...................] - ETA: 1s - loss: 0.5538 - accuracy: 0.7165"
     ]
    },
    {
     "name": "stderr",
     "output_type": "stream",
     "text": [
      "Cleanup called...\n",
      "Cleanup called...\n",
      "Cleanup called...\n",
      "Cleanup called...\n",
      "Cleanup called...\n",
      "Cleanup called...\n",
      "Cleanup called...\n",
      "Cleanup called...\n",
      "Cleanup called...\n",
      "Cleanup called...\n",
      "Cleanup called...\n"
     ]
    },
    {
     "name": "stdout",
     "output_type": "stream",
     "text": [
      "17/37 [============>.................] - ETA: 1s - loss: 0.5613 - accuracy: 0.7151"
     ]
    },
    {
     "name": "stderr",
     "output_type": "stream",
     "text": [
      "Cleanup called...\n",
      "Cleanup called...\n",
      "Cleanup called...\n",
      "Cleanup called...\n",
      "Cleanup called...\n",
      "Cleanup called...\n",
      "Cleanup called...\n",
      "Cleanup called...\n",
      "Cleanup called...\n",
      "Cleanup called...\n",
      "Cleanup called...\n",
      "Cleanup called...\n",
      "Cleanup called...\n",
      "Cleanup called...\n"
     ]
    },
    {
     "name": "stdout",
     "output_type": "stream",
     "text": [
      "22/37 [================>.............] - ETA: 0s - loss: 0.5502 - accuracy: 0.7273"
     ]
    },
    {
     "name": "stderr",
     "output_type": "stream",
     "text": [
      "Cleanup called...\n",
      "Cleanup called...\n",
      "Cleanup called...\n",
      "Cleanup called...\n",
      "Cleanup called...\n",
      "Cleanup called...\n",
      "Cleanup called...\n",
      "Cleanup called...\n",
      "Cleanup called...\n",
      "Cleanup called...\n",
      "Cleanup called...\n",
      "Cleanup called...\n",
      "Cleanup called...\n",
      "Cleanup called...\n",
      "Cleanup called...\n"
     ]
    },
    {
     "name": "stdout",
     "output_type": "stream",
     "text": [
      "26/37 [====================>.........] - ETA: 0s - loss: 0.5456 - accuracy: 0.7308"
     ]
    },
    {
     "name": "stderr",
     "output_type": "stream",
     "text": [
      "Cleanup called...\n",
      "Cleanup called...\n",
      "Cleanup called...\n",
      "Cleanup called...\n",
      "Cleanup called...\n",
      "Cleanup called...\n",
      "Cleanup called...\n",
      "Cleanup called...\n",
      "Cleanup called...\n",
      "Cleanup called...\n",
      "Cleanup called...\n",
      "Cleanup called...\n"
     ]
    },
    {
     "name": "stdout",
     "output_type": "stream",
     "text": [
      "30/37 [=======================>......] - ETA: 0s - loss: 0.5385 - accuracy: 0.7417"
     ]
    },
    {
     "name": "stderr",
     "output_type": "stream",
     "text": [
      "Cleanup called...\n",
      "Cleanup called...\n",
      "Cleanup called...\n",
      "Cleanup called...\n",
      "Cleanup called...\n",
      "Cleanup called...\n"
     ]
    },
    {
     "name": "stdout",
     "output_type": "stream",
     "text": [
      "36/37 [============================>.] - ETA: 0s - loss: 0.5353 - accuracy: 0.7465"
     ]
    },
    {
     "name": "stderr",
     "output_type": "stream",
     "text": [
      "Cleanup called...\n",
      "Cleanup called...\n",
      "Cleanup called...\n",
      "Cleanup called...\n",
      "Cleanup called...\n",
      "Cleanup called...\n",
      "Cleanup called...\n",
      "Cleanup called...\n",
      "Cleanup called...\n",
      "Cleanup called...\n",
      "Cleanup called...\n",
      "Cleanup called...\n",
      "Cleanup called...\n"
     ]
    },
    {
     "name": "stdout",
     "output_type": "stream",
     "text": [
      "37/37 [==============================] - 3s 62ms/step - loss: 0.5352 - accuracy: 0.7464 - val_loss: 0.4593 - val_accuracy: 0.8295\n",
      "Epoch 3/10\n"
     ]
    },
    {
     "name": "stderr",
     "output_type": "stream",
     "text": [
      "Cleanup called...\n",
      "Cleanup called...\n",
      "Cleanup called...\n",
      "Cleanup called...\n",
      "Cleanup called...\n",
      "Cleanup called...\n",
      "Cleanup called...\n",
      "Cleanup called...\n",
      "Cleanup called...\n",
      "Cleanup called...\n",
      "Cleanup called...\n",
      "Cleanup called...\n",
      "Cleanup called...\n",
      "Cleanup called...\n",
      "Cleanup called...\n",
      "Cleanup called...\n",
      "Cleanup called...\n",
      "Cleanup called...\n",
      "Cleanup called...\n",
      "Cleanup called...\n",
      "Cleanup called...\n",
      "Cleanup called...\n",
      "Cleanup called...\n",
      "Cleanup called...\n",
      "Cleanup called...\n",
      "Cleanup called...\n",
      "Cleanup called...\n",
      "Cleanup called...\n",
      "Cleanup called...\n",
      "Cleanup called...\n",
      "Cleanup called...\n",
      "Cleanup called...\n",
      "Cleanup called...\n",
      "Cleanup called...\n",
      "Cleanup called...\n"
     ]
    },
    {
     "name": "stdout",
     "output_type": "stream",
     "text": [
      " 4/37 [==>...........................] - ETA: 2s - loss: 0.4896 - accuracy: 0.7812"
     ]
    },
    {
     "name": "stderr",
     "output_type": "stream",
     "text": [
      "Cleanup called...\n",
      "Cleanup called...\n",
      "Cleanup called...\n",
      "Cleanup called...\n",
      "Cleanup called...\n",
      "Cleanup called...\n",
      "Cleanup called...\n",
      "Cleanup called...\n",
      "Cleanup called...\n",
      "Cleanup called...\n",
      "Cleanup called...\n",
      "Cleanup called...\n"
     ]
    },
    {
     "name": "stdout",
     "output_type": "stream",
     "text": [
      " 7/37 [====>.........................] - ETA: 1s - loss: 0.4850 - accuracy: 0.7946"
     ]
    },
    {
     "name": "stderr",
     "output_type": "stream",
     "text": [
      "Cleanup called...\n",
      "Cleanup called...\n",
      "Cleanup called...\n",
      "Cleanup called...\n",
      "Cleanup called...\n",
      "Cleanup called...\n",
      "Cleanup called...\n",
      "Cleanup called...\n",
      "Cleanup called...\n",
      "Cleanup called...\n",
      "Cleanup called...\n",
      "Cleanup called...\n",
      "Cleanup called...\n",
      "Cleanup called...\n",
      "Cleanup called...\n",
      "Cleanup called...\n",
      "Cleanup called...\n",
      "Cleanup called...\n"
     ]
    },
    {
     "name": "stdout",
     "output_type": "stream",
     "text": [
      "11/37 [=======>......................] - ETA: 1s - loss: 0.4881 - accuracy: 0.7869"
     ]
    },
    {
     "name": "stderr",
     "output_type": "stream",
     "text": [
      "Cleanup called...\n",
      "Cleanup called...\n",
      "Cleanup called...\n",
      "Cleanup called...\n",
      "Cleanup called...\n",
      "Cleanup called...\n",
      "Cleanup called...\n",
      "Cleanup called...\n",
      "Cleanup called...\n",
      "Cleanup called...\n",
      "Cleanup called...\n",
      "Cleanup called...\n"
     ]
    },
    {
     "name": "stdout",
     "output_type": "stream",
     "text": [
      "14/37 [==========>...................] - ETA: 1s - loss: 0.4844 - accuracy: 0.7857"
     ]
    },
    {
     "name": "stderr",
     "output_type": "stream",
     "text": [
      "Cleanup called...\n",
      "Cleanup called...\n",
      "Cleanup called...\n",
      "Cleanup called...\n",
      "Cleanup called...\n",
      "Cleanup called...\n",
      "Cleanup called...\n",
      "Cleanup called...\n",
      "Cleanup called...\n"
     ]
    },
    {
     "name": "stdout",
     "output_type": "stream",
     "text": [
      "19/37 [==============>...............] - ETA: 0s - loss: 0.4914 - accuracy: 0.7763"
     ]
    },
    {
     "name": "stderr",
     "output_type": "stream",
     "text": [
      "Cleanup called...\n",
      "Cleanup called...\n",
      "Cleanup called...\n",
      "Cleanup called...\n",
      "Cleanup called...\n",
      "Cleanup called...\n",
      "Cleanup called...\n",
      "Cleanup called...\n",
      "Cleanup called...\n",
      "Cleanup called...\n",
      "Cleanup called...\n",
      "Cleanup called...\n",
      "Cleanup called...\n",
      "Cleanup called...\n"
     ]
    },
    {
     "name": "stdout",
     "output_type": "stream",
     "text": [
      "24/37 [==================>...........] - ETA: 0s - loss: 0.4938 - accuracy: 0.7708"
     ]
    },
    {
     "name": "stderr",
     "output_type": "stream",
     "text": [
      "Cleanup called...\n",
      "Cleanup called...\n",
      "Cleanup called...\n",
      "Cleanup called...\n",
      "Cleanup called...\n",
      "Cleanup called...\n",
      "Cleanup called...\n",
      "Cleanup called...\n",
      "Cleanup called...\n",
      "Cleanup called...\n",
      "Cleanup called...\n",
      "Cleanup called...\n",
      "Cleanup called...\n",
      "Cleanup called...\n",
      "Cleanup called...\n",
      "Cleanup called...\n",
      "Cleanup called...\n",
      "Cleanup called...\n"
     ]
    },
    {
     "name": "stdout",
     "output_type": "stream",
     "text": [
      "26/37 [====================>.........] - ETA: 0s - loss: 0.4991 - accuracy: 0.7644"
     ]
    },
    {
     "name": "stderr",
     "output_type": "stream",
     "text": [
      "Cleanup called...\n",
      "Cleanup called...\n",
      "Cleanup called...\n",
      "Cleanup called...\n",
      "Cleanup called...\n",
      "Cleanup called...\n",
      "Cleanup called...\n",
      "Cleanup called...\n",
      "Cleanup called...\n",
      "Cleanup called...\n",
      "Cleanup called...\n",
      "Cleanup called...\n",
      "Cleanup called...\n"
     ]
    },
    {
     "name": "stdout",
     "output_type": "stream",
     "text": [
      "36/37 [============================>.] - ETA: 0s - loss: 0.4815 - accuracy: 0.7804"
     ]
    },
    {
     "name": "stderr",
     "output_type": "stream",
     "text": [
      "Cleanup called...\n",
      "Cleanup called...\n",
      "Cleanup called...\n",
      "Cleanup called...\n",
      "Cleanup called...\n",
      "Cleanup called...\n",
      "Cleanup called...\n",
      "Cleanup called...\n",
      "Cleanup called...\n",
      "Cleanup called...\n",
      "Cleanup called...\n",
      "Cleanup called...\n",
      "Cleanup called...\n"
     ]
    },
    {
     "name": "stdout",
     "output_type": "stream",
     "text": [
      "37/37 [==============================] - 3s 58ms/step - loss: 0.4824 - accuracy: 0.7798 - val_loss: 0.4285 - val_accuracy: 0.8217\n",
      "Epoch 4/10\n"
     ]
    },
    {
     "name": "stderr",
     "output_type": "stream",
     "text": [
      "Cleanup called...\n",
      "Cleanup called...\n",
      "Cleanup called...\n",
      "Cleanup called...\n",
      "Cleanup called...\n",
      "Cleanup called...\n",
      "Cleanup called...\n",
      "Cleanup called...\n",
      "Cleanup called...\n",
      "Cleanup called...\n",
      "Cleanup called...\n",
      "Cleanup called...\n",
      "Cleanup called...\n",
      "Cleanup called...\n",
      "Cleanup called...\n",
      "Cleanup called...\n",
      "Cleanup called...\n",
      "Cleanup called...\n",
      "Cleanup called...\n",
      "Cleanup called...\n",
      "Cleanup called...\n",
      "Cleanup called...\n",
      "Cleanup called...\n",
      "Cleanup called...\n",
      "Cleanup called...\n",
      "Cleanup called...\n",
      "Cleanup called...\n",
      "Cleanup called...\n",
      "Cleanup called...\n",
      "Cleanup called...\n",
      "Cleanup called...\n",
      "Cleanup called...\n",
      "Cleanup called...\n",
      "Cleanup called...\n",
      "Cleanup called...\n"
     ]
    },
    {
     "name": "stdout",
     "output_type": "stream",
     "text": [
      " 4/37 [==>...........................] - ETA: 2s - loss: 0.4549 - accuracy: 0.7734"
     ]
    },
    {
     "name": "stderr",
     "output_type": "stream",
     "text": [
      "Cleanup called...\n",
      "Cleanup called...\n",
      "Cleanup called...\n",
      "Cleanup called...\n",
      "Cleanup called...\n",
      "Cleanup called...\n",
      "Cleanup called...\n",
      "Cleanup called...\n",
      "Cleanup called...\n",
      "Cleanup called...\n",
      "Cleanup called...\n",
      "Cleanup called...\n",
      "Cleanup called...\n"
     ]
    },
    {
     "name": "stdout",
     "output_type": "stream",
     "text": [
      " 7/37 [====>.........................] - ETA: 1s - loss: 0.4362 - accuracy: 0.7991"
     ]
    },
    {
     "name": "stderr",
     "output_type": "stream",
     "text": [
      "Cleanup called...\n",
      "Cleanup called...\n",
      "Cleanup called...\n",
      "Cleanup called...\n",
      "Cleanup called...\n",
      "Cleanup called...\n",
      "Cleanup called...\n",
      "Cleanup called...\n",
      "Cleanup called...\n",
      "Cleanup called...\n",
      "Cleanup called...\n",
      "Cleanup called...\n",
      "Cleanup called...\n",
      "Cleanup called...\n",
      "Cleanup called...\n",
      "Cleanup called...\n"
     ]
    },
    {
     "name": "stdout",
     "output_type": "stream",
     "text": [
      "11/37 [=======>......................] - ETA: 1s - loss: 0.4418 - accuracy: 0.7926"
     ]
    },
    {
     "name": "stderr",
     "output_type": "stream",
     "text": [
      "Cleanup called...\n",
      "Cleanup called...\n",
      "Cleanup called...\n",
      "Cleanup called...\n",
      "Cleanup called...\n",
      "Cleanup called...\n",
      "Cleanup called...\n",
      "Cleanup called...\n",
      "Cleanup called...\n",
      "Cleanup called...\n",
      "Cleanup called...\n",
      "Cleanup called...\n"
     ]
    },
    {
     "name": "stdout",
     "output_type": "stream",
     "text": [
      "15/37 [===========>..................] - ETA: 1s - loss: 0.4518 - accuracy: 0.7854"
     ]
    },
    {
     "name": "stderr",
     "output_type": "stream",
     "text": [
      "Cleanup called...\n",
      "Cleanup called...\n",
      "Cleanup called...\n",
      "Cleanup called...\n",
      "Cleanup called...\n",
      "Cleanup called...\n",
      "Cleanup called...\n",
      "Cleanup called...\n",
      "Cleanup called...\n",
      "Cleanup called...\n"
     ]
    },
    {
     "name": "stdout",
     "output_type": "stream",
     "text": [
      "19/37 [==============>...............] - ETA: 1s - loss: 0.4460 - accuracy: 0.7895"
     ]
    },
    {
     "name": "stderr",
     "output_type": "stream",
     "text": [
      "Cleanup called...\n",
      "Cleanup called...\n",
      "Cleanup called...\n",
      "Cleanup called...\n",
      "Cleanup called...\n",
      "Cleanup called...\n",
      "Cleanup called...\n",
      "Cleanup called...\n",
      "Cleanup called...\n",
      "Cleanup called...\n",
      "Cleanup called...\n",
      "Cleanup called...\n",
      "Cleanup called...\n",
      "Cleanup called...\n"
     ]
    },
    {
     "name": "stdout",
     "output_type": "stream",
     "text": [
      "23/37 [=================>............] - ETA: 0s - loss: 0.4585 - accuracy: 0.7731"
     ]
    },
    {
     "name": "stderr",
     "output_type": "stream",
     "text": [
      "Cleanup called...\n",
      "Cleanup called...\n",
      "Cleanup called...\n",
      "Cleanup called...\n",
      "Cleanup called...\n",
      "Cleanup called...\n",
      "Cleanup called...\n",
      "Cleanup called...\n",
      "Cleanup called...\n",
      "Cleanup called...\n",
      "Cleanup called...\n",
      "Cleanup called...\n",
      "Cleanup called...\n",
      "Cleanup called...\n",
      "Cleanup called...\n",
      "Cleanup called...\n"
     ]
    },
    {
     "name": "stdout",
     "output_type": "stream",
     "text": [
      "27/37 [====================>.........] - ETA: 0s - loss: 0.4546 - accuracy: 0.7789"
     ]
    },
    {
     "name": "stderr",
     "output_type": "stream",
     "text": [
      "Cleanup called...\n",
      "Cleanup called...\n",
      "Cleanup called...\n",
      "Cleanup called...\n",
      "Cleanup called...\n",
      "Cleanup called...\n",
      "Cleanup called...\n",
      "Cleanup called...\n",
      "Cleanup called...\n",
      "Cleanup called...\n",
      "Cleanup called...\n",
      "Cleanup called...\n",
      "Cleanup called...\n",
      "Cleanup called...\n",
      "Cleanup called...\n"
     ]
    },
    {
     "name": "stdout",
     "output_type": "stream",
     "text": [
      "36/37 [============================>.] - ETA: 0s - loss: 0.4487 - accuracy: 0.7899"
     ]
    },
    {
     "name": "stderr",
     "output_type": "stream",
     "text": [
      "Cleanup called...\n",
      "Cleanup called...\n",
      "Cleanup called...\n",
      "Cleanup called...\n",
      "Cleanup called...\n",
      "Cleanup called...\n",
      "Cleanup called...\n",
      "Cleanup called...\n",
      "Cleanup called...\n",
      "Cleanup called...\n",
      "Cleanup called...\n",
      "Cleanup called...\n",
      "Cleanup called...\n"
     ]
    },
    {
     "name": "stdout",
     "output_type": "stream",
     "text": [
      "37/37 [==============================] - 3s 67ms/step - loss: 0.4473 - accuracy: 0.7918 - val_loss: 0.4060 - val_accuracy: 0.8217\n",
      "Epoch 5/10\n"
     ]
    },
    {
     "name": "stderr",
     "output_type": "stream",
     "text": [
      "Cleanup called...\n",
      "Cleanup called...\n",
      "Cleanup called...\n",
      "Cleanup called...\n",
      "Cleanup called...\n",
      "Cleanup called...\n",
      "Cleanup called...\n",
      "Cleanup called...\n",
      "Cleanup called...\n",
      "Cleanup called...\n",
      "Cleanup called...\n",
      "Cleanup called...\n",
      "Cleanup called...\n",
      "Cleanup called...\n",
      "Cleanup called...\n",
      "Cleanup called...\n",
      "Cleanup called...\n",
      "Cleanup called...\n"
     ]
    },
    {
     "name": "stdout",
     "output_type": "stream",
     "text": [
      " 1/37 [..............................] - ETA: 14s - loss: 0.4456 - accuracy: 0.8438"
     ]
    },
    {
     "name": "stderr",
     "output_type": "stream",
     "text": [
      "Cleanup called...\n",
      "Cleanup called...\n",
      "Cleanup called...\n",
      "Cleanup called...\n",
      "Cleanup called...\n",
      "Cleanup called...\n",
      "Cleanup called...\n",
      "Cleanup called...\n",
      "Cleanup called...\n",
      "Cleanup called...\n",
      "Cleanup called...\n",
      "Cleanup called...\n",
      "Cleanup called...\n",
      "Cleanup called...\n",
      "Cleanup called...\n",
      "Cleanup called...\n",
      "Cleanup called...\n"
     ]
    },
    {
     "name": "stdout",
     "output_type": "stream",
     "text": [
      " 4/37 [==>...........................] - ETA: 2s - loss: 0.4384 - accuracy: 0.7891"
     ]
    },
    {
     "name": "stderr",
     "output_type": "stream",
     "text": [
      "Cleanup called...\n",
      "Cleanup called...\n",
      "Cleanup called...\n",
      "Cleanup called...\n",
      "Cleanup called...\n",
      "Cleanup called...\n",
      "Cleanup called...\n",
      "Cleanup called...\n",
      "Cleanup called...\n",
      "Cleanup called...\n",
      "Cleanup called...\n",
      "Cleanup called...\n"
     ]
    },
    {
     "name": "stdout",
     "output_type": "stream",
     "text": [
      " 7/37 [====>.........................] - ETA: 1s - loss: 0.4297 - accuracy: 0.7946"
     ]
    },
    {
     "name": "stderr",
     "output_type": "stream",
     "text": [
      "Cleanup called...\n",
      "Cleanup called...\n",
      "Cleanup called...\n",
      "Cleanup called...\n",
      "Cleanup called...\n",
      "Cleanup called...\n",
      "Cleanup called...\n",
      "Cleanup called...\n",
      "Cleanup called...\n",
      "Cleanup called...\n",
      "Cleanup called...\n",
      "Cleanup called...\n",
      "Cleanup called...\n",
      "Cleanup called...\n",
      "Cleanup called...\n",
      "Cleanup called...\n",
      "Cleanup called...\n",
      "Cleanup called...\n"
     ]
    },
    {
     "name": "stdout",
     "output_type": "stream",
     "text": [
      "11/37 [=======>......................] - ETA: 1s - loss: 0.4222 - accuracy: 0.8011"
     ]
    },
    {
     "name": "stderr",
     "output_type": "stream",
     "text": [
      "Cleanup called...\n",
      "Cleanup called...\n",
      "Cleanup called...\n",
      "Cleanup called...\n",
      "Cleanup called...\n",
      "Cleanup called...\n",
      "Cleanup called...\n",
      "Cleanup called...\n",
      "Cleanup called...\n",
      "Cleanup called...\n",
      "Cleanup called...\n",
      "Cleanup called...\n"
     ]
    },
    {
     "name": "stdout",
     "output_type": "stream",
     "text": [
      "15/37 [===========>..................] - ETA: 1s - loss: 0.4315 - accuracy: 0.7792"
     ]
    },
    {
     "name": "stderr",
     "output_type": "stream",
     "text": [
      "Cleanup called...\n",
      "Cleanup called...\n",
      "Cleanup called...\n",
      "Cleanup called...\n",
      "Cleanup called...\n",
      "Cleanup called...\n",
      "Cleanup called...\n",
      "Cleanup called...\n",
      "Cleanup called...\n"
     ]
    },
    {
     "name": "stdout",
     "output_type": "stream",
     "text": [
      "19/37 [==============>...............] - ETA: 1s - loss: 0.4330 - accuracy: 0.7829"
     ]
    },
    {
     "name": "stderr",
     "output_type": "stream",
     "text": [
      "Cleanup called...\n",
      "Cleanup called...\n",
      "Cleanup called...\n",
      "Cleanup called...\n",
      "Cleanup called...\n",
      "Cleanup called...\n",
      "Cleanup called...\n",
      "Cleanup called...\n",
      "Cleanup called...\n",
      "Cleanup called...\n",
      "Cleanup called...\n",
      "Cleanup called...\n",
      "Cleanup called...\n"
     ]
    },
    {
     "name": "stdout",
     "output_type": "stream",
     "text": [
      "23/37 [=================>............] - ETA: 0s - loss: 0.4286 - accuracy: 0.7921"
     ]
    },
    {
     "name": "stderr",
     "output_type": "stream",
     "text": [
      "Cleanup called...\n",
      "Cleanup called...\n",
      "Cleanup called...\n",
      "Cleanup called...\n",
      "Cleanup called...\n",
      "Cleanup called...\n",
      "Cleanup called...\n",
      "Cleanup called...\n",
      "Cleanup called...\n",
      "Cleanup called...\n",
      "Cleanup called...\n",
      "Cleanup called...\n",
      "Cleanup called...\n",
      "Cleanup called...\n",
      "Cleanup called...\n",
      "Cleanup called...\n"
     ]
    },
    {
     "name": "stdout",
     "output_type": "stream",
     "text": [
      "27/37 [====================>.........] - ETA: 0s - loss: 0.4281 - accuracy: 0.7951"
     ]
    },
    {
     "name": "stderr",
     "output_type": "stream",
     "text": [
      "Cleanup called...\n",
      "Cleanup called...\n",
      "Cleanup called...\n",
      "Cleanup called...\n",
      "Cleanup called...\n",
      "Cleanup called...\n",
      "Cleanup called...\n",
      "Cleanup called...\n",
      "Cleanup called...\n",
      "Cleanup called...\n",
      "Cleanup called...\n",
      "Cleanup called...\n",
      "Cleanup called...\n",
      "Cleanup called...\n",
      "Cleanup called...\n"
     ]
    },
    {
     "name": "stdout",
     "output_type": "stream",
     "text": [
      "32/37 [========================>.....] - ETA: 0s - loss: 0.4282 - accuracy: 0.8008"
     ]
    },
    {
     "name": "stderr",
     "output_type": "stream",
     "text": [
      "Cleanup called...\n"
     ]
    },
    {
     "name": "stdout",
     "output_type": "stream",
     "text": [
      "36/37 [============================>.] - ETA: 0s - loss: 0.4238 - accuracy: 0.8047"
     ]
    },
    {
     "name": "stderr",
     "output_type": "stream",
     "text": [
      "Cleanup called...\n",
      "Cleanup called...\n",
      "Cleanup called...\n",
      "Cleanup called...\n",
      "Cleanup called...\n",
      "Cleanup called...\n",
      "Cleanup called...\n",
      "Cleanup called...\n",
      "Cleanup called...\n",
      "Cleanup called...\n",
      "Cleanup called...\n",
      "Cleanup called...\n",
      "Cleanup called...\n"
     ]
    },
    {
     "name": "stdout",
     "output_type": "stream",
     "text": [
      "37/37 [==============================] - 3s 61ms/step - loss: 0.4220 - accuracy: 0.8072 - val_loss: 0.3805 - val_accuracy: 0.8605\n",
      "Epoch 6/10\n"
     ]
    },
    {
     "name": "stderr",
     "output_type": "stream",
     "text": [
      "Cleanup called...\n",
      "Cleanup called...\n",
      "Cleanup called...\n",
      "Cleanup called...\n",
      "Cleanup called...\n",
      "Cleanup called...\n",
      "Cleanup called...\n",
      "Cleanup called...\n",
      "Cleanup called...\n",
      "Cleanup called...\n",
      "Cleanup called...\n",
      "Cleanup called...\n",
      "Cleanup called...\n",
      "Cleanup called...\n",
      "Cleanup called...\n",
      "Cleanup called...\n",
      "Cleanup called...\n",
      "Cleanup called...\n",
      "Cleanup called...\n",
      "Cleanup called...\n",
      "Cleanup called...\n",
      "Cleanup called...\n",
      "Cleanup called...\n",
      "Cleanup called...\n",
      "Cleanup called...\n",
      "Cleanup called...\n",
      "Cleanup called...\n",
      "Cleanup called...\n",
      "Cleanup called...\n",
      "Cleanup called...\n",
      "Cleanup called...\n",
      "Cleanup called...\n",
      "Cleanup called...\n",
      "Cleanup called...\n",
      "Cleanup called...\n"
     ]
    },
    {
     "name": "stdout",
     "output_type": "stream",
     "text": [
      " 4/37 [==>...........................] - ETA: 2s - loss: 0.3648 - accuracy: 0.8516"
     ]
    },
    {
     "name": "stderr",
     "output_type": "stream",
     "text": [
      "Cleanup called...\n",
      "Cleanup called...\n",
      "Cleanup called...\n",
      "Cleanup called...\n",
      "Cleanup called...\n",
      "Cleanup called...\n",
      "Cleanup called...\n",
      "Cleanup called...\n",
      "Cleanup called...\n",
      "Cleanup called...\n"
     ]
    },
    {
     "name": "stdout",
     "output_type": "stream",
     "text": [
      " 7/37 [====>.........................] - ETA: 1s - loss: 0.3779 - accuracy: 0.8259"
     ]
    },
    {
     "name": "stderr",
     "output_type": "stream",
     "text": [
      "Cleanup called...\n",
      "Cleanup called...\n",
      "Cleanup called...\n",
      "Cleanup called...\n",
      "Cleanup called...\n",
      "Cleanup called...\n",
      "Cleanup called...\n",
      "Cleanup called...\n",
      "Cleanup called...\n",
      "Cleanup called...\n",
      "Cleanup called...\n",
      "Cleanup called...\n",
      "Cleanup called...\n",
      "Cleanup called...\n",
      "Cleanup called...\n",
      "Cleanup called...\n"
     ]
    },
    {
     "name": "stdout",
     "output_type": "stream",
     "text": [
      "10/37 [=======>......................] - ETA: 1s - loss: 0.3801 - accuracy: 0.8250"
     ]
    },
    {
     "name": "stderr",
     "output_type": "stream",
     "text": [
      "Cleanup called...\n",
      "Cleanup called...\n",
      "Cleanup called...\n",
      "Cleanup called...\n",
      "Cleanup called...\n",
      "Cleanup called...\n",
      "Cleanup called...\n",
      "Cleanup called...\n",
      "Cleanup called...\n",
      "Cleanup called...\n",
      "Cleanup called...\n",
      "Cleanup called...\n",
      "Cleanup called...\n"
     ]
    },
    {
     "name": "stdout",
     "output_type": "stream",
     "text": [
      "14/37 [==========>...................] - ETA: 1s - loss: 0.4053 - accuracy: 0.8036"
     ]
    },
    {
     "name": "stderr",
     "output_type": "stream",
     "text": [
      "Cleanup called...\n",
      "Cleanup called...\n",
      "Cleanup called...\n",
      "Cleanup called...\n",
      "Cleanup called...\n",
      "Cleanup called...\n",
      "Cleanup called...\n",
      "Cleanup called...\n",
      "Cleanup called...\n",
      "Cleanup called...\n"
     ]
    },
    {
     "name": "stdout",
     "output_type": "stream",
     "text": [
      "17/37 [============>.................] - ETA: 1s - loss: 0.4069 - accuracy: 0.8015"
     ]
    },
    {
     "name": "stderr",
     "output_type": "stream",
     "text": [
      "Cleanup called...\n",
      "Cleanup called...\n",
      "Cleanup called...\n",
      "Cleanup called...\n",
      "Cleanup called...\n",
      "Cleanup called...\n",
      "Cleanup called...\n",
      "Cleanup called...\n",
      "Cleanup called...\n",
      "Cleanup called...\n",
      "Cleanup called...\n",
      "Cleanup called...\n",
      "Cleanup called...\n",
      "Cleanup called...\n"
     ]
    },
    {
     "name": "stdout",
     "output_type": "stream",
     "text": [
      "22/37 [================>.............] - ETA: 0s - loss: 0.4041 - accuracy: 0.8125"
     ]
    },
    {
     "name": "stderr",
     "output_type": "stream",
     "text": [
      "Cleanup called...\n",
      "Cleanup called...\n",
      "Cleanup called...\n",
      "Cleanup called...\n",
      "Cleanup called...\n",
      "Cleanup called...\n",
      "Cleanup called...\n",
      "Cleanup called...\n",
      "Cleanup called...\n",
      "Cleanup called...\n",
      "Cleanup called...\n",
      "Cleanup called...\n",
      "Cleanup called...\n"
     ]
    },
    {
     "name": "stdout",
     "output_type": "stream",
     "text": [
      "25/37 [===================>..........] - ETA: 0s - loss: 0.4000 - accuracy: 0.8188"
     ]
    },
    {
     "name": "stderr",
     "output_type": "stream",
     "text": [
      "Cleanup called...\n",
      "Cleanup called...\n",
      "Cleanup called...\n",
      "Cleanup called...\n",
      "Cleanup called...\n",
      "Cleanup called...\n",
      "Cleanup called...\n",
      "Cleanup called...\n",
      "Cleanup called...\n",
      "Cleanup called...\n",
      "Cleanup called...\n",
      "Cleanup called...\n",
      "Cleanup called...\n"
     ]
    },
    {
     "name": "stdout",
     "output_type": "stream",
     "text": [
      "30/37 [=======================>......] - ETA: 0s - loss: 0.4033 - accuracy: 0.8188"
     ]
    },
    {
     "name": "stderr",
     "output_type": "stream",
     "text": [
      "Cleanup called...\n",
      "Cleanup called...\n",
      "Cleanup called...\n",
      "Cleanup called...\n",
      "Cleanup called...\n",
      "Cleanup called...\n",
      "Cleanup called...\n"
     ]
    },
    {
     "name": "stdout",
     "output_type": "stream",
     "text": [
      "36/37 [============================>.] - ETA: 0s - loss: 0.4026 - accuracy: 0.8212"
     ]
    },
    {
     "name": "stderr",
     "output_type": "stream",
     "text": [
      "Cleanup called...\n",
      "Cleanup called...\n",
      "Cleanup called...\n",
      "Cleanup called...\n",
      "Cleanup called...\n",
      "Cleanup called...\n",
      "Cleanup called...\n",
      "Cleanup called...\n",
      "Cleanup called...\n",
      "Cleanup called...\n",
      "Cleanup called...\n",
      "Cleanup called...\n",
      "Cleanup called...\n"
     ]
    },
    {
     "name": "stdout",
     "output_type": "stream",
     "text": [
      "37/37 [==============================] - 3s 61ms/step - loss: 0.4036 - accuracy: 0.8201 - val_loss: 0.3921 - val_accuracy: 0.8295\n",
      "Epoch 7/10\n"
     ]
    },
    {
     "name": "stderr",
     "output_type": "stream",
     "text": [
      "Cleanup called...\n",
      "Cleanup called...\n",
      "Cleanup called...\n",
      "Cleanup called...\n",
      "Cleanup called...\n",
      "Cleanup called...\n",
      "Cleanup called...\n",
      "Cleanup called...\n",
      "Cleanup called...\n",
      "Cleanup called...\n",
      "Cleanup called...\n",
      "Cleanup called...\n",
      "Cleanup called...\n",
      "Cleanup called...\n",
      "Cleanup called...\n",
      "Cleanup called...\n",
      "Cleanup called...\n",
      "Cleanup called...\n",
      "Cleanup called...\n",
      "Cleanup called...\n",
      "Cleanup called...\n",
      "Cleanup called...\n",
      "Cleanup called...\n",
      "Cleanup called...\n",
      "Cleanup called...\n",
      "Cleanup called...\n",
      "Cleanup called...\n",
      "Cleanup called...\n",
      "Cleanup called...\n",
      "Cleanup called...\n",
      "Cleanup called...\n",
      "Cleanup called...\n"
     ]
    },
    {
     "name": "stdout",
     "output_type": "stream",
     "text": [
      " 2/37 [>.............................] - ETA: 2s - loss: 0.4460 - accuracy: 0.7812 "
     ]
    },
    {
     "name": "stderr",
     "output_type": "stream",
     "text": [
      "Cleanup called...\n",
      "Cleanup called...\n",
      "Cleanup called...\n",
      "Cleanup called...\n",
      "Cleanup called...\n",
      "Cleanup called...\n",
      "Cleanup called...\n",
      "Cleanup called...\n",
      "Cleanup called...\n",
      "Cleanup called...\n",
      "Cleanup called...\n"
     ]
    },
    {
     "name": "stdout",
     "output_type": "stream",
     "text": [
      " 6/37 [===>..........................] - ETA: 1s - loss: 0.3900 - accuracy: 0.8229"
     ]
    },
    {
     "name": "stderr",
     "output_type": "stream",
     "text": [
      "Cleanup called...\n",
      "Cleanup called...\n",
      "Cleanup called...\n",
      "Cleanup called...\n",
      "Cleanup called...\n",
      "Cleanup called...\n",
      "Cleanup called...\n",
      "Cleanup called...\n",
      "Cleanup called...\n",
      "Cleanup called...\n",
      "Cleanup called...\n",
      "Cleanup called...\n",
      "Cleanup called...\n",
      "Cleanup called...\n",
      "Cleanup called...\n",
      "Cleanup called...\n",
      "Cleanup called...\n"
     ]
    },
    {
     "name": "stdout",
     "output_type": "stream",
     "text": [
      "10/37 [=======>......................] - ETA: 1s - loss: 0.3765 - accuracy: 0.8375"
     ]
    },
    {
     "name": "stderr",
     "output_type": "stream",
     "text": [
      "Cleanup called...\n",
      "Cleanup called...\n",
      "Cleanup called...\n",
      "Cleanup called...\n",
      "Cleanup called...\n",
      "Cleanup called...\n",
      "Cleanup called...\n",
      "Cleanup called...\n",
      "Cleanup called...\n",
      "Cleanup called...\n",
      "Cleanup called...\n",
      "Cleanup called...\n",
      "Cleanup called...\n"
     ]
    },
    {
     "name": "stdout",
     "output_type": "stream",
     "text": [
      "14/37 [==========>...................] - ETA: 1s - loss: 0.3874 - accuracy: 0.8237"
     ]
    },
    {
     "name": "stderr",
     "output_type": "stream",
     "text": [
      "Cleanup called...\n",
      "Cleanup called...\n",
      "Cleanup called...\n",
      "Cleanup called...\n",
      "Cleanup called...\n",
      "Cleanup called...\n",
      "Cleanup called...\n",
      "Cleanup called...\n",
      "Cleanup called...\n",
      "Cleanup called...\n",
      "Cleanup called...\n"
     ]
    },
    {
     "name": "stdout",
     "output_type": "stream",
     "text": [
      "17/37 [============>.................] - ETA: 1s - loss: 0.3920 - accuracy: 0.8143"
     ]
    },
    {
     "name": "stderr",
     "output_type": "stream",
     "text": [
      "Cleanup called...\n",
      "Cleanup called...\n",
      "Cleanup called...\n",
      "Cleanup called...\n",
      "Cleanup called...\n",
      "Cleanup called...\n",
      "Cleanup called...\n",
      "Cleanup called...\n",
      "Cleanup called...\n",
      "Cleanup called...\n",
      "Cleanup called...\n",
      "Cleanup called...\n",
      "Cleanup called...\n",
      "Cleanup called...\n",
      "Cleanup called...\n"
     ]
    },
    {
     "name": "stdout",
     "output_type": "stream",
     "text": [
      "23/37 [=================>............] - ETA: 0s - loss: 0.4003 - accuracy: 0.8071"
     ]
    },
    {
     "name": "stderr",
     "output_type": "stream",
     "text": [
      "Cleanup called...\n",
      "Cleanup called...\n",
      "Cleanup called...\n",
      "Cleanup called...\n",
      "Cleanup called...\n",
      "Cleanup called...\n",
      "Cleanup called...\n",
      "Cleanup called...\n",
      "Cleanup called...\n",
      "Cleanup called...\n",
      "Cleanup called...\n",
      "Cleanup called...\n",
      "Cleanup called...\n",
      "Cleanup called...\n",
      "Cleanup called...\n",
      "Cleanup called...\n"
     ]
    },
    {
     "name": "stdout",
     "output_type": "stream",
     "text": [
      "27/37 [====================>.........] - ETA: 0s - loss: 0.3987 - accuracy: 0.8125"
     ]
    },
    {
     "name": "stderr",
     "output_type": "stream",
     "text": [
      "Cleanup called...\n",
      "Cleanup called...\n",
      "Cleanup called...\n",
      "Cleanup called...\n",
      "Cleanup called...\n",
      "Cleanup called...\n",
      "Cleanup called...\n",
      "Cleanup called...\n",
      "Cleanup called...\n",
      "Cleanup called...\n",
      "Cleanup called...\n",
      "Cleanup called...\n",
      "Cleanup called...\n"
     ]
    },
    {
     "name": "stdout",
     "output_type": "stream",
     "text": [
      "30/37 [=======================>......] - ETA: 0s - loss: 0.3971 - accuracy: 0.8115"
     ]
    },
    {
     "name": "stderr",
     "output_type": "stream",
     "text": [
      "Cleanup called...\n",
      "Cleanup called...\n",
      "Cleanup called...\n"
     ]
    },
    {
     "name": "stdout",
     "output_type": "stream",
     "text": [
      "36/37 [============================>.] - ETA: 0s - loss: 0.3921 - accuracy: 0.8247"
     ]
    },
    {
     "name": "stderr",
     "output_type": "stream",
     "text": [
      "Cleanup called...\n",
      "Cleanup called...\n",
      "Cleanup called...\n",
      "Cleanup called...\n",
      "Cleanup called...\n",
      "Cleanup called...\n",
      "Cleanup called...\n",
      "Cleanup called...\n",
      "Cleanup called...\n",
      "Cleanup called...\n",
      "Cleanup called...\n",
      "Cleanup called...\n",
      "Cleanup called...\n"
     ]
    },
    {
     "name": "stdout",
     "output_type": "stream",
     "text": [
      "37/37 [==============================] - 3s 60ms/step - loss: 0.3913 - accuracy: 0.8243 - val_loss: 0.3759 - val_accuracy: 0.8295\n",
      "Epoch 8/10\n"
     ]
    },
    {
     "name": "stderr",
     "output_type": "stream",
     "text": [
      "Cleanup called...\n",
      "Cleanup called...\n",
      "Cleanup called...\n",
      "Cleanup called...\n",
      "Cleanup called...\n",
      "Cleanup called...\n",
      "Cleanup called...\n",
      "Cleanup called...\n",
      "Cleanup called...\n",
      "Cleanup called...\n",
      "Cleanup called...\n",
      "Cleanup called...\n",
      "Cleanup called...\n",
      "Cleanup called...\n",
      "Cleanup called...\n",
      "Cleanup called...\n",
      "Cleanup called...\n",
      "Cleanup called...\n",
      "Cleanup called...\n",
      "Cleanup called...\n",
      "Cleanup called...\n"
     ]
    },
    {
     "name": "stdout",
     "output_type": "stream",
     "text": [
      " 1/37 [..............................] - ETA: 13s - loss: 0.3216 - accuracy: 0.8438"
     ]
    },
    {
     "name": "stderr",
     "output_type": "stream",
     "text": [
      "Cleanup called...\n",
      "Cleanup called...\n",
      "Cleanup called...\n",
      "Cleanup called...\n",
      "Cleanup called...\n",
      "Cleanup called...\n",
      "Cleanup called...\n",
      "Cleanup called...\n",
      "Cleanup called...\n",
      "Cleanup called...\n",
      "Cleanup called...\n",
      "Cleanup called...\n",
      "Cleanup called...\n",
      "Cleanup called...\n",
      "Cleanup called...\n",
      "Cleanup called...\n",
      "Cleanup called...\n"
     ]
    },
    {
     "name": "stdout",
     "output_type": "stream",
     "text": [
      " 5/37 [===>..........................] - ETA: 1s - loss: 0.3686 - accuracy: 0.8375"
     ]
    },
    {
     "name": "stderr",
     "output_type": "stream",
     "text": [
      "Cleanup called...\n",
      "Cleanup called...\n",
      "Cleanup called...\n",
      "Cleanup called...\n",
      "Cleanup called...\n",
      "Cleanup called...\n",
      "Cleanup called...\n",
      "Cleanup called...\n",
      "Cleanup called...\n",
      "Cleanup called...\n",
      "Cleanup called...\n",
      "Cleanup called...\n",
      "Cleanup called...\n"
     ]
    },
    {
     "name": "stdout",
     "output_type": "stream",
     "text": [
      " 8/37 [=====>........................] - ETA: 1s - loss: 0.3749 - accuracy: 0.8633"
     ]
    },
    {
     "name": "stderr",
     "output_type": "stream",
     "text": [
      "Cleanup called...\n",
      "Cleanup called...\n",
      "Cleanup called...\n",
      "Cleanup called...\n",
      "Cleanup called...\n",
      "Cleanup called...\n",
      "Cleanup called...\n",
      "Cleanup called...\n",
      "Cleanup called...\n",
      "Cleanup called...\n",
      "Cleanup called...\n",
      "Cleanup called...\n",
      "Cleanup called...\n",
      "Cleanup called...\n",
      "Cleanup called...\n",
      "Cleanup called...\n",
      "Cleanup called...\n",
      "Cleanup called...\n",
      "Cleanup called...\n"
     ]
    },
    {
     "name": "stdout",
     "output_type": "stream",
     "text": [
      "12/37 [========>.....................] - ETA: 1s - loss: 0.3664 - accuracy: 0.8542"
     ]
    },
    {
     "name": "stderr",
     "output_type": "stream",
     "text": [
      "Cleanup called...\n",
      "Cleanup called...\n",
      "Cleanup called...\n",
      "Cleanup called...\n",
      "Cleanup called...\n",
      "Cleanup called...\n",
      "Cleanup called...\n",
      "Cleanup called...\n",
      "Cleanup called...\n"
     ]
    },
    {
     "name": "stdout",
     "output_type": "stream",
     "text": [
      "16/37 [===========>..................] - ETA: 1s - loss: 0.3908 - accuracy: 0.8223"
     ]
    },
    {
     "name": "stderr",
     "output_type": "stream",
     "text": [
      "Cleanup called...\n",
      "Cleanup called...\n",
      "Cleanup called...\n",
      "Cleanup called...\n",
      "Cleanup called...\n",
      "Cleanup called...\n",
      "Cleanup called...\n",
      "Cleanup called...\n",
      "Cleanup called...\n",
      "Cleanup called...\n",
      "Cleanup called...\n",
      "Cleanup called...\n"
     ]
    },
    {
     "name": "stdout",
     "output_type": "stream",
     "text": [
      "20/37 [===============>..............] - ETA: 0s - loss: 0.3750 - accuracy: 0.8344"
     ]
    },
    {
     "name": "stderr",
     "output_type": "stream",
     "text": [
      "Cleanup called...\n",
      "Cleanup called...\n",
      "Cleanup called...\n",
      "Cleanup called...\n",
      "Cleanup called...\n",
      "Cleanup called...\n",
      "Cleanup called...\n",
      "Cleanup called...\n",
      "Cleanup called...\n",
      "Cleanup called...\n",
      "Cleanup called...\n",
      "Cleanup called...\n",
      "Cleanup called...\n",
      "Cleanup called...\n",
      "Cleanup called...\n"
     ]
    },
    {
     "name": "stdout",
     "output_type": "stream",
     "text": [
      "23/37 [=================>............] - ETA: 0s - loss: 0.3809 - accuracy: 0.8356"
     ]
    },
    {
     "name": "stderr",
     "output_type": "stream",
     "text": [
      "Cleanup called...\n",
      "Cleanup called...\n",
      "Cleanup called...\n",
      "Cleanup called...\n",
      "Cleanup called...\n",
      "Cleanup called...\n",
      "Cleanup called...\n",
      "Cleanup called...\n",
      "Cleanup called...\n",
      "Cleanup called...\n",
      "Cleanup called...\n",
      "Cleanup called...\n",
      "Cleanup called...\n",
      "Cleanup called...\n",
      "Cleanup called...\n",
      "Cleanup called...\n"
     ]
    },
    {
     "name": "stdout",
     "output_type": "stream",
     "text": [
      "28/37 [=====================>........] - ETA: 0s - loss: 0.3798 - accuracy: 0.8348"
     ]
    },
    {
     "name": "stderr",
     "output_type": "stream",
     "text": [
      "Cleanup called...\n",
      "Cleanup called...\n",
      "Cleanup called...\n",
      "Cleanup called...\n",
      "Cleanup called...\n",
      "Cleanup called...\n",
      "Cleanup called...\n",
      "Cleanup called...\n",
      "Cleanup called...\n"
     ]
    },
    {
     "name": "stdout",
     "output_type": "stream",
     "text": [
      "36/37 [============================>.] - ETA: 0s - loss: 0.3758 - accuracy: 0.8429"
     ]
    },
    {
     "name": "stderr",
     "output_type": "stream",
     "text": [
      "Cleanup called...\n",
      "Cleanup called...\n",
      "Cleanup called...\n",
      "Cleanup called...\n",
      "Cleanup called...\n",
      "Cleanup called...\n",
      "Cleanup called...\n",
      "Cleanup called...\n",
      "Cleanup called...\n",
      "Cleanup called...\n",
      "Cleanup called...\n",
      "Cleanup called...\n",
      "Cleanup called...\n"
     ]
    },
    {
     "name": "stdout",
     "output_type": "stream",
     "text": [
      "37/37 [==============================] - 3s 59ms/step - loss: 0.3764 - accuracy: 0.8432 - val_loss: 0.3737 - val_accuracy: 0.8217\n",
      "Epoch 9/10\n"
     ]
    },
    {
     "name": "stderr",
     "output_type": "stream",
     "text": [
      "Cleanup called...\n",
      "Cleanup called...\n",
      "Cleanup called...\n",
      "Cleanup called...\n",
      "Cleanup called...\n",
      "Cleanup called...\n",
      "Cleanup called...\n",
      "Cleanup called...\n",
      "Cleanup called...\n",
      "Cleanup called...\n",
      "Cleanup called...\n",
      "Cleanup called...\n",
      "Cleanup called...\n",
      "Cleanup called...\n",
      "Cleanup called...\n",
      "Cleanup called...\n",
      "Cleanup called...\n",
      "Cleanup called...\n",
      "Cleanup called...\n"
     ]
    },
    {
     "name": "stdout",
     "output_type": "stream",
     "text": [
      " 1/37 [..............................] - ETA: 14s - loss: 0.4519 - accuracy: 0.7812"
     ]
    },
    {
     "name": "stderr",
     "output_type": "stream",
     "text": [
      "Cleanup called...\n",
      "Cleanup called...\n",
      "Cleanup called...\n",
      "Cleanup called...\n",
      "Cleanup called...\n",
      "Cleanup called...\n",
      "Cleanup called...\n",
      "Cleanup called...\n",
      "Cleanup called...\n",
      "Cleanup called...\n",
      "Cleanup called...\n",
      "Cleanup called...\n",
      "Cleanup called...\n",
      "Cleanup called...\n",
      "Cleanup called...\n",
      "Cleanup called...\n",
      "Cleanup called...\n",
      "Cleanup called...\n"
     ]
    },
    {
     "name": "stdout",
     "output_type": "stream",
     "text": [
      " 4/37 [==>...........................] - ETA: 2s - loss: 0.3534 - accuracy: 0.8516"
     ]
    },
    {
     "name": "stderr",
     "output_type": "stream",
     "text": [
      "Cleanup called...\n",
      "Cleanup called...\n",
      "Cleanup called...\n",
      "Cleanup called...\n",
      "Cleanup called...\n",
      "Cleanup called...\n",
      "Cleanup called...\n",
      "Cleanup called...\n",
      "Cleanup called...\n",
      "Cleanup called...\n",
      "Cleanup called...\n",
      "Cleanup called...\n",
      "Cleanup called...\n"
     ]
    },
    {
     "name": "stdout",
     "output_type": "stream",
     "text": [
      " 8/37 [=====>........................] - ETA: 1s - loss: 0.3695 - accuracy: 0.8359"
     ]
    },
    {
     "name": "stderr",
     "output_type": "stream",
     "text": [
      "Cleanup called...\n",
      "Cleanup called...\n",
      "Cleanup called...\n",
      "Cleanup called...\n",
      "Cleanup called...\n",
      "Cleanup called...\n",
      "Cleanup called...\n",
      "Cleanup called...\n",
      "Cleanup called...\n",
      "Cleanup called...\n",
      "Cleanup called...\n",
      "Cleanup called...\n",
      "Cleanup called...\n",
      "Cleanup called...\n",
      "Cleanup called...\n",
      "Cleanup called...\n",
      "Cleanup called...\n"
     ]
    },
    {
     "name": "stdout",
     "output_type": "stream",
     "text": [
      "12/37 [========>.....................] - ETA: 1s - loss: 0.3660 - accuracy: 0.8411"
     ]
    },
    {
     "name": "stderr",
     "output_type": "stream",
     "text": [
      "Cleanup called...\n",
      "Cleanup called...\n",
      "Cleanup called...\n",
      "Cleanup called...\n",
      "Cleanup called...\n",
      "Cleanup called...\n",
      "Cleanup called...\n",
      "Cleanup called...\n",
      "Cleanup called...\n",
      "Cleanup called...\n",
      "Cleanup called...\n",
      "Cleanup called...\n"
     ]
    },
    {
     "name": "stdout",
     "output_type": "stream",
     "text": [
      "16/37 [===========>..................] - ETA: 1s - loss: 0.3699 - accuracy: 0.8340"
     ]
    },
    {
     "name": "stderr",
     "output_type": "stream",
     "text": [
      "Cleanup called...\n",
      "Cleanup called...\n",
      "Cleanup called...\n",
      "Cleanup called...\n",
      "Cleanup called...\n",
      "Cleanup called...\n",
      "Cleanup called...\n",
      "Cleanup called...\n",
      "Cleanup called...\n",
      "Cleanup called...\n",
      "Cleanup called...\n",
      "Cleanup called...\n"
     ]
    },
    {
     "name": "stdout",
     "output_type": "stream",
     "text": [
      "20/37 [===============>..............] - ETA: 0s - loss: 0.3697 - accuracy: 0.8344"
     ]
    },
    {
     "name": "stderr",
     "output_type": "stream",
     "text": [
      "Cleanup called...\n",
      "Cleanup called...\n",
      "Cleanup called...\n",
      "Cleanup called...\n",
      "Cleanup called...\n",
      "Cleanup called...\n",
      "Cleanup called...\n",
      "Cleanup called...\n",
      "Cleanup called...\n",
      "Cleanup called...\n",
      "Cleanup called...\n",
      "Cleanup called...\n",
      "Cleanup called...\n",
      "Cleanup called...\n",
      "Cleanup called...\n"
     ]
    },
    {
     "name": "stdout",
     "output_type": "stream",
     "text": [
      "24/37 [==================>...........] - ETA: 0s - loss: 0.3790 - accuracy: 0.8229"
     ]
    },
    {
     "name": "stderr",
     "output_type": "stream",
     "text": [
      "Cleanup called...\n",
      "Cleanup called...\n",
      "Cleanup called...\n",
      "Cleanup called...\n",
      "Cleanup called...\n",
      "Cleanup called...\n",
      "Cleanup called...\n",
      "Cleanup called...\n",
      "Cleanup called...\n",
      "Cleanup called...\n",
      "Cleanup called...\n",
      "Cleanup called...\n",
      "Cleanup called...\n",
      "Cleanup called...\n"
     ]
    },
    {
     "name": "stdout",
     "output_type": "stream",
     "text": [
      "28/37 [=====================>........] - ETA: 0s - loss: 0.3803 - accuracy: 0.8248"
     ]
    },
    {
     "name": "stderr",
     "output_type": "stream",
     "text": [
      "Cleanup called...\n",
      "Cleanup called...\n",
      "Cleanup called...\n",
      "Cleanup called...\n",
      "Cleanup called...\n",
      "Cleanup called...\n",
      "Cleanup called...\n",
      "Cleanup called...\n",
      "Cleanup called...\n",
      "Cleanup called...\n",
      "Cleanup called...\n"
     ]
    },
    {
     "name": "stdout",
     "output_type": "stream",
     "text": [
      "36/37 [============================>.] - ETA: 0s - loss: 0.3705 - accuracy: 0.8307"
     ]
    },
    {
     "name": "stderr",
     "output_type": "stream",
     "text": [
      "Cleanup called...\n",
      "Cleanup called...\n",
      "Cleanup called...\n",
      "Cleanup called...\n",
      "Cleanup called...\n",
      "Cleanup called...\n",
      "Cleanup called...\n",
      "Cleanup called...\n",
      "Cleanup called...\n",
      "Cleanup called...\n",
      "Cleanup called...\n",
      "Cleanup called...\n",
      "Cleanup called...\n"
     ]
    },
    {
     "name": "stdout",
     "output_type": "stream",
     "text": [
      "37/37 [==============================] - 3s 61ms/step - loss: 0.3699 - accuracy: 0.8312 - val_loss: 0.3496 - val_accuracy: 0.8527\n",
      "Epoch 10/10\n"
     ]
    },
    {
     "name": "stderr",
     "output_type": "stream",
     "text": [
      "Cleanup called...\n",
      "Cleanup called...\n",
      "Cleanup called...\n",
      "Cleanup called...\n",
      "Cleanup called...\n",
      "Cleanup called...\n",
      "Cleanup called...\n",
      "Cleanup called...\n",
      "Cleanup called...\n",
      "Cleanup called...\n",
      "Cleanup called...\n",
      "Cleanup called...\n",
      "Cleanup called...\n",
      "Cleanup called...\n",
      "Cleanup called...\n",
      "Cleanup called...\n",
      "Cleanup called...\n",
      "Cleanup called...\n",
      "Cleanup called...\n",
      "Cleanup called...\n",
      "Cleanup called...\n",
      "Cleanup called...\n",
      "Cleanup called...\n",
      "Cleanup called...\n",
      "Cleanup called...\n",
      "Cleanup called...\n",
      "Cleanup called...\n",
      "Cleanup called...\n",
      "Cleanup called...\n",
      "Cleanup called...\n",
      "Cleanup called...\n",
      "Cleanup called...\n",
      "Cleanup called...\n",
      "Cleanup called...\n",
      "Cleanup called...\n"
     ]
    },
    {
     "name": "stdout",
     "output_type": "stream",
     "text": [
      " 3/37 [=>............................] - ETA: 2s - loss: 0.3693 - accuracy: 0.8438"
     ]
    },
    {
     "name": "stderr",
     "output_type": "stream",
     "text": [
      "Cleanup called...\n",
      "Cleanup called...\n",
      "Cleanup called...\n",
      "Cleanup called...\n",
      "Cleanup called...\n",
      "Cleanup called...\n",
      "Cleanup called...\n",
      "Cleanup called...\n",
      "Cleanup called...\n",
      "Cleanup called...\n"
     ]
    },
    {
     "name": "stdout",
     "output_type": "stream",
     "text": [
      " 6/37 [===>..........................] - ETA: 2s - loss: 0.3384 - accuracy: 0.8594"
     ]
    },
    {
     "name": "stderr",
     "output_type": "stream",
     "text": [
      "Cleanup called...\n",
      "Cleanup called...\n",
      "Cleanup called...\n",
      "Cleanup called...\n",
      "Cleanup called...\n",
      "Cleanup called...\n",
      "Cleanup called...\n",
      "Cleanup called...\n",
      "Cleanup called...\n",
      "Cleanup called...\n",
      "Cleanup called...\n",
      "Cleanup called...\n"
     ]
    },
    {
     "name": "stdout",
     "output_type": "stream",
     "text": [
      " 8/37 [=====>........................] - ETA: 2s - loss: 0.3488 - accuracy: 0.8516"
     ]
    },
    {
     "name": "stderr",
     "output_type": "stream",
     "text": [
      "Cleanup called...\n",
      "Cleanup called...\n",
      "Cleanup called...\n",
      "Cleanup called...\n",
      "Cleanup called...\n",
      "Cleanup called...\n",
      "Cleanup called...\n"
     ]
    },
    {
     "name": "stdout",
     "output_type": "stream",
     "text": [
      "10/37 [=======>......................] - ETA: 2s - loss: 0.3406 - accuracy: 0.8594"
     ]
    },
    {
     "name": "stderr",
     "output_type": "stream",
     "text": [
      "Cleanup called...\n",
      "Cleanup called...\n",
      "Cleanup called...\n",
      "Cleanup called...\n",
      "Cleanup called...\n",
      "Cleanup called...\n",
      "Cleanup called...\n",
      "Cleanup called...\n"
     ]
    },
    {
     "name": "stdout",
     "output_type": "stream",
     "text": [
      "13/37 [=========>....................] - ETA: 2s - loss: 0.3376 - accuracy: 0.8558"
     ]
    },
    {
     "name": "stderr",
     "output_type": "stream",
     "text": [
      "Cleanup called...\n",
      "Cleanup called...\n",
      "Cleanup called...\n",
      "Cleanup called...\n",
      "Cleanup called...\n",
      "Cleanup called...\n",
      "Cleanup called...\n"
     ]
    },
    {
     "name": "stdout",
     "output_type": "stream",
     "text": [
      "15/37 [===========>..................] - ETA: 2s - loss: 0.3473 - accuracy: 0.8396"
     ]
    },
    {
     "name": "stderr",
     "output_type": "stream",
     "text": [
      "Cleanup called...\n",
      "Cleanup called...\n",
      "Cleanup called...\n",
      "Cleanup called...\n",
      "Cleanup called...\n",
      "Cleanup called...\n"
     ]
    },
    {
     "name": "stdout",
     "output_type": "stream",
     "text": [
      "18/37 [=============>................] - ETA: 1s - loss: 0.3529 - accuracy: 0.8420"
     ]
    },
    {
     "name": "stderr",
     "output_type": "stream",
     "text": [
      "Cleanup called...\n",
      "Cleanup called...\n",
      "Cleanup called...\n",
      "Cleanup called...\n",
      "Cleanup called...\n",
      "Cleanup called...\n",
      "Cleanup called...\n",
      "Cleanup called...\n",
      "Cleanup called...\n",
      "Cleanup called...\n",
      "Cleanup called...\n",
      "Cleanup called...\n",
      "Cleanup called...\n"
     ]
    },
    {
     "name": "stdout",
     "output_type": "stream",
     "text": [
      "22/37 [================>.............] - ETA: 1s - loss: 0.3611 - accuracy: 0.8395"
     ]
    },
    {
     "name": "stderr",
     "output_type": "stream",
     "text": [
      "Cleanup called...\n",
      "Cleanup called...\n",
      "Cleanup called...\n",
      "Cleanup called...\n",
      "Cleanup called...\n",
      "Cleanup called...\n",
      "Cleanup called...\n",
      "Cleanup called...\n",
      "Cleanup called...\n",
      "Cleanup called...\n",
      "Cleanup called...\n",
      "Cleanup called...\n",
      "Cleanup called...\n",
      "Cleanup called...\n",
      "Cleanup called...\n"
     ]
    },
    {
     "name": "stdout",
     "output_type": "stream",
     "text": [
      "26/37 [====================>.........] - ETA: 0s - loss: 0.3668 - accuracy: 0.8305"
     ]
    },
    {
     "name": "stderr",
     "output_type": "stream",
     "text": [
      "Cleanup called...\n",
      "Cleanup called...\n",
      "Cleanup called...\n",
      "Cleanup called...\n",
      "Cleanup called...\n",
      "Cleanup called...\n",
      "Cleanup called...\n",
      "Cleanup called...\n",
      "Cleanup called...\n",
      "Cleanup called...\n",
      "Cleanup called...\n"
     ]
    },
    {
     "name": "stdout",
     "output_type": "stream",
     "text": [
      "30/37 [=======================>......] - ETA: 0s - loss: 0.3621 - accuracy: 0.8344"
     ]
    },
    {
     "name": "stderr",
     "output_type": "stream",
     "text": [
      "Cleanup called...\n",
      "Cleanup called...\n",
      "Cleanup called...\n",
      "Cleanup called...\n",
      "Cleanup called...\n",
      "Cleanup called...\n",
      "Cleanup called...\n"
     ]
    },
    {
     "name": "stdout",
     "output_type": "stream",
     "text": [
      "36/37 [============================>.] - ETA: 0s - loss: 0.3558 - accuracy: 0.8438"
     ]
    },
    {
     "name": "stderr",
     "output_type": "stream",
     "text": [
      "Cleanup called...\n",
      "Cleanup called...\n",
      "Cleanup called...\n",
      "Cleanup called...\n",
      "Cleanup called...\n",
      "Cleanup called...\n",
      "Cleanup called...\n",
      "Cleanup called...\n",
      "Cleanup called...\n",
      "Cleanup called...\n",
      "Cleanup called...\n",
      "Cleanup called...\n",
      "Cleanup called...\n"
     ]
    },
    {
     "name": "stdout",
     "output_type": "stream",
     "text": [
      "37/37 [==============================] - 3s 79ms/step - loss: 0.3579 - accuracy: 0.8432 - val_loss: 0.3575 - val_accuracy: 0.8295\n"
     ]
    },
    {
     "data": {
      "image/png": "[encoded data removed]",
      "text/plain": [
       "<Figure size 432x288 with 1 Axes>"
      ]
     },
     "metadata": {
      "needs_background": "light"
     },
     "output_type": "display_data"
    },
    {
     "data": {
      "image/png": "[encoded data removed]",
      "text/plain": [
       "<Figure size 432x288 with 1 Axes>"
      ]
     },
     "metadata": {
      "needs_background": "light"
     },
     "output_type": "display_data"
    },
    {
     "name": "stdout",
     "output_type": "stream",
     "text": [
      "Epoch 1/10\n"
     ]
    },
    {
     "name": "stderr",
     "output_type": "stream",
     "text": [
      "Cleanup called...\n",
      "Cleanup called...\n",
      "Cleanup called...\n",
      "Cleanup called...\n",
      "Cleanup called...\n",
      "Cleanup called...\n",
      "Cleanup called...\n",
      "Cleanup called...\n",
      "Cleanup called...\n",
      "Cleanup called...\n",
      "Cleanup called...\n",
      "Cleanup called...\n",
      "Cleanup called...\n",
      "Cleanup called...\n",
      "Cleanup called...\n",
      "Cleanup called...\n",
      "Cleanup called...\n",
      "Cleanup called...\n",
      "Cleanup called...\n",
      "Cleanup called...\n",
      "Cleanup called...\n",
      "Cleanup called...\n",
      "Cleanup called...\n",
      "Cleanup called...\n",
      "Cleanup called...\n",
      "Cleanup called...\n",
      "Cleanup called...\n",
      "Cleanup called...\n",
      "Cleanup called...\n",
      "Cleanup called...\n",
      "Cleanup called...\n",
      "Cleanup called...\n",
      "Cleanup called...\n",
      "Cleanup called...\n",
      "Cleanup called...\n"
     ]
    },
    {
     "name": "stdout",
     "output_type": "stream",
     "text": [
      " 1/37 [..............................] - ETA: 10:24 - loss: 0.6813 - accuracy: 0.6250"
     ]
    },
    {
     "name": "stderr",
     "output_type": "stream",
     "text": [
      "Cleanup called...\n",
      "Cleanup called...\n",
      "Cleanup called...\n",
      "Cleanup called...\n",
      "Cleanup called...\n"
     ]
    },
    {
     "name": "stdout",
     "output_type": "stream",
     "text": [
      " 2/37 [>.............................] - ETA: 11s - loss: 0.6921 - accuracy: 0.5938  "
     ]
    },
    {
     "name": "stderr",
     "output_type": "stream",
     "text": [
      "Cleanup called...\n",
      "Cleanup called...\n",
      "Cleanup called...\n"
     ]
    },
    {
     "name": "stdout",
     "output_type": "stream",
     "text": [
      " 3/37 [=>............................] - ETA: 11s - loss: 0.6808 - accuracy: 0.5833"
     ]
    },
    {
     "name": "stderr",
     "output_type": "stream",
     "text": [
      "Cleanup called...\n",
      "Cleanup called...\n",
      "Cleanup called...\n",
      "Cleanup called...\n",
      "Cleanup called...\n"
     ]
    },
    {
     "name": "stdout",
     "output_type": "stream",
     "text": [
      " 4/37 [==>...........................] - ETA: 10s - loss: 0.6855 - accuracy: 0.5781"
     ]
    },
    {
     "name": "stderr",
     "output_type": "stream",
     "text": [
      "Cleanup called...\n",
      "Cleanup called...\n",
      "Cleanup called...\n"
     ]
    },
    {
     "name": "stdout",
     "output_type": "stream",
     "text": [
      " 5/37 [===>..........................] - ETA: 10s - loss: 0.6952 - accuracy: 0.5500"
     ]
    },
    {
     "name": "stderr",
     "output_type": "stream",
     "text": [
      "Cleanup called...\n",
      "Cleanup called...\n",
      "Cleanup called...\n",
      "Cleanup called...\n",
      "Cleanup called...\n",
      "Cleanup called...\n",
      "Cleanup called...\n",
      "Cleanup called...\n"
     ]
    },
    {
     "name": "stdout",
     "output_type": "stream",
     "text": [
      " 6/37 [===>..........................] - ETA: 9s - loss: 0.6910 - accuracy: 0.5469 "
     ]
    },
    {
     "name": "stderr",
     "output_type": "stream",
     "text": [
      "Cleanup called...\n",
      "Cleanup called...\n",
      "Cleanup called...\n",
      "Cleanup called...\n"
     ]
    },
    {
     "name": "stdout",
     "output_type": "stream",
     "text": [
      " 7/37 [====>.........................] - ETA: 9s - loss: 0.6835 - accuracy: 0.5714"
     ]
    },
    {
     "name": "stderr",
     "output_type": "stream",
     "text": [
      "Cleanup called...\n",
      "Cleanup called...\n",
      "Cleanup called...\n",
      "Cleanup called...\n",
      "Cleanup called...\n"
     ]
    },
    {
     "name": "stdout",
     "output_type": "stream",
     "text": [
      " 8/37 [=====>........................] - ETA: 8s - loss: 0.6782 - accuracy: 0.5820"
     ]
    },
    {
     "name": "stderr",
     "output_type": "stream",
     "text": [
      "Cleanup called...\n",
      "Cleanup called...\n",
      "Cleanup called...\n"
     ]
    },
    {
     "name": "stdout",
     "output_type": "stream",
     "text": [
      " 9/37 [======>.......................] - ETA: 8s - loss: 0.6745 - accuracy: 0.5868"
     ]
    },
    {
     "name": "stderr",
     "output_type": "stream",
     "text": [
      "Cleanup called...\n"
     ]
    },
    {
     "name": "stdout",
     "output_type": "stream",
     "text": [
      "10/37 [=======>......................] - ETA: 8s - loss: 0.6719 - accuracy: 0.5938"
     ]
    },
    {
     "name": "stderr",
     "output_type": "stream",
     "text": [
      "Cleanup called...\n",
      "Cleanup called...\n",
      "Cleanup called...\n",
      "Cleanup called...\n"
     ]
    },
    {
     "name": "stdout",
     "output_type": "stream",
     "text": [
      "11/37 [=======>......................] - ETA: 7s - loss: 0.6657 - accuracy: 0.6108"
     ]
    },
    {
     "name": "stderr",
     "output_type": "stream",
     "text": [
      "Cleanup called...\n",
      "Cleanup called...\n",
      "Cleanup called...\n"
     ]
    },
    {
     "name": "stdout",
     "output_type": "stream",
     "text": [
      "12/37 [========>.....................] - ETA: 7s - loss: 0.6653 - accuracy: 0.6094"
     ]
    },
    {
     "name": "stderr",
     "output_type": "stream",
     "text": [
      "Cleanup called...\n",
      "Cleanup called...\n",
      "Cleanup called...\n"
     ]
    },
    {
     "name": "stdout",
     "output_type": "stream",
     "text": [
      "13/37 [=========>....................] - ETA: 7s - loss: 0.6644 - accuracy: 0.6130"
     ]
    },
    {
     "name": "stderr",
     "output_type": "stream",
     "text": [
      "Cleanup called...\n",
      "Cleanup called...\n"
     ]
    },
    {
     "name": "stdout",
     "output_type": "stream",
     "text": [
      "14/37 [==========>...................] - ETA: 6s - loss: 0.6643 - accuracy: 0.6049"
     ]
    },
    {
     "name": "stderr",
     "output_type": "stream",
     "text": [
      "Cleanup called...\n",
      "Cleanup called...\n"
     ]
    },
    {
     "name": "stdout",
     "output_type": "stream",
     "text": [
      "15/37 [===========>..................] - ETA: 6s - loss: 0.6656 - accuracy: 0.6000"
     ]
    },
    {
     "name": "stderr",
     "output_type": "stream",
     "text": [
      "Cleanup called...\n",
      "Cleanup called...\n",
      "Cleanup called...\n"
     ]
    },
    {
     "name": "stdout",
     "output_type": "stream",
     "text": [
      "16/37 [===========>..................] - ETA: 6s - loss: 0.6626 - accuracy: 0.6055"
     ]
    },
    {
     "name": "stderr",
     "output_type": "stream",
     "text": [
      "Cleanup called...\n",
      "Cleanup called...\n",
      "Cleanup called...\n",
      "Cleanup called...\n"
     ]
    },
    {
     "name": "stdout",
     "output_type": "stream",
     "text": [
      "17/37 [============>.................] - ETA: 5s - loss: 0.6609 - accuracy: 0.6048"
     ]
    },
    {
     "name": "stderr",
     "output_type": "stream",
     "text": [
      "Cleanup called...\n",
      "Cleanup called...\n",
      "Cleanup called...\n",
      "Cleanup called...\n",
      "Cleanup called...\n"
     ]
    },
    {
     "name": "stdout",
     "output_type": "stream",
     "text": [
      "18/37 [=============>................] - ETA: 5s - loss: 0.6600 - accuracy: 0.6024"
     ]
    },
    {
     "name": "stderr",
     "output_type": "stream",
     "text": [
      "Cleanup called...\n"
     ]
    },
    {
     "name": "stdout",
     "output_type": "stream",
     "text": [
      "19/37 [==============>...............] - ETA: 5s - loss: 0.6551 - accuracy: 0.6118"
     ]
    },
    {
     "name": "stderr",
     "output_type": "stream",
     "text": [
      "Cleanup called...\n",
      "Cleanup called...\n",
      "Cleanup called...\n",
      "Cleanup called...\n",
      "Cleanup called...\n"
     ]
    },
    {
     "name": "stdout",
     "output_type": "stream",
     "text": [
      "20/37 [===============>..............] - ETA: 5s - loss: 0.6571 - accuracy: 0.6062"
     ]
    },
    {
     "name": "stderr",
     "output_type": "stream",
     "text": [
      "Cleanup called...\n",
      "Cleanup called...\n",
      "Cleanup called...\n",
      "Cleanup called...\n"
     ]
    },
    {
     "name": "stdout",
     "output_type": "stream",
     "text": [
      "21/37 [================>.............] - ETA: 4s - loss: 0.6544 - accuracy: 0.6101"
     ]
    },
    {
     "name": "stderr",
     "output_type": "stream",
     "text": [
      "Cleanup called...\n",
      "Cleanup called...\n",
      "Cleanup called...\n"
     ]
    },
    {
     "name": "stdout",
     "output_type": "stream",
     "text": [
      "22/37 [================>.............] - ETA: 4s - loss: 0.6493 - accuracy: 0.6136"
     ]
    },
    {
     "name": "stderr",
     "output_type": "stream",
     "text": [
      "Cleanup called...\n",
      "Cleanup called...\n",
      "Cleanup called...\n",
      "Cleanup called...\n"
     ]
    },
    {
     "name": "stdout",
     "output_type": "stream",
     "text": [
      "23/37 [=================>............] - ETA: 4s - loss: 0.6484 - accuracy: 0.6168"
     ]
    },
    {
     "name": "stderr",
     "output_type": "stream",
     "text": [
      "Cleanup called...\n",
      "Cleanup called...\n",
      "Cleanup called...\n",
      "Cleanup called...\n",
      "Cleanup called...\n"
     ]
    },
    {
     "name": "stdout",
     "output_type": "stream",
     "text": [
      "24/37 [==================>...........] - ETA: 3s - loss: 0.6475 - accuracy: 0.6185"
     ]
    },
    {
     "name": "stderr",
     "output_type": "stream",
     "text": [
      "Cleanup called...\n",
      "Cleanup called...\n",
      "Cleanup called...\n"
     ]
    },
    {
     "name": "stdout",
     "output_type": "stream",
     "text": [
      "25/37 [===================>..........] - ETA: 3s - loss: 0.6456 - accuracy: 0.6212"
     ]
    },
    {
     "name": "stderr",
     "output_type": "stream",
     "text": [
      "Cleanup called...\n"
     ]
    },
    {
     "name": "stdout",
     "output_type": "stream",
     "text": [
      "26/37 [====================>.........] - ETA: 3s - loss: 0.6441 - accuracy: 0.6262"
     ]
    },
    {
     "name": "stderr",
     "output_type": "stream",
     "text": [
      "Cleanup called...\n",
      "Cleanup called...\n",
      "Cleanup called...\n",
      "Cleanup called...\n",
      "Cleanup called...\n",
      "Cleanup called...\n",
      "Cleanup called...\n"
     ]
    },
    {
     "name": "stdout",
     "output_type": "stream",
     "text": [
      "37/37 [==============================] - ETA: 0s - loss: 0.6297 - accuracy: 0.6495"
     ]
    },
    {
     "name": "stderr",
     "output_type": "stream",
     "text": [
      "Cleanup called...\n",
      "Cleanup called...\n",
      "Cleanup called...\n",
      "Cleanup called...\n",
      "Cleanup called...\n",
      "Cleanup called...\n",
      "Cleanup called...\n",
      "Cleanup called...\n",
      "Cleanup called...\n",
      "Cleanup called...\n",
      "Cleanup called...\n",
      "Cleanup called...\n",
      "Cleanup called...\n"
     ]
    },
    {
     "name": "stdout",
     "output_type": "stream",
     "text": [
      "37/37 [==============================] - 34s 457ms/step - loss: 0.6297 - accuracy: 0.6495 - val_loss: 0.6102 - val_accuracy: 0.6822\n",
      "Epoch 2/10\n"
     ]
    },
    {
     "name": "stderr",
     "output_type": "stream",
     "text": [
      "Cleanup called...\n",
      "Cleanup called...\n",
      "Cleanup called...\n",
      "Cleanup called...\n",
      "Cleanup called...\n",
      "Cleanup called...\n",
      "Cleanup called...\n",
      "Cleanup called...\n",
      "Cleanup called...\n",
      "Cleanup called...\n",
      "Cleanup called...\n",
      "Cleanup called...\n",
      "Cleanup called...\n",
      "Cleanup called...\n",
      "Cleanup called...\n",
      "Cleanup called...\n",
      "Cleanup called...\n",
      "Cleanup called...\n",
      "Cleanup called...\n",
      "Cleanup called...\n",
      "Cleanup called...\n",
      "Cleanup called...\n",
      "Cleanup called...\n",
      "Cleanup called...\n",
      "Cleanup called...\n",
      "Cleanup called...\n",
      "Cleanup called...\n",
      "Cleanup called...\n",
      "Cleanup called...\n",
      "Cleanup called...\n",
      "Cleanup called...\n",
      "Cleanup called...\n",
      "Cleanup called...\n",
      "Cleanup called...\n",
      "Cleanup called...\n"
     ]
    },
    {
     "name": "stdout",
     "output_type": "stream",
     "text": [
      " 1/37 [..............................] - ETA: 25s - loss: 0.6046 - accuracy: 0.7500"
     ]
    },
    {
     "name": "stderr",
     "output_type": "stream",
     "text": [
      "Cleanup called...\n",
      "Cleanup called...\n",
      "Cleanup called...\n",
      "Cleanup called...\n",
      "Cleanup called...\n"
     ]
    },
    {
     "name": "stdout",
     "output_type": "stream",
     "text": [
      " 2/37 [>.............................] - ETA: 11s - loss: 0.5632 - accuracy: 0.8281"
     ]
    },
    {
     "name": "stderr",
     "output_type": "stream",
     "text": [
      "Cleanup called...\n",
      "Cleanup called...\n",
      "Cleanup called...\n"
     ]
    },
    {
     "name": "stdout",
     "output_type": "stream",
     "text": [
      " 3/37 [=>............................] - ETA: 10s - loss: 0.5664 - accuracy: 0.7917"
     ]
    },
    {
     "name": "stderr",
     "output_type": "stream",
     "text": [
      "Cleanup called...\n",
      "Cleanup called...\n",
      "Cleanup called...\n",
      "Cleanup called...\n",
      "Cleanup called...\n"
     ]
    },
    {
     "name": "stdout",
     "output_type": "stream",
     "text": [
      " 4/37 [==>...........................] - ETA: 10s - loss: 0.5725 - accuracy: 0.7656"
     ]
    },
    {
     "name": "stderr",
     "output_type": "stream",
     "text": [
      "Cleanup called...\n",
      "Cleanup called...\n",
      "Cleanup called...\n"
     ]
    },
    {
     "name": "stdout",
     "output_type": "stream",
     "text": [
      " 5/37 [===>..........................] - ETA: 9s - loss: 0.5735 - accuracy: 0.7500 "
     ]
    },
    {
     "name": "stderr",
     "output_type": "stream",
     "text": [
      "Cleanup called...\n",
      "Cleanup called...\n",
      "Cleanup called...\n",
      "Cleanup called...\n",
      "Cleanup called...\n",
      "Cleanup called...\n",
      "Cleanup called...\n",
      "Cleanup called...\n"
     ]
    },
    {
     "name": "stdout",
     "output_type": "stream",
     "text": [
      " 6/37 [===>..........................] - ETA: 9s - loss: 0.5705 - accuracy: 0.7448"
     ]
    },
    {
     "name": "stderr",
     "output_type": "stream",
     "text": [
      "Cleanup called...\n",
      "Cleanup called...\n",
      "Cleanup called...\n",
      "Cleanup called...\n"
     ]
    },
    {
     "name": "stdout",
     "output_type": "stream",
     "text": [
      " 7/37 [====>.........................] - ETA: 8s - loss: 0.5690 - accuracy: 0.7500"
     ]
    },
    {
     "name": "stderr",
     "output_type": "stream",
     "text": [
      "Cleanup called...\n",
      "Cleanup called...\n",
      "Cleanup called...\n",
      "Cleanup called...\n",
      "Cleanup called...\n"
     ]
    },
    {
     "name": "stdout",
     "output_type": "stream",
     "text": [
      " 8/37 [=====>........................] - ETA: 8s - loss: 0.5703 - accuracy: 0.7578"
     ]
    },
    {
     "name": "stderr",
     "output_type": "stream",
     "text": [
      "Cleanup called...\n",
      "Cleanup called...\n",
      "Cleanup called...\n"
     ]
    },
    {
     "name": "stdout",
     "output_type": "stream",
     "text": [
      " 9/37 [======>.......................] - ETA: 8s - loss: 0.5656 - accuracy: 0.7604"
     ]
    },
    {
     "name": "stderr",
     "output_type": "stream",
     "text": [
      "Cleanup called...\n"
     ]
    },
    {
     "name": "stdout",
     "output_type": "stream",
     "text": [
      "10/37 [=======>......................] - ETA: 7s - loss: 0.5629 - accuracy: 0.7594"
     ]
    },
    {
     "name": "stderr",
     "output_type": "stream",
     "text": [
      "Cleanup called...\n",
      "Cleanup called...\n",
      "Cleanup called...\n",
      "Cleanup called...\n"
     ]
    },
    {
     "name": "stdout",
     "output_type": "stream",
     "text": [
      "11/37 [=======>......................] - ETA: 7s - loss: 0.5700 - accuracy: 0.7500"
     ]
    },
    {
     "name": "stderr",
     "output_type": "stream",
     "text": [
      "Cleanup called...\n",
      "Cleanup called...\n",
      "Cleanup called...\n"
     ]
    },
    {
     "name": "stdout",
     "output_type": "stream",
     "text": [
      "12/37 [========>.....................] - ETA: 7s - loss: 0.5690 - accuracy: 0.7526"
     ]
    },
    {
     "name": "stderr",
     "output_type": "stream",
     "text": [
      "Cleanup called...\n",
      "Cleanup called...\n",
      "Cleanup called...\n"
     ]
    },
    {
     "name": "stdout",
     "output_type": "stream",
     "text": [
      "13/37 [=========>....................] - ETA: 7s - loss: 0.5716 - accuracy: 0.7476"
     ]
    },
    {
     "name": "stderr",
     "output_type": "stream",
     "text": [
      "Cleanup called...\n",
      "Cleanup called...\n"
     ]
    },
    {
     "name": "stdout",
     "output_type": "stream",
     "text": [
      "14/37 [==========>...................] - ETA: 6s - loss: 0.5662 - accuracy: 0.7522"
     ]
    },
    {
     "name": "stderr",
     "output_type": "stream",
     "text": [
      "Cleanup called...\n",
      "Cleanup called...\n"
     ]
    },
    {
     "name": "stdout",
     "output_type": "stream",
     "text": [
      "15/37 [===========>..................] - ETA: 6s - loss: 0.5675 - accuracy: 0.7500"
     ]
    },
    {
     "name": "stderr",
     "output_type": "stream",
     "text": [
      "Cleanup called...\n",
      "Cleanup called...\n",
      "Cleanup called...\n"
     ]
    },
    {
     "name": "stdout",
     "output_type": "stream",
     "text": [
      "16/37 [===========>..................] - ETA: 6s - loss: 0.5638 - accuracy: 0.7539"
     ]
    },
    {
     "name": "stderr",
     "output_type": "stream",
     "text": [
      "Cleanup called...\n",
      "Cleanup called...\n",
      "Cleanup called...\n",
      "Cleanup called...\n"
     ]
    },
    {
     "name": "stdout",
     "output_type": "stream",
     "text": [
      "17/37 [============>.................] - ETA: 5s - loss: 0.5614 - accuracy: 0.7537"
     ]
    },
    {
     "name": "stderr",
     "output_type": "stream",
     "text": [
      "Cleanup called...\n",
      "Cleanup called...\n",
      "Cleanup called...\n",
      "Cleanup called...\n",
      "Cleanup called...\n"
     ]
    },
    {
     "name": "stdout",
     "output_type": "stream",
     "text": [
      "18/37 [=============>................] - ETA: 5s - loss: 0.5611 - accuracy: 0.7552"
     ]
    },
    {
     "name": "stderr",
     "output_type": "stream",
     "text": [
      "Cleanup called...\n"
     ]
    },
    {
     "name": "stdout",
     "output_type": "stream",
     "text": [
      "19/37 [==============>...............] - ETA: 5s - loss: 0.5634 - accuracy: 0.7549"
     ]
    },
    {
     "name": "stderr",
     "output_type": "stream",
     "text": [
      "Cleanup called...\n",
      "Cleanup called...\n",
      "Cleanup called...\n",
      "Cleanup called...\n",
      "Cleanup called...\n"
     ]
    },
    {
     "name": "stdout",
     "output_type": "stream",
     "text": [
      "20/37 [===============>..............] - ETA: 5s - loss: 0.5629 - accuracy: 0.7531"
     ]
    },
    {
     "name": "stderr",
     "output_type": "stream",
     "text": [
      "Cleanup called...\n",
      "Cleanup called...\n",
      "Cleanup called...\n",
      "Cleanup called...\n"
     ]
    },
    {
     "name": "stdout",
     "output_type": "stream",
     "text": [
      "21/37 [================>.............] - ETA: 4s - loss: 0.5632 - accuracy: 0.7530"
     ]
    },
    {
     "name": "stderr",
     "output_type": "stream",
     "text": [
      "Cleanup called...\n",
      "Cleanup called...\n",
      "Cleanup called...\n"
     ]
    },
    {
     "name": "stdout",
     "output_type": "stream",
     "text": [
      "22/37 [================>.............] - ETA: 4s - loss: 0.5607 - accuracy: 0.7557"
     ]
    },
    {
     "name": "stderr",
     "output_type": "stream",
     "text": [
      "Cleanup called...\n",
      "Cleanup called...\n",
      "Cleanup called...\n",
      "Cleanup called...\n"
     ]
    },
    {
     "name": "stdout",
     "output_type": "stream",
     "text": [
      "23/37 [=================>............] - ETA: 4s - loss: 0.5605 - accuracy: 0.7541"
     ]
    },
    {
     "name": "stderr",
     "output_type": "stream",
     "text": [
      "Cleanup called...\n",
      "Cleanup called...\n",
      "Cleanup called...\n",
      "Cleanup called...\n",
      "Cleanup called...\n"
     ]
    },
    {
     "name": "stdout",
     "output_type": "stream",
     "text": [
      "24/37 [==================>...........] - ETA: 3s - loss: 0.5610 - accuracy: 0.7539"
     ]
    },
    {
     "name": "stderr",
     "output_type": "stream",
     "text": [
      "Cleanup called...\n",
      "Cleanup called...\n",
      "Cleanup called...\n"
     ]
    },
    {
     "name": "stdout",
     "output_type": "stream",
     "text": [
      "25/37 [===================>..........] - ETA: 3s - loss: 0.5604 - accuracy: 0.7563"
     ]
    },
    {
     "name": "stderr",
     "output_type": "stream",
     "text": [
      "Cleanup called...\n"
     ]
    },
    {
     "name": "stdout",
     "output_type": "stream",
     "text": [
      "26/37 [====================>.........] - ETA: 3s - loss: 0.5621 - accuracy: 0.7536"
     ]
    },
    {
     "name": "stderr",
     "output_type": "stream",
     "text": [
      "Cleanup called...\n",
      "Cleanup called...\n",
      "Cleanup called...\n",
      "Cleanup called...\n",
      "Cleanup called...\n",
      "Cleanup called...\n",
      "Cleanup called...\n"
     ]
    },
    {
     "name": "stdout",
     "output_type": "stream",
     "text": [
      "37/37 [==============================] - ETA: 0s - loss: 0.5546 - accuracy: 0.7464"
     ]
    },
    {
     "name": "stderr",
     "output_type": "stream",
     "text": [
      "Cleanup called...\n",
      "Cleanup called...\n",
      "Cleanup called...\n",
      "Cleanup called...\n",
      "Cleanup called...\n",
      "Cleanup called...\n",
      "Cleanup called...\n",
      "Cleanup called...\n",
      "Cleanup called...\n",
      "Cleanup called...\n",
      "Cleanup called...\n",
      "Cleanup called...\n",
      "Cleanup called...\n"
     ]
    },
    {
     "name": "stdout",
     "output_type": "stream",
     "text": [
      "37/37 [==============================] - 12s 323ms/step - loss: 0.5546 - accuracy: 0.7464 - val_loss: 0.5535 - val_accuracy: 0.6977\n",
      "Epoch 3/10\n"
     ]
    },
    {
     "name": "stderr",
     "output_type": "stream",
     "text": [
      "Cleanup called...\n",
      "Cleanup called...\n",
      "Cleanup called...\n",
      "Cleanup called...\n",
      "Cleanup called...\n",
      "Cleanup called...\n",
      "Cleanup called...\n",
      "Cleanup called...\n",
      "Cleanup called...\n",
      "Cleanup called...\n",
      "Cleanup called...\n",
      "Cleanup called...\n",
      "Cleanup called...\n",
      "Cleanup called...\n",
      "Cleanup called...\n",
      "Cleanup called...\n",
      "Cleanup called...\n",
      "Cleanup called...\n",
      "Cleanup called...\n",
      "Cleanup called...\n",
      "Cleanup called...\n",
      "Cleanup called...\n",
      "Cleanup called...\n",
      "Cleanup called...\n",
      "Cleanup called...\n",
      "Cleanup called...\n",
      "Cleanup called...\n",
      "Cleanup called...\n",
      "Cleanup called...\n",
      "Cleanup called...\n",
      "Cleanup called...\n",
      "Cleanup called...\n",
      "Cleanup called...\n",
      "Cleanup called...\n",
      "Cleanup called...\n"
     ]
    },
    {
     "name": "stdout",
     "output_type": "stream",
     "text": [
      " 1/37 [..............................] - ETA: 22s - loss: 0.4563 - accuracy: 0.8125"
     ]
    },
    {
     "name": "stderr",
     "output_type": "stream",
     "text": [
      "Cleanup called...\n",
      "Cleanup called...\n",
      "Cleanup called...\n",
      "Cleanup called...\n",
      "Cleanup called...\n"
     ]
    },
    {
     "name": "stdout",
     "output_type": "stream",
     "text": [
      " 2/37 [>.............................] - ETA: 10s - loss: 0.4911 - accuracy: 0.7969"
     ]
    },
    {
     "name": "stderr",
     "output_type": "stream",
     "text": [
      "Cleanup called...\n",
      "Cleanup called...\n",
      "Cleanup called...\n"
     ]
    },
    {
     "name": "stdout",
     "output_type": "stream",
     "text": [
      " 3/37 [=>............................] - ETA: 10s - loss: 0.5298 - accuracy: 0.7604"
     ]
    },
    {
     "name": "stderr",
     "output_type": "stream",
     "text": [
      "Cleanup called...\n",
      "Cleanup called...\n",
      "Cleanup called...\n",
      "Cleanup called...\n",
      "Cleanup called...\n"
     ]
    },
    {
     "name": "stdout",
     "output_type": "stream",
     "text": [
      " 4/37 [==>...........................] - ETA: 10s - loss: 0.5363 - accuracy: 0.7422"
     ]
    },
    {
     "name": "stderr",
     "output_type": "stream",
     "text": [
      "Cleanup called...\n",
      "Cleanup called...\n",
      "Cleanup called...\n"
     ]
    },
    {
     "name": "stdout",
     "output_type": "stream",
     "text": [
      " 5/37 [===>..........................] - ETA: 9s - loss: 0.5325 - accuracy: 0.7375 "
     ]
    },
    {
     "name": "stderr",
     "output_type": "stream",
     "text": [
      "Cleanup called...\n",
      "Cleanup called...\n",
      "Cleanup called...\n",
      "Cleanup called...\n",
      "Cleanup called...\n",
      "Cleanup called...\n",
      "Cleanup called...\n",
      "Cleanup called...\n"
     ]
    },
    {
     "name": "stdout",
     "output_type": "stream",
     "text": [
      " 6/37 [===>..........................] - ETA: 9s - loss: 0.5325 - accuracy: 0.7396"
     ]
    },
    {
     "name": "stderr",
     "output_type": "stream",
     "text": [
      "Cleanup called...\n",
      "Cleanup called...\n",
      "Cleanup called...\n",
      "Cleanup called...\n"
     ]
    },
    {
     "name": "stdout",
     "output_type": "stream",
     "text": [
      " 7/37 [====>.........................] - ETA: 9s - loss: 0.5332 - accuracy: 0.7545"
     ]
    },
    {
     "name": "stderr",
     "output_type": "stream",
     "text": [
      "Cleanup called...\n",
      "Cleanup called...\n",
      "Cleanup called...\n",
      "Cleanup called...\n",
      "Cleanup called...\n"
     ]
    },
    {
     "name": "stdout",
     "output_type": "stream",
     "text": [
      " 8/37 [=====>........................] - ETA: 8s - loss: 0.5312 - accuracy: 0.7617"
     ]
    },
    {
     "name": "stderr",
     "output_type": "stream",
     "text": [
      "Cleanup called...\n",
      "Cleanup called...\n",
      "Cleanup called...\n"
     ]
    },
    {
     "name": "stdout",
     "output_type": "stream",
     "text": [
      " 9/37 [======>.......................] - ETA: 8s - loss: 0.5381 - accuracy: 0.7535"
     ]
    },
    {
     "name": "stderr",
     "output_type": "stream",
     "text": [
      "Cleanup called...\n"
     ]
    },
    {
     "name": "stdout",
     "output_type": "stream",
     "text": [
      "10/37 [=======>......................] - ETA: 8s - loss: 0.5249 - accuracy: 0.7688"
     ]
    },
    {
     "name": "stderr",
     "output_type": "stream",
     "text": [
      "Cleanup called...\n",
      "Cleanup called...\n",
      "Cleanup called...\n",
      "Cleanup called...\n"
     ]
    },
    {
     "name": "stdout",
     "output_type": "stream",
     "text": [
      "11/37 [=======>......................] - ETA: 7s - loss: 0.5194 - accuracy: 0.7727"
     ]
    },
    {
     "name": "stderr",
     "output_type": "stream",
     "text": [
      "Cleanup called...\n",
      "Cleanup called...\n",
      "Cleanup called...\n"
     ]
    },
    {
     "name": "stdout",
     "output_type": "stream",
     "text": [
      "12/37 [========>.....................] - ETA: 7s - loss: 0.5142 - accuracy: 0.7760"
     ]
    },
    {
     "name": "stderr",
     "output_type": "stream",
     "text": [
      "Cleanup called...\n",
      "Cleanup called...\n",
      "Cleanup called...\n"
     ]
    },
    {
     "name": "stdout",
     "output_type": "stream",
     "text": [
      "13/37 [=========>....................] - ETA: 7s - loss: 0.5168 - accuracy: 0.7668"
     ]
    },
    {
     "name": "stderr",
     "output_type": "stream",
     "text": [
      "Cleanup called...\n",
      "Cleanup called...\n"
     ]
    },
    {
     "name": "stdout",
     "output_type": "stream",
     "text": [
      "14/37 [==========>...................] - ETA: 6s - loss: 0.5174 - accuracy: 0.7656"
     ]
    },
    {
     "name": "stderr",
     "output_type": "stream",
     "text": [
      "Cleanup called...\n",
      "Cleanup called...\n"
     ]
    },
    {
     "name": "stdout",
     "output_type": "stream",
     "text": [
      "15/37 [===========>..................] - ETA: 6s - loss: 0.5176 - accuracy: 0.7604"
     ]
    },
    {
     "name": "stderr",
     "output_type": "stream",
     "text": [
      "Cleanup called...\n",
      "Cleanup called...\n",
      "Cleanup called...\n"
     ]
    },
    {
     "name": "stdout",
     "output_type": "stream",
     "text": [
      "16/37 [===========>..................] - ETA: 6s - loss: 0.5152 - accuracy: 0.7637"
     ]
    },
    {
     "name": "stderr",
     "output_type": "stream",
     "text": [
      "Cleanup called...\n",
      "Cleanup called...\n",
      "Cleanup called...\n",
      "Cleanup called...\n"
     ]
    },
    {
     "name": "stdout",
     "output_type": "stream",
     "text": [
      "17/37 [============>.................] - ETA: 5s - loss: 0.5147 - accuracy: 0.7629"
     ]
    },
    {
     "name": "stderr",
     "output_type": "stream",
     "text": [
      "Cleanup called...\n",
      "Cleanup called...\n",
      "Cleanup called...\n",
      "Cleanup called...\n",
      "Cleanup called...\n"
     ]
    },
    {
     "name": "stdout",
     "output_type": "stream",
     "text": [
      "18/37 [=============>................] - ETA: 5s - loss: 0.5174 - accuracy: 0.7569"
     ]
    },
    {
     "name": "stderr",
     "output_type": "stream",
     "text": [
      "Cleanup called...\n"
     ]
    },
    {
     "name": "stdout",
     "output_type": "stream",
     "text": [
      "19/37 [==============>...............] - ETA: 5s - loss: 0.5167 - accuracy: 0.7599"
     ]
    },
    {
     "name": "stderr",
     "output_type": "stream",
     "text": [
      "Cleanup called...\n",
      "Cleanup called...\n",
      "Cleanup called...\n",
      "Cleanup called...\n",
      "Cleanup called...\n"
     ]
    },
    {
     "name": "stdout",
     "output_type": "stream",
     "text": [
      "20/37 [===============>..............] - ETA: 5s - loss: 0.5182 - accuracy: 0.7609"
     ]
    },
    {
     "name": "stderr",
     "output_type": "stream",
     "text": [
      "Cleanup called...\n",
      "Cleanup called...\n",
      "Cleanup called...\n",
      "Cleanup called...\n"
     ]
    },
    {
     "name": "stdout",
     "output_type": "stream",
     "text": [
      "21/37 [================>.............] - ETA: 4s - loss: 0.5198 - accuracy: 0.7560"
     ]
    },
    {
     "name": "stderr",
     "output_type": "stream",
     "text": [
      "Cleanup called...\n",
      "Cleanup called...\n",
      "Cleanup called...\n"
     ]
    },
    {
     "name": "stdout",
     "output_type": "stream",
     "text": [
      "22/37 [================>.............] - ETA: 4s - loss: 0.5186 - accuracy: 0.7599"
     ]
    },
    {
     "name": "stderr",
     "output_type": "stream",
     "text": [
      "Cleanup called...\n",
      "Cleanup called...\n",
      "Cleanup called...\n",
      "Cleanup called...\n"
     ]
    },
    {
     "name": "stdout",
     "output_type": "stream",
     "text": [
      "23/37 [=================>............] - ETA: 4s - loss: 0.5200 - accuracy: 0.7595"
     ]
    },
    {
     "name": "stderr",
     "output_type": "stream",
     "text": [
      "Cleanup called...\n",
      "Cleanup called...\n",
      "Cleanup called...\n",
      "Cleanup called...\n",
      "Cleanup called...\n"
     ]
    },
    {
     "name": "stdout",
     "output_type": "stream",
     "text": [
      "24/37 [==================>...........] - ETA: 3s - loss: 0.5238 - accuracy: 0.7539"
     ]
    },
    {
     "name": "stderr",
     "output_type": "stream",
     "text": [
      "Cleanup called...\n",
      "Cleanup called...\n",
      "Cleanup called...\n"
     ]
    },
    {
     "name": "stdout",
     "output_type": "stream",
     "text": [
      "25/37 [===================>..........] - ETA: 3s - loss: 0.5253 - accuracy: 0.7487"
     ]
    },
    {
     "name": "stderr",
     "output_type": "stream",
     "text": [
      "Cleanup called...\n"
     ]
    },
    {
     "name": "stdout",
     "output_type": "stream",
     "text": [
      "26/37 [====================>.........] - ETA: 3s - loss: 0.5250 - accuracy: 0.7488"
     ]
    },
    {
     "name": "stderr",
     "output_type": "stream",
     "text": [
      "Cleanup called...\n",
      "Cleanup called...\n",
      "Cleanup called...\n",
      "Cleanup called...\n",
      "Cleanup called...\n",
      "Cleanup called...\n",
      "Cleanup called...\n"
     ]
    },
    {
     "name": "stdout",
     "output_type": "stream",
     "text": [
      "37/37 [==============================] - ETA: 0s - loss: 0.5184 - accuracy: 0.7618"
     ]
    },
    {
     "name": "stderr",
     "output_type": "stream",
     "text": [
      "Cleanup called...\n",
      "Cleanup called...\n",
      "Cleanup called...\n",
      "Cleanup called...\n",
      "Cleanup called...\n",
      "Cleanup called...\n",
      "Cleanup called...\n",
      "Cleanup called...\n",
      "Cleanup called...\n",
      "Cleanup called...\n",
      "Cleanup called...\n",
      "Cleanup called...\n",
      "Cleanup called...\n"
     ]
    },
    {
     "name": "stdout",
     "output_type": "stream",
     "text": [
      "37/37 [==============================] - 12s 324ms/step - loss: 0.5184 - accuracy: 0.7618 - val_loss: 0.5223 - val_accuracy: 0.7364\n",
      "Epoch 4/10\n"
     ]
    },
    {
     "name": "stderr",
     "output_type": "stream",
     "text": [
      "Cleanup called...\n",
      "Cleanup called...\n",
      "Cleanup called...\n",
      "Cleanup called...\n",
      "Cleanup called...\n",
      "Cleanup called...\n",
      "Cleanup called...\n",
      "Cleanup called...\n",
      "Cleanup called...\n",
      "Cleanup called...\n",
      "Cleanup called...\n",
      "Cleanup called...\n",
      "Cleanup called...\n",
      "Cleanup called...\n",
      "Cleanup called...\n",
      "Cleanup called...\n",
      "Cleanup called...\n",
      "Cleanup called...\n",
      "Cleanup called...\n",
      "Cleanup called...\n",
      "Cleanup called...\n",
      "Cleanup called...\n",
      "Cleanup called...\n",
      "Cleanup called...\n",
      "Cleanup called...\n",
      "Cleanup called...\n",
      "Cleanup called...\n",
      "Cleanup called...\n",
      "Cleanup called...\n",
      "Cleanup called...\n",
      "Cleanup called...\n",
      "Cleanup called...\n",
      "Cleanup called...\n",
      "Cleanup called...\n",
      "Cleanup called...\n"
     ]
    },
    {
     "name": "stdout",
     "output_type": "stream",
     "text": [
      " 1/37 [..............................] - ETA: 24s - loss: 0.4867 - accuracy: 0.7500"
     ]
    },
    {
     "name": "stderr",
     "output_type": "stream",
     "text": [
      "Cleanup called...\n",
      "Cleanup called...\n",
      "Cleanup called...\n",
      "Cleanup called...\n",
      "Cleanup called...\n"
     ]
    },
    {
     "name": "stdout",
     "output_type": "stream",
     "text": [
      " 2/37 [>.............................] - ETA: 11s - loss: 0.4893 - accuracy: 0.7344"
     ]
    },
    {
     "name": "stderr",
     "output_type": "stream",
     "text": [
      "Cleanup called...\n",
      "Cleanup called...\n",
      "Cleanup called...\n"
     ]
    },
    {
     "name": "stdout",
     "output_type": "stream",
     "text": [
      " 3/37 [=>............................] - ETA: 10s - loss: 0.4813 - accuracy: 0.7396"
     ]
    },
    {
     "name": "stderr",
     "output_type": "stream",
     "text": [
      "Cleanup called...\n",
      "Cleanup called...\n",
      "Cleanup called...\n",
      "Cleanup called...\n",
      "Cleanup called...\n"
     ]
    },
    {
     "name": "stdout",
     "output_type": "stream",
     "text": [
      " 4/37 [==>...........................] - ETA: 10s - loss: 0.5158 - accuracy: 0.7188"
     ]
    },
    {
     "name": "stderr",
     "output_type": "stream",
     "text": [
      "Cleanup called...\n",
      "Cleanup called...\n",
      "Cleanup called...\n"
     ]
    },
    {
     "name": "stdout",
     "output_type": "stream",
     "text": [
      " 5/37 [===>..........................] - ETA: 10s - loss: 0.4982 - accuracy: 0.7500"
     ]
    },
    {
     "name": "stderr",
     "output_type": "stream",
     "text": [
      "Cleanup called...\n",
      "Cleanup called...\n",
      "Cleanup called...\n",
      "Cleanup called...\n",
      "Cleanup called...\n",
      "Cleanup called...\n",
      "Cleanup called...\n",
      "Cleanup called...\n"
     ]
    },
    {
     "name": "stdout",
     "output_type": "stream",
     "text": [
      " 6/37 [===>..........................] - ETA: 9s - loss: 0.4855 - accuracy: 0.7604 "
     ]
    },
    {
     "name": "stderr",
     "output_type": "stream",
     "text": [
      "Cleanup called...\n",
      "Cleanup called...\n",
      "Cleanup called...\n",
      "Cleanup called...\n"
     ]
    },
    {
     "name": "stdout",
     "output_type": "stream",
     "text": [
      " 7/37 [====>.........................] - ETA: 9s - loss: 0.4921 - accuracy: 0.7545"
     ]
    },
    {
     "name": "stderr",
     "output_type": "stream",
     "text": [
      "Cleanup called...\n",
      "Cleanup called...\n",
      "Cleanup called...\n",
      "Cleanup called...\n",
      "Cleanup called...\n"
     ]
    },
    {
     "name": "stdout",
     "output_type": "stream",
     "text": [
      " 8/37 [=====>........................] - ETA: 8s - loss: 0.5039 - accuracy: 0.7500"
     ]
    },
    {
     "name": "stderr",
     "output_type": "stream",
     "text": [
      "Cleanup called...\n",
      "Cleanup called...\n",
      "Cleanup called...\n"
     ]
    },
    {
     "name": "stdout",
     "output_type": "stream",
     "text": [
      " 9/37 [======>.......................] - ETA: 8s - loss: 0.5006 - accuracy: 0.7465"
     ]
    },
    {
     "name": "stderr",
     "output_type": "stream",
     "text": [
      "Cleanup called...\n"
     ]
    },
    {
     "name": "stdout",
     "output_type": "stream",
     "text": [
      "10/37 [=======>......................] - ETA: 8s - loss: 0.4970 - accuracy: 0.7531"
     ]
    },
    {
     "name": "stderr",
     "output_type": "stream",
     "text": [
      "Cleanup called...\n",
      "Cleanup called...\n",
      "Cleanup called...\n",
      "Cleanup called...\n"
     ]
    },
    {
     "name": "stdout",
     "output_type": "stream",
     "text": [
      "11/37 [=======>......................] - ETA: 7s - loss: 0.4885 - accuracy: 0.7614"
     ]
    },
    {
     "name": "stderr",
     "output_type": "stream",
     "text": [
      "Cleanup called...\n",
      "Cleanup called...\n",
      "Cleanup called...\n"
     ]
    },
    {
     "name": "stdout",
     "output_type": "stream",
     "text": [
      "12/37 [========>.....................] - ETA: 7s - loss: 0.4855 - accuracy: 0.7630"
     ]
    },
    {
     "name": "stderr",
     "output_type": "stream",
     "text": [
      "Cleanup called...\n",
      "Cleanup called...\n",
      "Cleanup called...\n"
     ]
    },
    {
     "name": "stdout",
     "output_type": "stream",
     "text": [
      "13/37 [=========>....................] - ETA: 7s - loss: 0.4791 - accuracy: 0.7716"
     ]
    },
    {
     "name": "stderr",
     "output_type": "stream",
     "text": [
      "Cleanup called...\n",
      "Cleanup called...\n"
     ]
    },
    {
     "name": "stdout",
     "output_type": "stream",
     "text": [
      "14/37 [==========>...................] - ETA: 6s - loss: 0.4876 - accuracy: 0.7589"
     ]
    },
    {
     "name": "stderr",
     "output_type": "stream",
     "text": [
      "Cleanup called...\n",
      "Cleanup called...\n"
     ]
    },
    {
     "name": "stdout",
     "output_type": "stream",
     "text": [
      "15/37 [===========>..................] - ETA: 6s - loss: 0.4859 - accuracy: 0.7625"
     ]
    },
    {
     "name": "stderr",
     "output_type": "stream",
     "text": [
      "Cleanup called...\n",
      "Cleanup called...\n",
      "Cleanup called...\n"
     ]
    },
    {
     "name": "stdout",
     "output_type": "stream",
     "text": [
      "16/37 [===========>..................] - ETA: 6s - loss: 0.4934 - accuracy: 0.7578"
     ]
    },
    {
     "name": "stderr",
     "output_type": "stream",
     "text": [
      "Cleanup called...\n",
      "Cleanup called...\n",
      "Cleanup called...\n",
      "Cleanup called...\n"
     ]
    },
    {
     "name": "stdout",
     "output_type": "stream",
     "text": [
      "17/37 [============>.................] - ETA: 6s - loss: 0.4914 - accuracy: 0.7592"
     ]
    },
    {
     "name": "stderr",
     "output_type": "stream",
     "text": [
      "Cleanup called...\n",
      "Cleanup called...\n",
      "Cleanup called...\n",
      "Cleanup called...\n",
      "Cleanup called...\n"
     ]
    },
    {
     "name": "stdout",
     "output_type": "stream",
     "text": [
      "18/37 [=============>................] - ETA: 5s - loss: 0.4873 - accuracy: 0.7691"
     ]
    },
    {
     "name": "stderr",
     "output_type": "stream",
     "text": [
      "Cleanup called...\n"
     ]
    },
    {
     "name": "stdout",
     "output_type": "stream",
     "text": [
      "19/37 [==============>...............] - ETA: 5s - loss: 0.4910 - accuracy: 0.7648"
     ]
    },
    {
     "name": "stderr",
     "output_type": "stream",
     "text": [
      "Cleanup called...\n",
      "Cleanup called...\n",
      "Cleanup called...\n",
      "Cleanup called...\n",
      "Cleanup called...\n"
     ]
    },
    {
     "name": "stdout",
     "output_type": "stream",
     "text": [
      "20/37 [===============>..............] - ETA: 5s - loss: 0.4907 - accuracy: 0.7688"
     ]
    },
    {
     "name": "stderr",
     "output_type": "stream",
     "text": [
      "Cleanup called...\n",
      "Cleanup called...\n",
      "Cleanup called...\n",
      "Cleanup called...\n"
     ]
    },
    {
     "name": "stdout",
     "output_type": "stream",
     "text": [
      "21/37 [================>.............] - ETA: 4s - loss: 0.4930 - accuracy: 0.7679"
     ]
    },
    {
     "name": "stderr",
     "output_type": "stream",
     "text": [
      "Cleanup called...\n",
      "Cleanup called...\n",
      "Cleanup called...\n"
     ]
    },
    {
     "name": "stdout",
     "output_type": "stream",
     "text": [
      "22/37 [================>.............] - ETA: 4s - loss: 0.4920 - accuracy: 0.7699"
     ]
    },
    {
     "name": "stderr",
     "output_type": "stream",
     "text": [
      "Cleanup called...\n",
      "Cleanup called...\n",
      "Cleanup called...\n",
      "Cleanup called...\n"
     ]
    },
    {
     "name": "stdout",
     "output_type": "stream",
     "text": [
      "23/37 [=================>............] - ETA: 4s - loss: 0.4932 - accuracy: 0.7690"
     ]
    },
    {
     "name": "stderr",
     "output_type": "stream",
     "text": [
      "Cleanup called...\n",
      "Cleanup called...\n",
      "Cleanup called...\n",
      "Cleanup called...\n",
      "Cleanup called...\n"
     ]
    },
    {
     "name": "stdout",
     "output_type": "stream",
     "text": [
      "24/37 [==================>...........] - ETA: 3s - loss: 0.4953 - accuracy: 0.7682"
     ]
    },
    {
     "name": "stderr",
     "output_type": "stream",
     "text": [
      "Cleanup called...\n",
      "Cleanup called...\n",
      "Cleanup called...\n"
     ]
    },
    {
     "name": "stdout",
     "output_type": "stream",
     "text": [
      "25/37 [===================>..........] - ETA: 3s - loss: 0.4958 - accuracy: 0.7663"
     ]
    },
    {
     "name": "stderr",
     "output_type": "stream",
     "text": [
      "Cleanup called...\n"
     ]
    },
    {
     "name": "stdout",
     "output_type": "stream",
     "text": [
      "26/37 [====================>.........] - ETA: 3s - loss: 0.4952 - accuracy: 0.7656"
     ]
    },
    {
     "name": "stderr",
     "output_type": "stream",
     "text": [
      "Cleanup called...\n",
      "Cleanup called...\n",
      "Cleanup called...\n",
      "Cleanup called...\n",
      "Cleanup called...\n",
      "Cleanup called...\n",
      "Cleanup called...\n"
     ]
    },
    {
     "name": "stdout",
     "output_type": "stream",
     "text": [
      "37/37 [==============================] - ETA: 0s - loss: 0.4920 - accuracy: 0.7823"
     ]
    },
    {
     "name": "stderr",
     "output_type": "stream",
     "text": [
      "Cleanup called...\n",
      "Cleanup called...\n",
      "Cleanup called...\n",
      "Cleanup called...\n",
      "Cleanup called...\n",
      "Cleanup called...\n",
      "Cleanup called...\n",
      "Cleanup called...\n",
      "Cleanup called...\n",
      "Cleanup called...\n",
      "Cleanup called...\n",
      "Cleanup called...\n",
      "Cleanup called...\n"
     ]
    },
    {
     "name": "stdout",
     "output_type": "stream",
     "text": [
      "37/37 [==============================] - 12s 328ms/step - loss: 0.4920 - accuracy: 0.7823 - val_loss: 0.5018 - val_accuracy: 0.7752\n",
      "Epoch 5/10\n"
     ]
    },
    {
     "name": "stderr",
     "output_type": "stream",
     "text": [
      "Cleanup called...\n",
      "Cleanup called...\n",
      "Cleanup called...\n",
      "Cleanup called...\n",
      "Cleanup called...\n",
      "Cleanup called...\n",
      "Cleanup called...\n",
      "Cleanup called...\n",
      "Cleanup called...\n",
      "Cleanup called...\n",
      "Cleanup called...\n",
      "Cleanup called...\n",
      "Cleanup called...\n",
      "Cleanup called...\n",
      "Cleanup called...\n",
      "Cleanup called...\n",
      "Cleanup called...\n",
      "Cleanup called...\n",
      "Cleanup called...\n",
      "Cleanup called...\n",
      "Cleanup called...\n",
      "Cleanup called...\n",
      "Cleanup called...\n",
      "Cleanup called...\n",
      "Cleanup called...\n",
      "Cleanup called...\n",
      "Cleanup called...\n",
      "Cleanup called...\n",
      "Cleanup called...\n",
      "Cleanup called...\n",
      "Cleanup called...\n",
      "Cleanup called...\n",
      "Cleanup called...\n",
      "Cleanup called...\n",
      "Cleanup called...\n"
     ]
    },
    {
     "name": "stdout",
     "output_type": "stream",
     "text": [
      " 1/37 [..............................] - ETA: 23s - loss: 0.5646 - accuracy: 0.7500"
     ]
    },
    {
     "name": "stderr",
     "output_type": "stream",
     "text": [
      "Cleanup called...\n",
      "Cleanup called...\n",
      "Cleanup called...\n",
      "Cleanup called...\n",
      "Cleanup called...\n"
     ]
    },
    {
     "name": "stdout",
     "output_type": "stream",
     "text": [
      " 2/37 [>.............................] - ETA: 11s - loss: 0.5135 - accuracy: 0.7500"
     ]
    },
    {
     "name": "stderr",
     "output_type": "stream",
     "text": [
      "Cleanup called...\n",
      "Cleanup called...\n",
      "Cleanup called...\n"
     ]
    },
    {
     "name": "stdout",
     "output_type": "stream",
     "text": [
      " 3/37 [=>............................] - ETA: 11s - loss: 0.4918 - accuracy: 0.7604"
     ]
    },
    {
     "name": "stderr",
     "output_type": "stream",
     "text": [
      "Cleanup called...\n",
      "Cleanup called...\n",
      "Cleanup called...\n",
      "Cleanup called...\n",
      "Cleanup called...\n"
     ]
    },
    {
     "name": "stdout",
     "output_type": "stream",
     "text": [
      " 4/37 [==>...........................] - ETA: 10s - loss: 0.4934 - accuracy: 0.7578"
     ]
    },
    {
     "name": "stderr",
     "output_type": "stream",
     "text": [
      "Cleanup called...\n",
      "Cleanup called...\n",
      "Cleanup called...\n"
     ]
    },
    {
     "name": "stdout",
     "output_type": "stream",
     "text": [
      " 5/37 [===>..........................] - ETA: 10s - loss: 0.4853 - accuracy: 0.7688"
     ]
    },
    {
     "name": "stderr",
     "output_type": "stream",
     "text": [
      "Cleanup called...\n",
      "Cleanup called...\n",
      "Cleanup called...\n",
      "Cleanup called...\n",
      "Cleanup called...\n",
      "Cleanup called...\n",
      "Cleanup called...\n",
      "Cleanup called...\n"
     ]
    },
    {
     "name": "stdout",
     "output_type": "stream",
     "text": [
      " 6/37 [===>..........................] - ETA: 9s - loss: 0.4778 - accuracy: 0.7708 "
     ]
    },
    {
     "name": "stderr",
     "output_type": "stream",
     "text": [
      "Cleanup called...\n",
      "Cleanup called...\n",
      "Cleanup called...\n",
      "Cleanup called...\n"
     ]
    },
    {
     "name": "stdout",
     "output_type": "stream",
     "text": [
      " 7/37 [====>.........................] - ETA: 9s - loss: 0.4894 - accuracy: 0.7545"
     ]
    },
    {
     "name": "stderr",
     "output_type": "stream",
     "text": [
      "Cleanup called...\n",
      "Cleanup called...\n",
      "Cleanup called...\n",
      "Cleanup called...\n",
      "Cleanup called...\n"
     ]
    },
    {
     "name": "stdout",
     "output_type": "stream",
     "text": [
      " 8/37 [=====>........................] - ETA: 8s - loss: 0.4988 - accuracy: 0.7422"
     ]
    },
    {
     "name": "stderr",
     "output_type": "stream",
     "text": [
      "Cleanup called...\n",
      "Cleanup called...\n",
      "Cleanup called...\n"
     ]
    },
    {
     "name": "stdout",
     "output_type": "stream",
     "text": [
      " 9/37 [======>.......................] - ETA: 8s - loss: 0.4921 - accuracy: 0.7431"
     ]
    },
    {
     "name": "stderr",
     "output_type": "stream",
     "text": [
      "Cleanup called...\n"
     ]
    },
    {
     "name": "stdout",
     "output_type": "stream",
     "text": [
      "10/37 [=======>......................] - ETA: 8s - loss: 0.5062 - accuracy: 0.7406"
     ]
    },
    {
     "name": "stderr",
     "output_type": "stream",
     "text": [
      "Cleanup called...\n",
      "Cleanup called...\n",
      "Cleanup called...\n",
      "Cleanup called...\n"
     ]
    },
    {
     "name": "stdout",
     "output_type": "stream",
     "text": [
      "11/37 [=======>......................] - ETA: 8s - loss: 0.5029 - accuracy: 0.7415"
     ]
    },
    {
     "name": "stderr",
     "output_type": "stream",
     "text": [
      "Cleanup called...\n",
      "Cleanup called...\n",
      "Cleanup called...\n"
     ]
    },
    {
     "name": "stdout",
     "output_type": "stream",
     "text": [
      "12/37 [========>.....................] - ETA: 7s - loss: 0.5015 - accuracy: 0.7396"
     ]
    },
    {
     "name": "stderr",
     "output_type": "stream",
     "text": [
      "Cleanup called...\n",
      "Cleanup called...\n",
      "Cleanup called...\n"
     ]
    },
    {
     "name": "stdout",
     "output_type": "stream",
     "text": [
      "13/37 [=========>....................] - ETA: 7s - loss: 0.4970 - accuracy: 0.7452"
     ]
    },
    {
     "name": "stderr",
     "output_type": "stream",
     "text": [
      "Cleanup called...\n",
      "Cleanup called...\n"
     ]
    },
    {
     "name": "stdout",
     "output_type": "stream",
     "text": [
      "14/37 [==========>...................] - ETA: 7s - loss: 0.4962 - accuracy: 0.7522"
     ]
    },
    {
     "name": "stderr",
     "output_type": "stream",
     "text": [
      "Cleanup called...\n",
      "Cleanup called...\n"
     ]
    },
    {
     "name": "stdout",
     "output_type": "stream",
     "text": [
      "15/37 [===========>..................] - ETA: 6s - loss: 0.4916 - accuracy: 0.7500"
     ]
    },
    {
     "name": "stderr",
     "output_type": "stream",
     "text": [
      "Cleanup called...\n",
      "Cleanup called...\n",
      "Cleanup called...\n"
     ]
    },
    {
     "name": "stdout",
     "output_type": "stream",
     "text": [
      "16/37 [===========>..................] - ETA: 6s - loss: 0.4915 - accuracy: 0.7480"
     ]
    },
    {
     "name": "stderr",
     "output_type": "stream",
     "text": [
      "Cleanup called...\n",
      "Cleanup called...\n",
      "Cleanup called...\n",
      "Cleanup called...\n"
     ]
    },
    {
     "name": "stdout",
     "output_type": "stream",
     "text": [
      "17/37 [============>.................] - ETA: 6s - loss: 0.4896 - accuracy: 0.7518"
     ]
    },
    {
     "name": "stderr",
     "output_type": "stream",
     "text": [
      "Cleanup called...\n",
      "Cleanup called...\n",
      "Cleanup called...\n",
      "Cleanup called...\n",
      "Cleanup called...\n"
     ]
    },
    {
     "name": "stdout",
     "output_type": "stream",
     "text": [
      "18/37 [=============>................] - ETA: 5s - loss: 0.4914 - accuracy: 0.7500"
     ]
    },
    {
     "name": "stderr",
     "output_type": "stream",
     "text": [
      "Cleanup called...\n"
     ]
    },
    {
     "name": "stdout",
     "output_type": "stream",
     "text": [
      "19/37 [==============>...............] - ETA: 5s - loss: 0.4879 - accuracy: 0.7566"
     ]
    },
    {
     "name": "stderr",
     "output_type": "stream",
     "text": [
      "Cleanup called...\n",
      "Cleanup called...\n",
      "Cleanup called...\n",
      "Cleanup called...\n",
      "Cleanup called...\n"
     ]
    },
    {
     "name": "stdout",
     "output_type": "stream",
     "text": [
      "20/37 [===============>..............] - ETA: 5s - loss: 0.4828 - accuracy: 0.7625"
     ]
    },
    {
     "name": "stderr",
     "output_type": "stream",
     "text": [
      "Cleanup called...\n",
      "Cleanup called...\n",
      "Cleanup called...\n",
      "Cleanup called...\n"
     ]
    },
    {
     "name": "stdout",
     "output_type": "stream",
     "text": [
      "21/37 [================>.............] - ETA: 4s - loss: 0.4791 - accuracy: 0.7664"
     ]
    },
    {
     "name": "stderr",
     "output_type": "stream",
     "text": [
      "Cleanup called...\n",
      "Cleanup called...\n",
      "Cleanup called...\n"
     ]
    },
    {
     "name": "stdout",
     "output_type": "stream",
     "text": [
      "22/37 [================>.............] - ETA: 4s - loss: 0.4762 - accuracy: 0.7727"
     ]
    },
    {
     "name": "stderr",
     "output_type": "stream",
     "text": [
      "Cleanup called...\n",
      "Cleanup called...\n",
      "Cleanup called...\n",
      "Cleanup called...\n"
     ]
    },
    {
     "name": "stdout",
     "output_type": "stream",
     "text": [
      "23/37 [=================>............] - ETA: 4s - loss: 0.4787 - accuracy: 0.7704"
     ]
    },
    {
     "name": "stderr",
     "output_type": "stream",
     "text": [
      "Cleanup called...\n",
      "Cleanup called...\n",
      "Cleanup called...\n",
      "Cleanup called...\n",
      "Cleanup called...\n"
     ]
    },
    {
     "name": "stdout",
     "output_type": "stream",
     "text": [
      "24/37 [==================>...........] - ETA: 3s - loss: 0.4748 - accuracy: 0.7773"
     ]
    },
    {
     "name": "stderr",
     "output_type": "stream",
     "text": [
      "Cleanup called...\n",
      "Cleanup called...\n",
      "Cleanup called...\n"
     ]
    },
    {
     "name": "stdout",
     "output_type": "stream",
     "text": [
      "25/37 [===================>..........] - ETA: 3s - loss: 0.4749 - accuracy: 0.7800"
     ]
    },
    {
     "name": "stderr",
     "output_type": "stream",
     "text": [
      "Cleanup called...\n"
     ]
    },
    {
     "name": "stdout",
     "output_type": "stream",
     "text": [
      "26/37 [====================>.........] - ETA: 3s - loss: 0.4771 - accuracy: 0.7764"
     ]
    },
    {
     "name": "stderr",
     "output_type": "stream",
     "text": [
      "Cleanup called...\n",
      "Cleanup called...\n",
      "Cleanup called...\n",
      "Cleanup called...\n",
      "Cleanup called...\n",
      "Cleanup called...\n",
      "Cleanup called...\n"
     ]
    },
    {
     "name": "stdout",
     "output_type": "stream",
     "text": [
      "37/37 [==============================] - ETA: 0s - loss: 0.4722 - accuracy: 0.7918"
     ]
    },
    {
     "name": "stderr",
     "output_type": "stream",
     "text": [
      "Cleanup called...\n",
      "Cleanup called...\n",
      "Cleanup called...\n",
      "Cleanup called...\n",
      "Cleanup called...\n",
      "Cleanup called...\n",
      "Cleanup called...\n",
      "Cleanup called...\n",
      "Cleanup called...\n",
      "Cleanup called...\n",
      "Cleanup called...\n",
      "Cleanup called...\n",
      "Cleanup called...\n"
     ]
    },
    {
     "name": "stdout",
     "output_type": "stream",
     "text": [
      "37/37 [==============================] - 13s 331ms/step - loss: 0.4722 - accuracy: 0.7918 - val_loss: 0.4900 - val_accuracy: 0.7597\n",
      "Epoch 6/10\n"
     ]
    },
    {
     "name": "stderr",
     "output_type": "stream",
     "text": [
      "Cleanup called...\n",
      "Cleanup called...\n",
      "Cleanup called...\n",
      "Cleanup called...\n",
      "Cleanup called...\n",
      "Cleanup called...\n",
      "Cleanup called...\n",
      "Cleanup called...\n",
      "Cleanup called...\n",
      "Cleanup called...\n",
      "Cleanup called...\n",
      "Cleanup called...\n",
      "Cleanup called...\n",
      "Cleanup called...\n",
      "Cleanup called...\n",
      "Cleanup called...\n",
      "Cleanup called...\n",
      "Cleanup called...\n",
      "Cleanup called...\n",
      "Cleanup called...\n",
      "Cleanup called...\n",
      "Cleanup called...\n",
      "Cleanup called...\n",
      "Cleanup called...\n",
      "Cleanup called...\n",
      "Cleanup called...\n",
      "Cleanup called...\n",
      "Cleanup called...\n",
      "Cleanup called...\n",
      "Cleanup called...\n",
      "Cleanup called...\n",
      "Cleanup called...\n",
      "Cleanup called...\n",
      "Cleanup called...\n",
      "Cleanup called...\n"
     ]
    },
    {
     "name": "stdout",
     "output_type": "stream",
     "text": [
      " 1/37 [..............................] - ETA: 25s - loss: 0.4326 - accuracy: 0.7812"
     ]
    },
    {
     "name": "stderr",
     "output_type": "stream",
     "text": [
      "Cleanup called...\n",
      "Cleanup called...\n",
      "Cleanup called...\n",
      "Cleanup called...\n",
      "Cleanup called...\n"
     ]
    },
    {
     "name": "stdout",
     "output_type": "stream",
     "text": [
      " 2/37 [>.............................] - ETA: 10s - loss: 0.5207 - accuracy: 0.7031"
     ]
    },
    {
     "name": "stderr",
     "output_type": "stream",
     "text": [
      "Cleanup called...\n",
      "Cleanup called...\n",
      "Cleanup called...\n"
     ]
    },
    {
     "name": "stdout",
     "output_type": "stream",
     "text": [
      " 3/37 [=>............................] - ETA: 10s - loss: 0.5272 - accuracy: 0.7396"
     ]
    },
    {
     "name": "stderr",
     "output_type": "stream",
     "text": [
      "Cleanup called...\n",
      "Cleanup called...\n",
      "Cleanup called...\n",
      "Cleanup called...\n",
      "Cleanup called...\n"
     ]
    },
    {
     "name": "stdout",
     "output_type": "stream",
     "text": [
      " 4/37 [==>...........................] - ETA: 10s - loss: 0.5026 - accuracy: 0.7656"
     ]
    },
    {
     "name": "stderr",
     "output_type": "stream",
     "text": [
      "Cleanup called...\n",
      "Cleanup called...\n",
      "Cleanup called...\n"
     ]
    },
    {
     "name": "stdout",
     "output_type": "stream",
     "text": [
      " 5/37 [===>..........................] - ETA: 9s - loss: 0.4790 - accuracy: 0.7812 "
     ]
    },
    {
     "name": "stderr",
     "output_type": "stream",
     "text": [
      "Cleanup called...\n",
      "Cleanup called...\n",
      "Cleanup called...\n",
      "Cleanup called...\n",
      "Cleanup called...\n",
      "Cleanup called...\n",
      "Cleanup called...\n",
      "Cleanup called...\n"
     ]
    },
    {
     "name": "stdout",
     "output_type": "stream",
     "text": [
      " 6/37 [===>..........................] - ETA: 9s - loss: 0.4694 - accuracy: 0.7969"
     ]
    },
    {
     "name": "stderr",
     "output_type": "stream",
     "text": [
      "Cleanup called...\n",
      "Cleanup called...\n",
      "Cleanup called...\n",
      "Cleanup called...\n"
     ]
    },
    {
     "name": "stdout",
     "output_type": "stream",
     "text": [
      " 7/37 [====>.........................] - ETA: 8s - loss: 0.4731 - accuracy: 0.7902"
     ]
    },
    {
     "name": "stderr",
     "output_type": "stream",
     "text": [
      "Cleanup called...\n",
      "Cleanup called...\n",
      "Cleanup called...\n",
      "Cleanup called...\n",
      "Cleanup called...\n"
     ]
    },
    {
     "name": "stdout",
     "output_type": "stream",
     "text": [
      " 8/37 [=====>........................] - ETA: 8s - loss: 0.4882 - accuracy: 0.7773"
     ]
    },
    {
     "name": "stderr",
     "output_type": "stream",
     "text": [
      "Cleanup called...\n",
      "Cleanup called...\n",
      "Cleanup called...\n"
     ]
    },
    {
     "name": "stdout",
     "output_type": "stream",
     "text": [
      " 9/37 [======>.......................] - ETA: 8s - loss: 0.4833 - accuracy: 0.7778"
     ]
    },
    {
     "name": "stderr",
     "output_type": "stream",
     "text": [
      "Cleanup called...\n"
     ]
    },
    {
     "name": "stdout",
     "output_type": "stream",
     "text": [
      "10/37 [=======>......................] - ETA: 7s - loss: 0.4773 - accuracy: 0.7844"
     ]
    },
    {
     "name": "stderr",
     "output_type": "stream",
     "text": [
      "Cleanup called...\n",
      "Cleanup called...\n",
      "Cleanup called...\n",
      "Cleanup called...\n"
     ]
    },
    {
     "name": "stdout",
     "output_type": "stream",
     "text": [
      "11/37 [=======>......................] - ETA: 7s - loss: 0.4765 - accuracy: 0.7841"
     ]
    },
    {
     "name": "stderr",
     "output_type": "stream",
     "text": [
      "Cleanup called...\n",
      "Cleanup called...\n",
      "Cleanup called...\n"
     ]
    },
    {
     "name": "stdout",
     "output_type": "stream",
     "text": [
      "12/37 [========>.....................] - ETA: 7s - loss: 0.4899 - accuracy: 0.7812"
     ]
    },
    {
     "name": "stderr",
     "output_type": "stream",
     "text": [
      "Cleanup called...\n",
      "Cleanup called...\n",
      "Cleanup called...\n"
     ]
    },
    {
     "name": "stdout",
     "output_type": "stream",
     "text": [
      "13/37 [=========>....................] - ETA: 7s - loss: 0.4847 - accuracy: 0.7885"
     ]
    },
    {
     "name": "stderr",
     "output_type": "stream",
     "text": [
      "Cleanup called...\n",
      "Cleanup called...\n"
     ]
    },
    {
     "name": "stdout",
     "output_type": "stream",
     "text": [
      "14/37 [==========>...................] - ETA: 6s - loss: 0.4834 - accuracy: 0.7946"
     ]
    },
    {
     "name": "stderr",
     "output_type": "stream",
     "text": [
      "Cleanup called...\n",
      "Cleanup called...\n"
     ]
    },
    {
     "name": "stdout",
     "output_type": "stream",
     "text": [
      "15/37 [===========>..................] - ETA: 6s - loss: 0.4828 - accuracy: 0.7958"
     ]
    },
    {
     "name": "stderr",
     "output_type": "stream",
     "text": [
      "Cleanup called...\n",
      "Cleanup called...\n",
      "Cleanup called...\n"
     ]
    },
    {
     "name": "stdout",
     "output_type": "stream",
     "text": [
      "16/37 [===========>..................] - ETA: 6s - loss: 0.4817 - accuracy: 0.7930"
     ]
    },
    {
     "name": "stderr",
     "output_type": "stream",
     "text": [
      "Cleanup called...\n",
      "Cleanup called...\n",
      "Cleanup called...\n",
      "Cleanup called...\n"
     ]
    },
    {
     "name": "stdout",
     "output_type": "stream",
     "text": [
      "17/37 [============>.................] - ETA: 5s - loss: 0.4790 - accuracy: 0.7996"
     ]
    },
    {
     "name": "stderr",
     "output_type": "stream",
     "text": [
      "Cleanup called...\n",
      "Cleanup called...\n",
      "Cleanup called...\n",
      "Cleanup called...\n",
      "Cleanup called...\n"
     ]
    },
    {
     "name": "stdout",
     "output_type": "stream",
     "text": [
      "18/37 [=============>................] - ETA: 5s - loss: 0.4834 - accuracy: 0.7969"
     ]
    },
    {
     "name": "stderr",
     "output_type": "stream",
     "text": [
      "Cleanup called...\n"
     ]
    },
    {
     "name": "stdout",
     "output_type": "stream",
     "text": [
      "19/37 [==============>...............] - ETA: 5s - loss: 0.4844 - accuracy: 0.7977"
     ]
    },
    {
     "name": "stderr",
     "output_type": "stream",
     "text": [
      "Cleanup called...\n",
      "Cleanup called...\n",
      "Cleanup called...\n",
      "Cleanup called...\n",
      "Cleanup called...\n"
     ]
    },
    {
     "name": "stdout",
     "output_type": "stream",
     "text": [
      "20/37 [===============>..............] - ETA: 5s - loss: 0.4812 - accuracy: 0.7984"
     ]
    },
    {
     "name": "stderr",
     "output_type": "stream",
     "text": [
      "Cleanup called...\n",
      "Cleanup called...\n",
      "Cleanup called...\n",
      "Cleanup called...\n"
     ]
    },
    {
     "name": "stdout",
     "output_type": "stream",
     "text": [
      "21/37 [================>.............] - ETA: 4s - loss: 0.4779 - accuracy: 0.7991"
     ]
    },
    {
     "name": "stderr",
     "output_type": "stream",
     "text": [
      "Cleanup called...\n",
      "Cleanup called...\n",
      "Cleanup called...\n"
     ]
    },
    {
     "name": "stdout",
     "output_type": "stream",
     "text": [
      "22/37 [================>.............] - ETA: 4s - loss: 0.4770 - accuracy: 0.7983"
     ]
    },
    {
     "name": "stderr",
     "output_type": "stream",
     "text": [
      "Cleanup called...\n",
      "Cleanup called...\n",
      "Cleanup called...\n",
      "Cleanup called...\n"
     ]
    },
    {
     "name": "stdout",
     "output_type": "stream",
     "text": [
      "23/37 [=================>............] - ETA: 4s - loss: 0.4724 - accuracy: 0.8043"
     ]
    },
    {
     "name": "stderr",
     "output_type": "stream",
     "text": [
      "Cleanup called...\n",
      "Cleanup called...\n",
      "Cleanup called...\n",
      "Cleanup called...\n",
      "Cleanup called...\n"
     ]
    },
    {
     "name": "stdout",
     "output_type": "stream",
     "text": [
      "24/37 [==================>...........] - ETA: 3s - loss: 0.4692 - accuracy: 0.8073"
     ]
    },
    {
     "name": "stderr",
     "output_type": "stream",
     "text": [
      "Cleanup called...\n",
      "Cleanup called...\n",
      "Cleanup called...\n"
     ]
    },
    {
     "name": "stdout",
     "output_type": "stream",
     "text": [
      "25/37 [===================>..........] - ETA: 3s - loss: 0.4700 - accuracy: 0.8075"
     ]
    },
    {
     "name": "stderr",
     "output_type": "stream",
     "text": [
      "Cleanup called...\n"
     ]
    },
    {
     "name": "stdout",
     "output_type": "stream",
     "text": [
      "26/37 [====================>.........] - ETA: 3s - loss: 0.4730 - accuracy: 0.8005"
     ]
    },
    {
     "name": "stderr",
     "output_type": "stream",
     "text": [
      "Cleanup called...\n",
      "Cleanup called...\n",
      "Cleanup called...\n",
      "Cleanup called...\n",
      "Cleanup called...\n",
      "Cleanup called...\n",
      "Cleanup called...\n"
     ]
    },
    {
     "name": "stdout",
     "output_type": "stream",
     "text": [
      "37/37 [==============================] - ETA: 0s - loss: 0.4664 - accuracy: 0.7978"
     ]
    },
    {
     "name": "stderr",
     "output_type": "stream",
     "text": [
      "Cleanup called...\n",
      "Cleanup called...\n",
      "Cleanup called...\n",
      "Cleanup called...\n",
      "Cleanup called...\n",
      "Cleanup called...\n",
      "Cleanup called...\n",
      "Cleanup called...\n",
      "Cleanup called...\n",
      "Cleanup called...\n",
      "Cleanup called...\n",
      "Cleanup called...\n",
      "Cleanup called...\n"
     ]
    },
    {
     "name": "stdout",
     "output_type": "stream",
     "text": [
      "37/37 [==============================] - 12s 325ms/step - loss: 0.4664 - accuracy: 0.7978 - val_loss: 0.4611 - val_accuracy: 0.7597\n",
      "Epoch 7/10\n"
     ]
    },
    {
     "name": "stderr",
     "output_type": "stream",
     "text": [
      "Cleanup called...\n",
      "Cleanup called...\n",
      "Cleanup called...\n",
      "Cleanup called...\n",
      "Cleanup called...\n",
      "Cleanup called...\n",
      "Cleanup called...\n",
      "Cleanup called...\n",
      "Cleanup called...\n",
      "Cleanup called...\n",
      "Cleanup called...\n",
      "Cleanup called...\n",
      "Cleanup called...\n",
      "Cleanup called...\n",
      "Cleanup called...\n",
      "Cleanup called...\n",
      "Cleanup called...\n",
      "Cleanup called...\n",
      "Cleanup called...\n",
      "Cleanup called...\n",
      "Cleanup called...\n",
      "Cleanup called...\n",
      "Cleanup called...\n",
      "Cleanup called...\n",
      "Cleanup called...\n",
      "Cleanup called...\n",
      "Cleanup called...\n",
      "Cleanup called...\n",
      "Cleanup called...\n",
      "Cleanup called...\n",
      "Cleanup called...\n",
      "Cleanup called...\n",
      "Cleanup called...\n",
      "Cleanup called...\n",
      "Cleanup called...\n"
     ]
    },
    {
     "name": "stdout",
     "output_type": "stream",
     "text": [
      " 1/37 [..............................] - ETA: 24s - loss: 0.4857 - accuracy: 0.6562"
     ]
    },
    {
     "name": "stderr",
     "output_type": "stream",
     "text": [
      "Cleanup called...\n",
      "Cleanup called...\n",
      "Cleanup called...\n",
      "Cleanup called...\n",
      "Cleanup called...\n"
     ]
    },
    {
     "name": "stdout",
     "output_type": "stream",
     "text": [
      " 2/37 [>.............................] - ETA: 11s - loss: 0.4862 - accuracy: 0.7188"
     ]
    },
    {
     "name": "stderr",
     "output_type": "stream",
     "text": [
      "Cleanup called...\n",
      "Cleanup called...\n",
      "Cleanup called...\n"
     ]
    },
    {
     "name": "stdout",
     "output_type": "stream",
     "text": [
      " 3/37 [=>............................] - ETA: 11s - loss: 0.4615 - accuracy: 0.7396"
     ]
    },
    {
     "name": "stderr",
     "output_type": "stream",
     "text": [
      "Cleanup called...\n",
      "Cleanup called...\n",
      "Cleanup called...\n",
      "Cleanup called...\n",
      "Cleanup called...\n"
     ]
    },
    {
     "name": "stdout",
     "output_type": "stream",
     "text": [
      " 4/37 [==>...........................] - ETA: 10s - loss: 0.4694 - accuracy: 0.7266"
     ]
    },
    {
     "name": "stderr",
     "output_type": "stream",
     "text": [
      "Cleanup called...\n",
      "Cleanup called...\n",
      "Cleanup called...\n"
     ]
    },
    {
     "name": "stdout",
     "output_type": "stream",
     "text": [
      " 5/37 [===>..........................] - ETA: 10s - loss: 0.4613 - accuracy: 0.7437"
     ]
    },
    {
     "name": "stderr",
     "output_type": "stream",
     "text": [
      "Cleanup called...\n",
      "Cleanup called...\n",
      "Cleanup called...\n",
      "Cleanup called...\n",
      "Cleanup called...\n",
      "Cleanup called...\n",
      "Cleanup called...\n",
      "Cleanup called...\n"
     ]
    },
    {
     "name": "stdout",
     "output_type": "stream",
     "text": [
      " 6/37 [===>..........................] - ETA: 9s - loss: 0.4571 - accuracy: 0.7604 "
     ]
    },
    {
     "name": "stderr",
     "output_type": "stream",
     "text": [
      "Cleanup called...\n",
      "Cleanup called...\n",
      "Cleanup called...\n",
      "Cleanup called...\n"
     ]
    },
    {
     "name": "stdout",
     "output_type": "stream",
     "text": [
      " 7/37 [====>.........................] - ETA: 9s - loss: 0.4563 - accuracy: 0.7634"
     ]
    },
    {
     "name": "stderr",
     "output_type": "stream",
     "text": [
      "Cleanup called...\n",
      "Cleanup called...\n",
      "Cleanup called...\n",
      "Cleanup called...\n",
      "Cleanup called...\n"
     ]
    },
    {
     "name": "stdout",
     "output_type": "stream",
     "text": [
      " 8/37 [=====>........................] - ETA: 8s - loss: 0.4576 - accuracy: 0.7617"
     ]
    },
    {
     "name": "stderr",
     "output_type": "stream",
     "text": [
      "Cleanup called...\n",
      "Cleanup called...\n",
      "Cleanup called...\n"
     ]
    },
    {
     "name": "stdout",
     "output_type": "stream",
     "text": [
      " 9/37 [======>.......................] - ETA: 8s - loss: 0.4546 - accuracy: 0.7604"
     ]
    },
    {
     "name": "stderr",
     "output_type": "stream",
     "text": [
      "Cleanup called...\n"
     ]
    },
    {
     "name": "stdout",
     "output_type": "stream",
     "text": [
      "10/37 [=======>......................] - ETA: 8s - loss: 0.4496 - accuracy: 0.7594"
     ]
    },
    {
     "name": "stderr",
     "output_type": "stream",
     "text": [
      "Cleanup called...\n",
      "Cleanup called...\n",
      "Cleanup called...\n",
      "Cleanup called...\n"
     ]
    },
    {
     "name": "stdout",
     "output_type": "stream",
     "text": [
      "11/37 [=======>......................] - ETA: 7s - loss: 0.4532 - accuracy: 0.7614"
     ]
    },
    {
     "name": "stderr",
     "output_type": "stream",
     "text": [
      "Cleanup called...\n",
      "Cleanup called...\n",
      "Cleanup called...\n"
     ]
    },
    {
     "name": "stdout",
     "output_type": "stream",
     "text": [
      "12/37 [========>.....................] - ETA: 7s - loss: 0.4529 - accuracy: 0.7656"
     ]
    },
    {
     "name": "stderr",
     "output_type": "stream",
     "text": [
      "Cleanup called...\n",
      "Cleanup called...\n",
      "Cleanup called...\n"
     ]
    },
    {
     "name": "stdout",
     "output_type": "stream",
     "text": [
      "13/37 [=========>....................] - ETA: 7s - loss: 0.4470 - accuracy: 0.7716"
     ]
    },
    {
     "name": "stderr",
     "output_type": "stream",
     "text": [
      "Cleanup called...\n",
      "Cleanup called...\n"
     ]
    },
    {
     "name": "stdout",
     "output_type": "stream",
     "text": [
      "14/37 [==========>...................] - ETA: 6s - loss: 0.4485 - accuracy: 0.7701"
     ]
    },
    {
     "name": "stderr",
     "output_type": "stream",
     "text": [
      "Cleanup called...\n",
      "Cleanup called...\n"
     ]
    },
    {
     "name": "stdout",
     "output_type": "stream",
     "text": [
      "15/37 [===========>..................] - ETA: 6s - loss: 0.4520 - accuracy: 0.7667"
     ]
    },
    {
     "name": "stderr",
     "output_type": "stream",
     "text": [
      "Cleanup called...\n",
      "Cleanup called...\n",
      "Cleanup called...\n"
     ]
    },
    {
     "name": "stdout",
     "output_type": "stream",
     "text": [
      "16/37 [===========>..................] - ETA: 6s - loss: 0.4467 - accuracy: 0.7734"
     ]
    },
    {
     "name": "stderr",
     "output_type": "stream",
     "text": [
      "Cleanup called...\n",
      "Cleanup called...\n",
      "Cleanup called...\n",
      "Cleanup called...\n"
     ]
    },
    {
     "name": "stdout",
     "output_type": "stream",
     "text": [
      "17/37 [============>.................] - ETA: 5s - loss: 0.4400 - accuracy: 0.7831"
     ]
    },
    {
     "name": "stderr",
     "output_type": "stream",
     "text": [
      "Cleanup called...\n",
      "Cleanup called...\n",
      "Cleanup called...\n",
      "Cleanup called...\n",
      "Cleanup called...\n"
     ]
    },
    {
     "name": "stdout",
     "output_type": "stream",
     "text": [
      "18/37 [=============>................] - ETA: 5s - loss: 0.4432 - accuracy: 0.7778"
     ]
    },
    {
     "name": "stderr",
     "output_type": "stream",
     "text": [
      "Cleanup called...\n"
     ]
    },
    {
     "name": "stdout",
     "output_type": "stream",
     "text": [
      "19/37 [==============>...............] - ETA: 5s - loss: 0.4422 - accuracy: 0.7829"
     ]
    },
    {
     "name": "stderr",
     "output_type": "stream",
     "text": [
      "Cleanup called...\n",
      "Cleanup called...\n",
      "Cleanup called...\n",
      "Cleanup called...\n",
      "Cleanup called...\n"
     ]
    },
    {
     "name": "stdout",
     "output_type": "stream",
     "text": [
      "20/37 [===============>..............] - ETA: 5s - loss: 0.4422 - accuracy: 0.7844"
     ]
    },
    {
     "name": "stderr",
     "output_type": "stream",
     "text": [
      "Cleanup called...\n",
      "Cleanup called...\n",
      "Cleanup called...\n",
      "Cleanup called...\n"
     ]
    },
    {
     "name": "stdout",
     "output_type": "stream",
     "text": [
      "21/37 [================>.............] - ETA: 4s - loss: 0.4443 - accuracy: 0.7812"
     ]
    },
    {
     "name": "stderr",
     "output_type": "stream",
     "text": [
      "Cleanup called...\n",
      "Cleanup called...\n",
      "Cleanup called...\n"
     ]
    },
    {
     "name": "stdout",
     "output_type": "stream",
     "text": [
      "22/37 [================>.............] - ETA: 4s - loss: 0.4468 - accuracy: 0.7812"
     ]
    },
    {
     "name": "stderr",
     "output_type": "stream",
     "text": [
      "Cleanup called...\n",
      "Cleanup called...\n",
      "Cleanup called...\n",
      "Cleanup called...\n"
     ]
    },
    {
     "name": "stdout",
     "output_type": "stream",
     "text": [
      "23/37 [=================>............] - ETA: 4s - loss: 0.4503 - accuracy: 0.7799"
     ]
    },
    {
     "name": "stderr",
     "output_type": "stream",
     "text": [
      "Cleanup called...\n",
      "Cleanup called...\n",
      "Cleanup called...\n",
      "Cleanup called...\n",
      "Cleanup called...\n"
     ]
    },
    {
     "name": "stdout",
     "output_type": "stream",
     "text": [
      "24/37 [==================>...........] - ETA: 3s - loss: 0.4524 - accuracy: 0.7799"
     ]
    },
    {
     "name": "stderr",
     "output_type": "stream",
     "text": [
      "Cleanup called...\n",
      "Cleanup called...\n",
      "Cleanup called...\n"
     ]
    },
    {
     "name": "stdout",
     "output_type": "stream",
     "text": [
      "25/37 [===================>..........] - ETA: 3s - loss: 0.4517 - accuracy: 0.7800"
     ]
    },
    {
     "name": "stderr",
     "output_type": "stream",
     "text": [
      "Cleanup called...\n"
     ]
    },
    {
     "name": "stdout",
     "output_type": "stream",
     "text": [
      "26/37 [====================>.........] - ETA: 3s - loss: 0.4482 - accuracy: 0.7861"
     ]
    },
    {
     "name": "stderr",
     "output_type": "stream",
     "text": [
      "Cleanup called...\n",
      "Cleanup called...\n",
      "Cleanup called...\n",
      "Cleanup called...\n",
      "Cleanup called...\n",
      "Cleanup called...\n",
      "Cleanup called...\n"
     ]
    },
    {
     "name": "stdout",
     "output_type": "stream",
     "text": [
      "37/37 [==============================] - ETA: 0s - loss: 0.4474 - accuracy: 0.7918"
     ]
    },
    {
     "name": "stderr",
     "output_type": "stream",
     "text": [
      "Cleanup called...\n",
      "Cleanup called...\n",
      "Cleanup called...\n",
      "Cleanup called...\n",
      "Cleanup called...\n",
      "Cleanup called...\n",
      "Cleanup called...\n",
      "Cleanup called...\n",
      "Cleanup called...\n",
      "Cleanup called...\n",
      "Cleanup called...\n",
      "Cleanup called...\n",
      "Cleanup called...\n"
     ]
    },
    {
     "name": "stdout",
     "output_type": "stream",
     "text": [
      "37/37 [==============================] - 12s 325ms/step - loss: 0.4474 - accuracy: 0.7918 - val_loss: 0.4719 - val_accuracy: 0.7597\n",
      "Epoch 8/10\n"
     ]
    },
    {
     "name": "stderr",
     "output_type": "stream",
     "text": [
      "Cleanup called...\n",
      "Cleanup called...\n",
      "Cleanup called...\n",
      "Cleanup called...\n",
      "Cleanup called...\n",
      "Cleanup called...\n",
      "Cleanup called...\n",
      "Cleanup called...\n",
      "Cleanup called...\n",
      "Cleanup called...\n",
      "Cleanup called...\n",
      "Cleanup called...\n",
      "Cleanup called...\n",
      "Cleanup called...\n",
      "Cleanup called...\n",
      "Cleanup called...\n",
      "Cleanup called...\n",
      "Cleanup called...\n",
      "Cleanup called...\n",
      "Cleanup called...\n",
      "Cleanup called...\n",
      "Cleanup called...\n",
      "Cleanup called...\n",
      "Cleanup called...\n",
      "Cleanup called...\n",
      "Cleanup called...\n",
      "Cleanup called...\n",
      "Cleanup called...\n",
      "Cleanup called...\n",
      "Cleanup called...\n",
      "Cleanup called...\n",
      "Cleanup called...\n",
      "Cleanup called...\n",
      "Cleanup called...\n",
      "Cleanup called...\n"
     ]
    },
    {
     "name": "stdout",
     "output_type": "stream",
     "text": [
      " 1/37 [..............................] - ETA: 23s - loss: 0.4505 - accuracy: 0.7188"
     ]
    },
    {
     "name": "stderr",
     "output_type": "stream",
     "text": [
      "Cleanup called...\n",
      "Cleanup called...\n",
      "Cleanup called...\n",
      "Cleanup called...\n",
      "Cleanup called...\n"
     ]
    },
    {
     "name": "stdout",
     "output_type": "stream",
     "text": [
      " 2/37 [>.............................] - ETA: 11s - loss: 0.4290 - accuracy: 0.7344"
     ]
    },
    {
     "name": "stderr",
     "output_type": "stream",
     "text": [
      "Cleanup called...\n",
      "Cleanup called...\n",
      "Cleanup called...\n"
     ]
    },
    {
     "name": "stdout",
     "output_type": "stream",
     "text": [
      " 3/37 [=>............................] - ETA: 10s - loss: 0.4371 - accuracy: 0.7812"
     ]
    },
    {
     "name": "stderr",
     "output_type": "stream",
     "text": [
      "Cleanup called...\n",
      "Cleanup called...\n",
      "Cleanup called...\n",
      "Cleanup called...\n",
      "Cleanup called...\n"
     ]
    },
    {
     "name": "stdout",
     "output_type": "stream",
     "text": [
      " 4/37 [==>...........................] - ETA: 10s - loss: 0.4459 - accuracy: 0.7812"
     ]
    },
    {
     "name": "stderr",
     "output_type": "stream",
     "text": [
      "Cleanup called...\n",
      "Cleanup called...\n",
      "Cleanup called...\n"
     ]
    },
    {
     "name": "stdout",
     "output_type": "stream",
     "text": [
      " 5/37 [===>..........................] - ETA: 9s - loss: 0.4429 - accuracy: 0.7937 "
     ]
    },
    {
     "name": "stderr",
     "output_type": "stream",
     "text": [
      "Cleanup called...\n",
      "Cleanup called...\n",
      "Cleanup called...\n",
      "Cleanup called...\n",
      "Cleanup called...\n",
      "Cleanup called...\n",
      "Cleanup called...\n",
      "Cleanup called...\n"
     ]
    },
    {
     "name": "stdout",
     "output_type": "stream",
     "text": [
      " 6/37 [===>..........................] - ETA: 9s - loss: 0.4644 - accuracy: 0.7708"
     ]
    },
    {
     "name": "stderr",
     "output_type": "stream",
     "text": [
      "Cleanup called...\n",
      "Cleanup called...\n",
      "Cleanup called...\n",
      "Cleanup called...\n"
     ]
    },
    {
     "name": "stdout",
     "output_type": "stream",
     "text": [
      " 7/37 [====>.........................] - ETA: 9s - loss: 0.4551 - accuracy: 0.7812"
     ]
    },
    {
     "name": "stderr",
     "output_type": "stream",
     "text": [
      "Cleanup called...\n",
      "Cleanup called...\n",
      "Cleanup called...\n",
      "Cleanup called...\n",
      "Cleanup called...\n"
     ]
    },
    {
     "name": "stdout",
     "output_type": "stream",
     "text": [
      " 8/37 [=====>........................] - ETA: 8s - loss: 0.4586 - accuracy: 0.7695"
     ]
    },
    {
     "name": "stderr",
     "output_type": "stream",
     "text": [
      "Cleanup called...\n",
      "Cleanup called...\n",
      "Cleanup called...\n"
     ]
    },
    {
     "name": "stdout",
     "output_type": "stream",
     "text": [
      " 9/37 [======>.......................] - ETA: 8s - loss: 0.4688 - accuracy: 0.7604"
     ]
    },
    {
     "name": "stderr",
     "output_type": "stream",
     "text": [
      "Cleanup called...\n"
     ]
    },
    {
     "name": "stdout",
     "output_type": "stream",
     "text": [
      "10/37 [=======>......................] - ETA: 8s - loss: 0.4669 - accuracy: 0.7656"
     ]
    },
    {
     "name": "stderr",
     "output_type": "stream",
     "text": [
      "Cleanup called...\n",
      "Cleanup called...\n",
      "Cleanup called...\n",
      "Cleanup called...\n"
     ]
    },
    {
     "name": "stdout",
     "output_type": "stream",
     "text": [
      "11/37 [=======>......................] - ETA: 7s - loss: 0.4648 - accuracy: 0.7642"
     ]
    },
    {
     "name": "stderr",
     "output_type": "stream",
     "text": [
      "Cleanup called...\n",
      "Cleanup called...\n",
      "Cleanup called...\n"
     ]
    },
    {
     "name": "stdout",
     "output_type": "stream",
     "text": [
      "12/37 [========>.....................] - ETA: 7s - loss: 0.4587 - accuracy: 0.7682"
     ]
    },
    {
     "name": "stderr",
     "output_type": "stream",
     "text": [
      "Cleanup called...\n",
      "Cleanup called...\n",
      "Cleanup called...\n"
     ]
    },
    {
     "name": "stdout",
     "output_type": "stream",
     "text": [
      "13/37 [=========>....................] - ETA: 7s - loss: 0.4577 - accuracy: 0.7692"
     ]
    },
    {
     "name": "stderr",
     "output_type": "stream",
     "text": [
      "Cleanup called...\n",
      "Cleanup called...\n"
     ]
    },
    {
     "name": "stdout",
     "output_type": "stream",
     "text": [
      "14/37 [==========>...................] - ETA: 6s - loss: 0.4537 - accuracy: 0.7701"
     ]
    },
    {
     "name": "stderr",
     "output_type": "stream",
     "text": [
      "Cleanup called...\n",
      "Cleanup called...\n"
     ]
    },
    {
     "name": "stdout",
     "output_type": "stream",
     "text": [
      "15/37 [===========>..................] - ETA: 6s - loss: 0.4575 - accuracy: 0.7667"
     ]
    },
    {
     "name": "stderr",
     "output_type": "stream",
     "text": [
      "Cleanup called...\n",
      "Cleanup called...\n",
      "Cleanup called...\n"
     ]
    },
    {
     "name": "stdout",
     "output_type": "stream",
     "text": [
      "16/37 [===========>..................] - ETA: 6s - loss: 0.4535 - accuracy: 0.7734"
     ]
    },
    {
     "name": "stderr",
     "output_type": "stream",
     "text": [
      "Cleanup called...\n",
      "Cleanup called...\n",
      "Cleanup called...\n",
      "Cleanup called...\n"
     ]
    },
    {
     "name": "stdout",
     "output_type": "stream",
     "text": [
      "17/37 [============>.................] - ETA: 6s - loss: 0.4560 - accuracy: 0.7721"
     ]
    },
    {
     "name": "stderr",
     "output_type": "stream",
     "text": [
      "Cleanup called...\n",
      "Cleanup called...\n",
      "Cleanup called...\n",
      "Cleanup called...\n",
      "Cleanup called...\n"
     ]
    },
    {
     "name": "stdout",
     "output_type": "stream",
     "text": [
      "18/37 [=============>................] - ETA: 5s - loss: 0.4596 - accuracy: 0.7691"
     ]
    },
    {
     "name": "stderr",
     "output_type": "stream",
     "text": [
      "Cleanup called...\n"
     ]
    },
    {
     "name": "stdout",
     "output_type": "stream",
     "text": [
      "19/37 [==============>...............] - ETA: 5s - loss: 0.4581 - accuracy: 0.7681"
     ]
    },
    {
     "name": "stderr",
     "output_type": "stream",
     "text": [
      "Cleanup called...\n",
      "Cleanup called...\n",
      "Cleanup called...\n",
      "Cleanup called...\n",
      "Cleanup called...\n"
     ]
    },
    {
     "name": "stdout",
     "output_type": "stream",
     "text": [
      "20/37 [===============>..............] - ETA: 5s - loss: 0.4524 - accuracy: 0.7750"
     ]
    },
    {
     "name": "stderr",
     "output_type": "stream",
     "text": [
      "Cleanup called...\n",
      "Cleanup called...\n",
      "Cleanup called...\n",
      "Cleanup called...\n"
     ]
    },
    {
     "name": "stdout",
     "output_type": "stream",
     "text": [
      "21/37 [================>.............] - ETA: 4s - loss: 0.4551 - accuracy: 0.7708"
     ]
    },
    {
     "name": "stderr",
     "output_type": "stream",
     "text": [
      "Cleanup called...\n",
      "Cleanup called...\n",
      "Cleanup called...\n"
     ]
    },
    {
     "name": "stdout",
     "output_type": "stream",
     "text": [
      "22/37 [================>.............] - ETA: 4s - loss: 0.4529 - accuracy: 0.7727"
     ]
    },
    {
     "name": "stderr",
     "output_type": "stream",
     "text": [
      "Cleanup called...\n",
      "Cleanup called...\n",
      "Cleanup called...\n",
      "Cleanup called...\n"
     ]
    },
    {
     "name": "stdout",
     "output_type": "stream",
     "text": [
      "23/37 [=================>............] - ETA: 4s - loss: 0.4550 - accuracy: 0.7758"
     ]
    },
    {
     "name": "stderr",
     "output_type": "stream",
     "text": [
      "Cleanup called...\n",
      "Cleanup called...\n",
      "Cleanup called...\n",
      "Cleanup called...\n",
      "Cleanup called...\n"
     ]
    },
    {
     "name": "stdout",
     "output_type": "stream",
     "text": [
      "24/37 [==================>...........] - ETA: 3s - loss: 0.4572 - accuracy: 0.7747"
     ]
    },
    {
     "name": "stderr",
     "output_type": "stream",
     "text": [
      "Cleanup called...\n",
      "Cleanup called...\n",
      "Cleanup called...\n"
     ]
    },
    {
     "name": "stdout",
     "output_type": "stream",
     "text": [
      "25/37 [===================>..........] - ETA: 3s - loss: 0.4533 - accuracy: 0.7825"
     ]
    },
    {
     "name": "stderr",
     "output_type": "stream",
     "text": [
      "Cleanup called...\n"
     ]
    },
    {
     "name": "stdout",
     "output_type": "stream",
     "text": [
      "26/37 [====================>.........] - ETA: 3s - loss: 0.4553 - accuracy: 0.7825"
     ]
    },
    {
     "name": "stderr",
     "output_type": "stream",
     "text": [
      "Cleanup called...\n",
      "Cleanup called...\n",
      "Cleanup called...\n",
      "Cleanup called...\n",
      "Cleanup called...\n",
      "Cleanup called...\n",
      "Cleanup called...\n"
     ]
    },
    {
     "name": "stdout",
     "output_type": "stream",
     "text": [
      "37/37 [==============================] - ETA: 0s - loss: 0.4435 - accuracy: 0.7926"
     ]
    },
    {
     "name": "stderr",
     "output_type": "stream",
     "text": [
      "Cleanup called...\n",
      "Cleanup called...\n",
      "Cleanup called...\n",
      "Cleanup called...\n",
      "Cleanup called...\n",
      "Cleanup called...\n",
      "Cleanup called...\n",
      "Cleanup called...\n",
      "Cleanup called...\n",
      "Cleanup called...\n",
      "Cleanup called...\n",
      "Cleanup called...\n",
      "Cleanup called...\n"
     ]
    },
    {
     "name": "stdout",
     "output_type": "stream",
     "text": [
      "37/37 [==============================] - 12s 328ms/step - loss: 0.4435 - accuracy: 0.7926 - val_loss: 0.4461 - val_accuracy: 0.8140\n",
      "Epoch 9/10\n"
     ]
    },
    {
     "name": "stderr",
     "output_type": "stream",
     "text": [
      "Cleanup called...\n",
      "Cleanup called...\n",
      "Cleanup called...\n",
      "Cleanup called...\n",
      "Cleanup called...\n",
      "Cleanup called...\n",
      "Cleanup called...\n",
      "Cleanup called...\n",
      "Cleanup called...\n",
      "Cleanup called...\n",
      "Cleanup called...\n",
      "Cleanup called...\n",
      "Cleanup called...\n",
      "Cleanup called...\n",
      "Cleanup called...\n",
      "Cleanup called...\n",
      "Cleanup called...\n",
      "Cleanup called...\n",
      "Cleanup called...\n",
      "Cleanup called...\n",
      "Cleanup called...\n",
      "Cleanup called...\n",
      "Cleanup called...\n",
      "Cleanup called...\n",
      "Cleanup called...\n",
      "Cleanup called...\n",
      "Cleanup called...\n",
      "Cleanup called...\n",
      "Cleanup called...\n",
      "Cleanup called...\n",
      "Cleanup called...\n",
      "Cleanup called...\n",
      "Cleanup called...\n",
      "Cleanup called...\n",
      "Cleanup called...\n"
     ]
    },
    {
     "name": "stdout",
     "output_type": "stream",
     "text": [
      " 1/37 [..............................] - ETA: 23s - loss: 0.3883 - accuracy: 0.8438"
     ]
    },
    {
     "name": "stderr",
     "output_type": "stream",
     "text": [
      "Cleanup called...\n",
      "Cleanup called...\n",
      "Cleanup called...\n",
      "Cleanup called...\n",
      "Cleanup called...\n"
     ]
    },
    {
     "name": "stdout",
     "output_type": "stream",
     "text": [
      " 2/37 [>.............................] - ETA: 11s - loss: 0.4552 - accuracy: 0.7812"
     ]
    },
    {
     "name": "stderr",
     "output_type": "stream",
     "text": [
      "Cleanup called...\n",
      "Cleanup called...\n",
      "Cleanup called...\n"
     ]
    },
    {
     "name": "stdout",
     "output_type": "stream",
     "text": [
      " 3/37 [=>............................] - ETA: 11s - loss: 0.4570 - accuracy: 0.7812"
     ]
    },
    {
     "name": "stderr",
     "output_type": "stream",
     "text": [
      "Cleanup called...\n",
      "Cleanup called...\n",
      "Cleanup called...\n",
      "Cleanup called...\n",
      "Cleanup called...\n"
     ]
    },
    {
     "name": "stdout",
     "output_type": "stream",
     "text": [
      " 4/37 [==>...........................] - ETA: 10s - loss: 0.4414 - accuracy: 0.7891"
     ]
    },
    {
     "name": "stderr",
     "output_type": "stream",
     "text": [
      "Cleanup called...\n",
      "Cleanup called...\n",
      "Cleanup called...\n"
     ]
    },
    {
     "name": "stdout",
     "output_type": "stream",
     "text": [
      " 5/37 [===>..........................] - ETA: 10s - loss: 0.4382 - accuracy: 0.7937"
     ]
    },
    {
     "name": "stderr",
     "output_type": "stream",
     "text": [
      "Cleanup called...\n",
      "Cleanup called...\n",
      "Cleanup called...\n",
      "Cleanup called...\n",
      "Cleanup called...\n",
      "Cleanup called...\n",
      "Cleanup called...\n",
      "Cleanup called...\n"
     ]
    },
    {
     "name": "stdout",
     "output_type": "stream",
     "text": [
      " 6/37 [===>..........................] - ETA: 9s - loss: 0.4447 - accuracy: 0.7917 "
     ]
    },
    {
     "name": "stderr",
     "output_type": "stream",
     "text": [
      "Cleanup called...\n",
      "Cleanup called...\n",
      "Cleanup called...\n",
      "Cleanup called...\n"
     ]
    },
    {
     "name": "stdout",
     "output_type": "stream",
     "text": [
      " 7/37 [====>.........................] - ETA: 9s - loss: 0.4495 - accuracy: 0.7857"
     ]
    },
    {
     "name": "stderr",
     "output_type": "stream",
     "text": [
      "Cleanup called...\n",
      "Cleanup called...\n",
      "Cleanup called...\n",
      "Cleanup called...\n",
      "Cleanup called...\n"
     ]
    },
    {
     "name": "stdout",
     "output_type": "stream",
     "text": [
      " 8/37 [=====>........................] - ETA: 8s - loss: 0.4423 - accuracy: 0.7891"
     ]
    },
    {
     "name": "stderr",
     "output_type": "stream",
     "text": [
      "Cleanup called...\n",
      "Cleanup called...\n",
      "Cleanup called...\n"
     ]
    },
    {
     "name": "stdout",
     "output_type": "stream",
     "text": [
      " 9/37 [======>.......................] - ETA: 8s - loss: 0.4337 - accuracy: 0.8056"
     ]
    },
    {
     "name": "stderr",
     "output_type": "stream",
     "text": [
      "Cleanup called...\n"
     ]
    },
    {
     "name": "stdout",
     "output_type": "stream",
     "text": [
      "10/37 [=======>......................] - ETA: 8s - loss: 0.4278 - accuracy: 0.8125"
     ]
    },
    {
     "name": "stderr",
     "output_type": "stream",
     "text": [
      "Cleanup called...\n",
      "Cleanup called...\n",
      "Cleanup called...\n",
      "Cleanup called...\n"
     ]
    },
    {
     "name": "stdout",
     "output_type": "stream",
     "text": [
      "11/37 [=======>......................] - ETA: 7s - loss: 0.4195 - accuracy: 0.8210"
     ]
    },
    {
     "name": "stderr",
     "output_type": "stream",
     "text": [
      "Cleanup called...\n",
      "Cleanup called...\n",
      "Cleanup called...\n"
     ]
    },
    {
     "name": "stdout",
     "output_type": "stream",
     "text": [
      "12/37 [========>.....................] - ETA: 7s - loss: 0.4163 - accuracy: 0.8229"
     ]
    },
    {
     "name": "stderr",
     "output_type": "stream",
     "text": [
      "Cleanup called...\n",
      "Cleanup called...\n",
      "Cleanup called...\n"
     ]
    },
    {
     "name": "stdout",
     "output_type": "stream",
     "text": [
      "13/37 [=========>....................] - ETA: 7s - loss: 0.4161 - accuracy: 0.8173"
     ]
    },
    {
     "name": "stderr",
     "output_type": "stream",
     "text": [
      "Cleanup called...\n",
      "Cleanup called...\n"
     ]
    },
    {
     "name": "stdout",
     "output_type": "stream",
     "text": [
      "14/37 [==========>...................] - ETA: 7s - loss: 0.4173 - accuracy: 0.8125"
     ]
    },
    {
     "name": "stderr",
     "output_type": "stream",
     "text": [
      "Cleanup called...\n",
      "Cleanup called...\n"
     ]
    },
    {
     "name": "stdout",
     "output_type": "stream",
     "text": [
      "15/37 [===========>..................] - ETA: 6s - loss: 0.4159 - accuracy: 0.8146"
     ]
    },
    {
     "name": "stderr",
     "output_type": "stream",
     "text": [
      "Cleanup called...\n",
      "Cleanup called...\n",
      "Cleanup called...\n"
     ]
    },
    {
     "name": "stdout",
     "output_type": "stream",
     "text": [
      "16/37 [===========>..................] - ETA: 6s - loss: 0.4198 - accuracy: 0.8105"
     ]
    },
    {
     "name": "stderr",
     "output_type": "stream",
     "text": [
      "Cleanup called...\n",
      "Cleanup called...\n",
      "Cleanup called...\n",
      "Cleanup called...\n"
     ]
    },
    {
     "name": "stdout",
     "output_type": "stream",
     "text": [
      "17/37 [============>.................] - ETA: 6s - loss: 0.4222 - accuracy: 0.8070"
     ]
    },
    {
     "name": "stderr",
     "output_type": "stream",
     "text": [
      "Cleanup called...\n",
      "Cleanup called...\n",
      "Cleanup called...\n",
      "Cleanup called...\n",
      "Cleanup called...\n"
     ]
    },
    {
     "name": "stdout",
     "output_type": "stream",
     "text": [
      "18/37 [=============>................] - ETA: 5s - loss: 0.4226 - accuracy: 0.8056"
     ]
    },
    {
     "name": "stderr",
     "output_type": "stream",
     "text": [
      "Cleanup called...\n"
     ]
    },
    {
     "name": "stdout",
     "output_type": "stream",
     "text": [
      "19/37 [==============>...............] - ETA: 5s - loss: 0.4240 - accuracy: 0.8076"
     ]
    },
    {
     "name": "stderr",
     "output_type": "stream",
     "text": [
      "Cleanup called...\n",
      "Cleanup called...\n",
      "Cleanup called...\n",
      "Cleanup called...\n",
      "Cleanup called...\n"
     ]
    },
    {
     "name": "stdout",
     "output_type": "stream",
     "text": [
      "20/37 [===============>..............] - ETA: 5s - loss: 0.4262 - accuracy: 0.8062"
     ]
    },
    {
     "name": "stderr",
     "output_type": "stream",
     "text": [
      "Cleanup called...\n",
      "Cleanup called...\n",
      "Cleanup called...\n",
      "Cleanup called...\n"
     ]
    },
    {
     "name": "stdout",
     "output_type": "stream",
     "text": [
      "21/37 [================>.............] - ETA: 4s - loss: 0.4232 - accuracy: 0.8095"
     ]
    },
    {
     "name": "stderr",
     "output_type": "stream",
     "text": [
      "Cleanup called...\n",
      "Cleanup called...\n",
      "Cleanup called...\n"
     ]
    },
    {
     "name": "stdout",
     "output_type": "stream",
     "text": [
      "22/37 [================>.............] - ETA: 4s - loss: 0.4244 - accuracy: 0.8068"
     ]
    },
    {
     "name": "stderr",
     "output_type": "stream",
     "text": [
      "Cleanup called...\n",
      "Cleanup called...\n",
      "Cleanup called...\n",
      "Cleanup called...\n"
     ]
    },
    {
     "name": "stdout",
     "output_type": "stream",
     "text": [
      "23/37 [=================>............] - ETA: 4s - loss: 0.4290 - accuracy: 0.8057"
     ]
    },
    {
     "name": "stderr",
     "output_type": "stream",
     "text": [
      "Cleanup called...\n",
      "Cleanup called...\n",
      "Cleanup called...\n",
      "Cleanup called...\n",
      "Cleanup called...\n"
     ]
    },
    {
     "name": "stdout",
     "output_type": "stream",
     "text": [
      "24/37 [==================>...........] - ETA: 3s - loss: 0.4280 - accuracy: 0.8086"
     ]
    },
    {
     "name": "stderr",
     "output_type": "stream",
     "text": [
      "Cleanup called...\n",
      "Cleanup called...\n",
      "Cleanup called...\n"
     ]
    },
    {
     "name": "stdout",
     "output_type": "stream",
     "text": [
      "25/37 [===================>..........] - ETA: 3s - loss: 0.4323 - accuracy: 0.8050"
     ]
    },
    {
     "name": "stderr",
     "output_type": "stream",
     "text": [
      "Cleanup called...\n"
     ]
    },
    {
     "name": "stdout",
     "output_type": "stream",
     "text": [
      "26/37 [====================>.........] - ETA: 3s - loss: 0.4315 - accuracy: 0.8053"
     ]
    },
    {
     "name": "stderr",
     "output_type": "stream",
     "text": [
      "Cleanup called...\n",
      "Cleanup called...\n",
      "Cleanup called...\n",
      "Cleanup called...\n",
      "Cleanup called...\n",
      "Cleanup called...\n",
      "Cleanup called...\n"
     ]
    },
    {
     "name": "stdout",
     "output_type": "stream",
     "text": [
      "37/37 [==============================] - ETA: 0s - loss: 0.4286 - accuracy: 0.8106"
     ]
    },
    {
     "name": "stderr",
     "output_type": "stream",
     "text": [
      "Cleanup called...\n",
      "Cleanup called...\n",
      "Cleanup called...\n",
      "Cleanup called...\n",
      "Cleanup called...\n",
      "Cleanup called...\n",
      "Cleanup called...\n",
      "Cleanup called...\n",
      "Cleanup called...\n",
      "Cleanup called...\n",
      "Cleanup called...\n",
      "Cleanup called...\n",
      "Cleanup called...\n"
     ]
    },
    {
     "name": "stdout",
     "output_type": "stream",
     "text": [
      "37/37 [==============================] - 13s 331ms/step - loss: 0.4286 - accuracy: 0.8106 - val_loss: 0.4433 - val_accuracy: 0.7829\n",
      "Epoch 10/10\n"
     ]
    },
    {
     "name": "stderr",
     "output_type": "stream",
     "text": [
      "Cleanup called...\n",
      "Cleanup called...\n",
      "Cleanup called...\n",
      "Cleanup called...\n",
      "Cleanup called...\n",
      "Cleanup called...\n",
      "Cleanup called...\n",
      "Cleanup called...\n",
      "Cleanup called...\n",
      "Cleanup called...\n",
      "Cleanup called...\n",
      "Cleanup called...\n",
      "Cleanup called...\n",
      "Cleanup called...\n",
      "Cleanup called...\n",
      "Cleanup called...\n",
      "Cleanup called...\n",
      "Cleanup called...\n",
      "Cleanup called...\n",
      "Cleanup called...\n",
      "Cleanup called...\n",
      "Cleanup called...\n",
      "Cleanup called...\n",
      "Cleanup called...\n",
      "Cleanup called...\n",
      "Cleanup called...\n",
      "Cleanup called...\n",
      "Cleanup called...\n",
      "Cleanup called...\n",
      "Cleanup called...\n",
      "Cleanup called...\n",
      "Cleanup called...\n",
      "Cleanup called...\n",
      "Cleanup called...\n",
      "Cleanup called...\n"
     ]
    },
    {
     "name": "stdout",
     "output_type": "stream",
     "text": [
      " 1/37 [..............................] - ETA: 26s - loss: 0.4091 - accuracy: 0.8125"
     ]
    },
    {
     "name": "stderr",
     "output_type": "stream",
     "text": [
      "Cleanup called...\n",
      "Cleanup called...\n",
      "Cleanup called...\n",
      "Cleanup called...\n",
      "Cleanup called...\n"
     ]
    },
    {
     "name": "stdout",
     "output_type": "stream",
     "text": [
      " 2/37 [>.............................] - ETA: 11s - loss: 0.4166 - accuracy: 0.7812"
     ]
    },
    {
     "name": "stderr",
     "output_type": "stream",
     "text": [
      "Cleanup called...\n",
      "Cleanup called...\n",
      "Cleanup called...\n"
     ]
    },
    {
     "name": "stdout",
     "output_type": "stream",
     "text": [
      " 3/37 [=>............................] - ETA: 10s - loss: 0.3862 - accuracy: 0.8125"
     ]
    },
    {
     "name": "stderr",
     "output_type": "stream",
     "text": [
      "Cleanup called...\n",
      "Cleanup called...\n",
      "Cleanup called...\n",
      "Cleanup called...\n",
      "Cleanup called...\n"
     ]
    },
    {
     "name": "stdout",
     "output_type": "stream",
     "text": [
      " 4/37 [==>...........................] - ETA: 10s - loss: 0.3945 - accuracy: 0.8047"
     ]
    },
    {
     "name": "stderr",
     "output_type": "stream",
     "text": [
      "Cleanup called...\n",
      "Cleanup called...\n",
      "Cleanup called...\n"
     ]
    },
    {
     "name": "stdout",
     "output_type": "stream",
     "text": [
      " 5/37 [===>..........................] - ETA: 9s - loss: 0.3881 - accuracy: 0.8188 "
     ]
    },
    {
     "name": "stderr",
     "output_type": "stream",
     "text": [
      "Cleanup called...\n",
      "Cleanup called...\n",
      "Cleanup called...\n",
      "Cleanup called...\n",
      "Cleanup called...\n",
      "Cleanup called...\n",
      "Cleanup called...\n",
      "Cleanup called...\n"
     ]
    },
    {
     "name": "stdout",
     "output_type": "stream",
     "text": [
      " 6/37 [===>..........................] - ETA: 9s - loss: 0.3962 - accuracy: 0.8073"
     ]
    },
    {
     "name": "stderr",
     "output_type": "stream",
     "text": [
      "Cleanup called...\n",
      "Cleanup called...\n",
      "Cleanup called...\n",
      "Cleanup called...\n"
     ]
    },
    {
     "name": "stdout",
     "output_type": "stream",
     "text": [
      " 7/37 [====>.........................] - ETA: 9s - loss: 0.4249 - accuracy: 0.7902"
     ]
    },
    {
     "name": "stderr",
     "output_type": "stream",
     "text": [
      "Cleanup called...\n",
      "Cleanup called...\n",
      "Cleanup called...\n",
      "Cleanup called...\n",
      "Cleanup called...\n"
     ]
    },
    {
     "name": "stdout",
     "output_type": "stream",
     "text": [
      " 8/37 [=====>........................] - ETA: 8s - loss: 0.4198 - accuracy: 0.8008"
     ]
    },
    {
     "name": "stderr",
     "output_type": "stream",
     "text": [
      "Cleanup called...\n",
      "Cleanup called...\n",
      "Cleanup called...\n"
     ]
    },
    {
     "name": "stdout",
     "output_type": "stream",
     "text": [
      " 9/37 [======>.......................] - ETA: 8s - loss: 0.4348 - accuracy: 0.7882"
     ]
    },
    {
     "name": "stderr",
     "output_type": "stream",
     "text": [
      "Cleanup called...\n"
     ]
    },
    {
     "name": "stdout",
     "output_type": "stream",
     "text": [
      "10/37 [=======>......................] - ETA: 8s - loss: 0.4286 - accuracy: 0.7937"
     ]
    },
    {
     "name": "stderr",
     "output_type": "stream",
     "text": [
      "Cleanup called...\n",
      "Cleanup called...\n",
      "Cleanup called...\n",
      "Cleanup called...\n"
     ]
    },
    {
     "name": "stdout",
     "output_type": "stream",
     "text": [
      "11/37 [=======>......................] - ETA: 7s - loss: 0.4321 - accuracy: 0.7983"
     ]
    },
    {
     "name": "stderr",
     "output_type": "stream",
     "text": [
      "Cleanup called...\n",
      "Cleanup called...\n",
      "Cleanup called...\n"
     ]
    },
    {
     "name": "stdout",
     "output_type": "stream",
     "text": [
      "12/37 [========>.....................] - ETA: 7s - loss: 0.4199 - accuracy: 0.8125"
     ]
    },
    {
     "name": "stderr",
     "output_type": "stream",
     "text": [
      "Cleanup called...\n",
      "Cleanup called...\n",
      "Cleanup called...\n"
     ]
    },
    {
     "name": "stdout",
     "output_type": "stream",
     "text": [
      "13/37 [=========>....................] - ETA: 7s - loss: 0.4170 - accuracy: 0.8149"
     ]
    },
    {
     "name": "stderr",
     "output_type": "stream",
     "text": [
      "Cleanup called...\n",
      "Cleanup called...\n"
     ]
    },
    {
     "name": "stdout",
     "output_type": "stream",
     "text": [
      "14/37 [==========>...................] - ETA: 6s - loss: 0.4118 - accuracy: 0.8214"
     ]
    },
    {
     "name": "stderr",
     "output_type": "stream",
     "text": [
      "Cleanup called...\n",
      "Cleanup called...\n"
     ]
    },
    {
     "name": "stdout",
     "output_type": "stream",
     "text": [
      "15/37 [===========>..................] - ETA: 6s - loss: 0.4068 - accuracy: 0.8292"
     ]
    },
    {
     "name": "stderr",
     "output_type": "stream",
     "text": [
      "Cleanup called...\n",
      "Cleanup called...\n",
      "Cleanup called...\n"
     ]
    },
    {
     "name": "stdout",
     "output_type": "stream",
     "text": [
      "16/37 [===========>..................] - ETA: 6s - loss: 0.4133 - accuracy: 0.8184"
     ]
    },
    {
     "name": "stderr",
     "output_type": "stream",
     "text": [
      "Cleanup called...\n",
      "Cleanup called...\n",
      "Cleanup called...\n",
      "Cleanup called...\n"
     ]
    },
    {
     "name": "stdout",
     "output_type": "stream",
     "text": [
      "17/37 [============>.................] - ETA: 6s - loss: 0.4135 - accuracy: 0.8199"
     ]
    },
    {
     "name": "stderr",
     "output_type": "stream",
     "text": [
      "Cleanup called...\n",
      "Cleanup called...\n",
      "Cleanup called...\n",
      "Cleanup called...\n",
      "Cleanup called...\n"
     ]
    },
    {
     "name": "stdout",
     "output_type": "stream",
     "text": [
      "18/37 [=============>................] - ETA: 5s - loss: 0.4101 - accuracy: 0.8194"
     ]
    },
    {
     "name": "stderr",
     "output_type": "stream",
     "text": [
      "Cleanup called...\n"
     ]
    },
    {
     "name": "stdout",
     "output_type": "stream",
     "text": [
      "19/37 [==============>...............] - ETA: 5s - loss: 0.4086 - accuracy: 0.8207"
     ]
    },
    {
     "name": "stderr",
     "output_type": "stream",
     "text": [
      "Cleanup called...\n",
      "Cleanup called...\n",
      "Cleanup called...\n",
      "Cleanup called...\n",
      "Cleanup called...\n"
     ]
    },
    {
     "name": "stdout",
     "output_type": "stream",
     "text": [
      "20/37 [===============>..............] - ETA: 5s - loss: 0.4073 - accuracy: 0.8234"
     ]
    },
    {
     "name": "stderr",
     "output_type": "stream",
     "text": [
      "Cleanup called...\n",
      "Cleanup called...\n",
      "Cleanup called...\n",
      "Cleanup called...\n"
     ]
    },
    {
     "name": "stdout",
     "output_type": "stream",
     "text": [
      "21/37 [================>.............] - ETA: 4s - loss: 0.4104 - accuracy: 0.8214"
     ]
    },
    {
     "name": "stderr",
     "output_type": "stream",
     "text": [
      "Cleanup called...\n",
      "Cleanup called...\n",
      "Cleanup called...\n"
     ]
    },
    {
     "name": "stdout",
     "output_type": "stream",
     "text": [
      "22/37 [================>.............] - ETA: 4s - loss: 0.4145 - accuracy: 0.8210"
     ]
    },
    {
     "name": "stderr",
     "output_type": "stream",
     "text": [
      "Cleanup called...\n",
      "Cleanup called...\n",
      "Cleanup called...\n",
      "Cleanup called...\n"
     ]
    },
    {
     "name": "stdout",
     "output_type": "stream",
     "text": [
      "23/37 [=================>............] - ETA: 4s - loss: 0.4157 - accuracy: 0.8247"
     ]
    },
    {
     "name": "stderr",
     "output_type": "stream",
     "text": [
      "Cleanup called...\n",
      "Cleanup called...\n",
      "Cleanup called...\n",
      "Cleanup called...\n",
      "Cleanup called...\n"
     ]
    },
    {
     "name": "stdout",
     "output_type": "stream",
     "text": [
      "24/37 [==================>...........] - ETA: 3s - loss: 0.4141 - accuracy: 0.8268"
     ]
    },
    {
     "name": "stderr",
     "output_type": "stream",
     "text": [
      "Cleanup called...\n",
      "Cleanup called...\n",
      "Cleanup called...\n"
     ]
    },
    {
     "name": "stdout",
     "output_type": "stream",
     "text": [
      "25/37 [===================>..........] - ETA: 3s - loss: 0.4146 - accuracy: 0.8275"
     ]
    },
    {
     "name": "stderr",
     "output_type": "stream",
     "text": [
      "Cleanup called...\n"
     ]
    },
    {
     "name": "stdout",
     "output_type": "stream",
     "text": [
      "26/37 [====================>.........] - ETA: 3s - loss: 0.4130 - accuracy: 0.8281"
     ]
    },
    {
     "name": "stderr",
     "output_type": "stream",
     "text": [
      "Cleanup called...\n",
      "Cleanup called...\n",
      "Cleanup called...\n",
      "Cleanup called...\n",
      "Cleanup called...\n",
      "Cleanup called...\n",
      "Cleanup called...\n"
     ]
    },
    {
     "name": "stdout",
     "output_type": "stream",
     "text": [
      "37/37 [==============================] - ETA: 0s - loss: 0.4178 - accuracy: 0.8226"
     ]
    },
    {
     "name": "stderr",
     "output_type": "stream",
     "text": [
      "Cleanup called...\n",
      "Cleanup called...\n",
      "Cleanup called...\n",
      "Cleanup called...\n",
      "Cleanup called...\n",
      "Cleanup called...\n",
      "Cleanup called...\n",
      "Cleanup called...\n",
      "Cleanup called...\n",
      "Cleanup called...\n",
      "Cleanup called...\n",
      "Cleanup called...\n",
      "Cleanup called...\n"
     ]
    },
    {
     "name": "stdout",
     "output_type": "stream",
     "text": [
      "37/37 [==============================] - 13s 327ms/step - loss: 0.4178 - accuracy: 0.8226 - val_loss: 0.4437 - val_accuracy: 0.7752\n"
     ]
    },
    {
     "data": {
      "image/png": "[encoded data removed]",
      "text/plain": [
       "<Figure size 432x288 with 1 Axes>"
      ]
     },
     "metadata": {
      "needs_background": "light"
     },
     "output_type": "display_data"
    },
    {
     "data": {
      "image/png": "[encoded data removed]",
      "text/plain": [
       "<Figure size 432x288 with 1 Axes>"
      ]
     },
     "metadata": {
      "needs_background": "light"
     },
     "output_type": "display_data"
    }
   ],
   "source": [
    "for model_name, base_model in models:\n",
    "    train(model_name, base_model)"
   ]
  },
  {
   "cell_type": "code",
   "execution_count": 13,
   "id": "68b56d4c",
   "metadata": {
    "execution": {
     "iopub.execute_input": "2022-11-07T16:01:37.347821Z",
     "iopub.status.busy": "2022-11-07T16:01:37.346255Z",
     "iopub.status.idle": "2022-11-07T16:01:38.394836Z",
     "shell.execute_reply": "2022-11-07T16:01:38.393668Z"
    },
    "papermill": {
     "duration": 1.141701,
     "end_time": "2022-11-07T16:01:38.397300",
     "exception": false,
     "start_time": "2022-11-07T16:01:37.255599",
     "status": "completed"
    },
    "tags": []
   },
   "outputs": [
    {
     "name": "stdout",
     "output_type": "stream",
     "text": [
      "logs/efficient-b7:\r\n",
      "model_history.csv\r\n",
      "\r\n",
      "logs/mobilenet-v3-large:\r\n",
      "model_history.csv\r\n",
      "\r\n",
      "logs/mobilenet-v3-small:\r\n",
      "model_history.csv\r\n"
     ]
    }
   ],
   "source": [
    "!ls logs/*"
   ]
  },
  {
   "cell_type": "code",
   "execution_count": null,
   "id": "60838454",
   "metadata": {
    "papermill": {
     "duration": 0.088749,
     "end_time": "2022-11-07T16:01:38.577194",
     "exception": false,
     "start_time": "2022-11-07T16:01:38.488445",
     "status": "completed"
    },
    "tags": []
   },
   "outputs": [],
   "source": []
  }
 ],
 "metadata": {
  "kernelspec": {
   "display_name": "Python 3",
   "language": "python",
   "name": "python3"
  },
  "language_info": {
   "codemirror_mode": {
    "name": "ipython",
    "version": 3
   },
   "file_extension": ".py",
   "mimetype": "text/x-python",
   "name": "python",
   "nbconvert_exporter": "python",
   "pygments_lexer": "ipython3",
   "version": "3.7.12"
  },
  "papermill": {
   "default_parameters": {},
   "duration": 332.195903,
   "end_time": "2022-11-07T16:01:41.488125",
   "environment_variables": {},
   "exception": null,
   "input_path": "__notebook__.ipynb",
   "output_path": "__notebook__.ipynb",
   "parameters": {},
   "start_time": "2022-11-07T15:56:09.292222",
   "version": "2.3.4"
  }
 },
 "nbformat": 4,
 "nbformat_minor": 5
}
